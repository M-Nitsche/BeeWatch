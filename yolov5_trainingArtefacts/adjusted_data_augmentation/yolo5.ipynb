{
  "nbformat": 4,
  "nbformat_minor": 0,
  "metadata": {
    "accelerator": "GPU",
    "colab": {
      "name": "yolo5.ipynb",
      "provenance": [],
      "collapsed_sections": []
    },
    "kernelspec": {
      "display_name": "Python 3",
      "name": "python3"
    },
    "language_info": {
      "name": "python"
    }
  },
  "cells": [
    {
      "cell_type": "code",
      "metadata": {
        "colab": {
          "base_uri": "https://localhost:8080/"
        },
        "id": "iKQEagxToeGB",
        "outputId": "858ea046-6dfe-48ce-83f8-ede9fb005435"
      },
      "source": [
        "#mount drive\n",
        "\n",
        "from google.colab import drive\n",
        "drive.mount('/content/gdrive')"
      ],
      "execution_count": 1,
      "outputs": [
        {
          "output_type": "stream",
          "text": [
            "Mounted at /content/gdrive\n"
          ],
          "name": "stdout"
        }
      ]
    },
    {
      "cell_type": "code",
      "metadata": {
        "colab": {
          "base_uri": "https://localhost:8080/"
        },
        "id": "H046FFuSpX1I",
        "outputId": "6165751b-e031-4dbf-c181-d96f395c354a"
      },
      "source": [
        "%cd gdrive/MyDrive/yolov5/"
      ],
      "execution_count": 2,
      "outputs": [
        {
          "output_type": "stream",
          "text": [
            "/content/gdrive/MyDrive/yolov5\n"
          ],
          "name": "stdout"
        }
      ]
    },
    {
      "cell_type": "code",
      "metadata": {
        "colab": {
          "base_uri": "https://localhost:8080/"
        },
        "id": "S8ZbZuF3uZmi",
        "outputId": "b72b6081-2f30-489f-c8c0-a9581b4e5019"
      },
      "source": [
        "%ls"
      ],
      "execution_count": null,
      "outputs": [
        {
          "output_type": "stream",
          "text": [
            "\u001b[0m\u001b[01;34mgdrive\u001b[0m/  \u001b[01;34msample_data\u001b[0m/\n"
          ],
          "name": "stdout"
        }
      ]
    },
    {
      "cell_type": "code",
      "metadata": {
        "id": "0cPkjujRn9UI"
      },
      "source": [
        "!git clone https://github.com/ultralytics/yolov5  # clone repo\n",
        "!git pull\n",
        "%cd yolov5\n",
        "%pip install -qr requirements.txt  # install dependencies\n",
        "\n",
        "import torch\n",
        "from IPython.display import Image, clear_output  # to display images\n",
        "\n",
        "clear_output()\n",
        "print(f\"Setup complete. Using torch {torch.__version__} ({torch.cuda.get_device_properties(0).name if torch.cuda.is_available() else 'CPU'})\")"
      ],
      "execution_count": null,
      "outputs": []
    },
    {
      "cell_type": "code",
      "metadata": {
        "colab": {
          "base_uri": "https://localhost:8080/"
        },
        "id": "XHrEkodRucXK",
        "outputId": "4c35d482-8ca2-4b45-e12b-51e78b0113bc"
      },
      "source": [
        "#when resuming training \n",
        "%pip install -qr requirements.txt  # install dependencies\n",
        "\n",
        "import torch\n",
        "from IPython.display import Image, clear_output  # to display images\n",
        "\n",
        "clear_output()\n",
        "print(f\"Setup complete. Using torch {torch.__version__} ({torch.cuda.get_device_properties(0).name if torch.cuda.is_available() else 'CPU'})\")"
      ],
      "execution_count": 5,
      "outputs": [
        {
          "output_type": "stream",
          "text": [
            "Setup complete. Using torch 1.9.0+cu102 (Tesla T4)\n"
          ],
          "name": "stdout"
        }
      ]
    },
    {
      "cell_type": "code",
      "metadata": {
        "id": "uUlm4ZTap7nG"
      },
      "source": [
        "#download and unzip training images - final_data_set\n",
        "\n",
        "!curl -L \"\" > roboflow.zip; unzip roboflow.zip; rm roboflow.zip"
      ],
      "execution_count": null,
      "outputs": []
    },
    {
      "cell_type": "code",
      "metadata": {
        "id": "KoHiZfpYsBA9"
      },
      "source": [
        "%pip install wandb"
      ],
      "execution_count": null,
      "outputs": []
    },
    {
      "cell_type": "code",
      "metadata": {
        "id": "pU-gXtyws0KL"
      },
      "source": [
        "# Weights & Biases  (optional)\n",
        "import wandb\n",
        "wandb.login()"
      ],
      "execution_count": null,
      "outputs": []
    },
    {
      "cell_type": "code",
      "metadata": {
        "id": "cyMMAyLas0-B"
      },
      "source": [
        "# Tensorboard  (optional)\n",
        "%load_ext tensorboard\n",
        "%tensorboard --logdir runs/train"
      ],
      "execution_count": null,
      "outputs": []
    },
    {
      "cell_type": "code",
      "metadata": {
        "id": "wOZfudRorn-g"
      },
      "source": [
        "#start training\n",
        "!python train.py --img 640 --batch 40 --epochs 300 --data bee_costum_aug.yaml --weights yolov5s.pt"
      ],
      "execution_count": null,
      "outputs": []
    },
    {
      "cell_type": "code",
      "metadata": {
        "id": "68pTN9AE5Igj"
      },
      "source": [
        "##resume training\n",
        "!python train.py  --img 640 --batch 40 --epochs 300 --data bee_costum_aug.yaml --resume /content/gdrive/MyDrive/yolov5/runs/train/exp6/weights/last.pt"
      ],
      "execution_count": null,
      "outputs": []
    },
    {
      "cell_type": "code",
      "metadata": {
        "id": "klm1uGtssY8V"
      },
      "source": [
        "from utils.plots import plot_results \n",
        "plot_results(save_dir='runs/train/exp6')  # plot all results*.txt files in 'runs/train/exp'"
      ],
      "execution_count": 3,
      "outputs": []
    },
    {
      "cell_type": "code",
      "metadata": {
        "colab": {
          "base_uri": "https://localhost:8080/"
        },
        "id": "C9J4yRGj1RP6",
        "outputId": "5bd23ba2-d34d-4374-d142-d103b507ad58"
      },
      "source": [
        "!python val.py --data bee_costum_aug.yaml --weights /content/gdrive/MyDrive/yolov5/runs/train/exp6/weights/best.pt --img 640"
      ],
      "execution_count": 6,
      "outputs": [
        {
          "output_type": "stream",
          "text": [
            "\u001b[34m\u001b[1mval: \u001b[0mdata=bee_costum_aug.yaml, weights=['/content/gdrive/MyDrive/yolov5/runs/train/exp6/weights/best.pt'], batch_size=32, imgsz=640, conf_thres=0.001, iou_thres=0.6, task=val, device=, single_cls=False, augment=False, verbose=False, save_txt=False, save_hybrid=False, save_conf=False, save_json=False, project=runs/val, name=exp, exist_ok=False, half=False\n",
            "YOLOv5 🚀 2021-7-20 torch 1.9.0+cu102 CUDA:0 (Tesla T4, 15109.75MB)\n",
            "\n",
            "Fusing layers... \n",
            "/usr/local/lib/python3.7/dist-packages/torch/nn/functional.py:718: UserWarning: Named tensors and all their associated APIs are an experimental feature and subject to change. Please do not use them for anything important until they are released as stable. (Triggered internally at  /pytorch/c10/core/TensorImpl.h:1156.)\n",
            "  return torch.max_pool2d(input, kernel_size, stride, padding, dilation, ceil_mode)\n",
            "Model Summary: 224 layers, 7053910 parameters, 0 gradients, 16.3 GFLOPs\n",
            "\u001b[34m\u001b[1mval: \u001b[0mScanning 'with_aug/valid/labels.cache' images and labels... 931 found, 0 missing, 87 empty, 0 corrupted: 100% 931/931 [00:00<00:00, 2769430.51it/s]\n",
            "               Class     Images     Labels          P          R     mAP@.5 mAP@.5:.95: 100% 30/30 [00:28<00:00,  1.05it/s]\n",
            "                 all        931       1158      0.789      0.524      0.608      0.236\n",
            "Speed: 0.1ms pre-process, 5.1ms inference, 1.6ms NMS per image at shape (32, 3, 640, 640)\n",
            "Results saved to runs/val/exp2\n"
          ],
          "name": "stdout"
        }
      ]
    },
    {
      "cell_type": "code",
      "metadata": {
        "colab": {
          "base_uri": "https://localhost:8080/"
        },
        "id": "G3Ffacqt4am8",
        "outputId": "e8761c23-9690-476f-855f-9b85b438ce34"
      },
      "source": [
        "!python val.py --data bee_costum_aug.yaml --weights /content/gdrive/MyDrive/yolov5/runs/train/exp6/weights/best.pt --img 640 --task test"
      ],
      "execution_count": 7,
      "outputs": [
        {
          "output_type": "stream",
          "text": [
            "\u001b[34m\u001b[1mval: \u001b[0mdata=bee_costum_aug.yaml, weights=['/content/gdrive/MyDrive/yolov5/runs/train/exp6/weights/best.pt'], batch_size=32, imgsz=640, conf_thres=0.001, iou_thres=0.6, task=test, device=, single_cls=False, augment=False, verbose=False, save_txt=False, save_hybrid=False, save_conf=False, save_json=False, project=runs/val, name=exp, exist_ok=False, half=False\n",
            "YOLOv5 🚀 2021-7-20 torch 1.9.0+cu102 CUDA:0 (Tesla T4, 15109.75MB)\n",
            "\n",
            "Fusing layers... \n",
            "/usr/local/lib/python3.7/dist-packages/torch/nn/functional.py:718: UserWarning: Named tensors and all their associated APIs are an experimental feature and subject to change. Please do not use them for anything important until they are released as stable. (Triggered internally at  /pytorch/c10/core/TensorImpl.h:1156.)\n",
            "  return torch.max_pool2d(input, kernel_size, stride, padding, dilation, ceil_mode)\n",
            "Model Summary: 224 layers, 7053910 parameters, 0 gradients, 16.3 GFLOPs\n",
            "\u001b[34m\u001b[1mtest: \u001b[0mScanning 'with_aug/test/labels' images and labels...79 found, 0 missing, 0 empty, 0 corrupted: 100% 79/79 [00:30<00:00,  2.59it/s]\n",
            "\u001b[34m\u001b[1mtest: \u001b[0mNew cache created: with_aug/test/labels.cache\n",
            "               Class     Images     Labels          P          R     mAP@.5 mAP@.5:.95: 100% 3/3 [00:02<00:00,  1.16it/s]\n",
            "                 all         79         86      0.769      0.697      0.739      0.354\n",
            "Speed: 0.1ms pre-process, 9.2ms inference, 1.9ms NMS per image at shape (32, 3, 640, 640)\n",
            "Results saved to runs/val/exp3\n"
          ],
          "name": "stdout"
        }
      ]
    }
  ]
}