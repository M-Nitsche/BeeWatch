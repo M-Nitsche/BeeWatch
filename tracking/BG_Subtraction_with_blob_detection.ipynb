{
 "cells": [
  {
   "cell_type": "code",
   "execution_count": 1,
   "id": "3820b456",
   "metadata": {},
   "outputs": [],
   "source": [
    "import cv2\n",
    "import numpy as np\n",
    "\n",
    "cap = cv2.VideoCapture(\"/Users/whatsupaleks/Downloads/bees_demo.mp4\")\n",
    "\n",
    "fgbg = cv2.createBackgroundSubtractorMOG2(detectShadows=False)\n",
    "\n",
    "# Set up the detector with default parameters.  \n",
    "detector = cv2.SimpleBlobDetector() \n",
    "\n",
    "#Set up the parameters for the detector.\n",
    "params = cv2.SimpleBlobDetector_Params()\n",
    "\n",
    "params.blobColor = 255\n",
    "params.filterByColor = True\n",
    "\n",
    "params.minArea = 300\n",
    "params.maxArea = 10000\n",
    "params.filterByArea = True\n",
    "\n",
    "params.minThreshold = 1;\n",
    "params.maxThreshold = 255;\n",
    "\n",
    "params.filterByInertia = False\n",
    "params.filterByConvexity = False\n",
    "\n",
    "params.filterByCircularity = True\n",
    "params.minCircularity = 0.1\n",
    "\n",
    "ver = (cv2.__version__).split('.')\n",
    "if int(ver[0]) < 3:\n",
    "    detector = cv2.SimpleBlobDetector(params)\n",
    "else:\n",
    "    detector = cv2.SimpleBlobDetector_create(params)\n",
    "\n",
    "while(1):\n",
    "    ret, frame = cap.read()\n",
    "    if not ret:\n",
    "        break\n",
    "\n",
    "    fgmask = fgbg.apply(frame)\n",
    "    \n",
    "    keypoints = detector.detect(fgmask)\n",
    "    im_with_keypoints = cv2.drawKeypoints(fgmask, keypoints, np.array([]), (0,0,255), cv2.DRAW_MATCHES_FLAGS_DRAW_RICH_KEYPOINTS)\n",
    "    \n",
    "    cv2.imshow('frame',im_with_keypoints)\n",
    "    k = cv2.waitKey(30) & 0xff\n",
    "    if k == 27:\n",
    "        break\n",
    "\n",
    "cap.release()\n",
    "cv2.destroyAllWindows()"
   ]
  },
  {
   "cell_type": "code",
   "execution_count": null,
   "id": "e7e62770",
   "metadata": {},
   "outputs": [],
   "source": []
  }
 ],
 "metadata": {
  "kernelspec": {
   "display_name": "beewatch",
   "language": "python",
   "name": "beewatch"
  },
  "language_info": {
   "codemirror_mode": {
    "name": "ipython",
    "version": 3
   },
   "file_extension": ".py",
   "mimetype": "text/x-python",
   "name": "python",
   "nbconvert_exporter": "python",
   "pygments_lexer": "ipython3",
   "version": "3.9.2"
  }
 },
 "nbformat": 4,
 "nbformat_minor": 5
}
