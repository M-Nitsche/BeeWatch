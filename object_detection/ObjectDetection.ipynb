{
 "cells": [
  {
   "cell_type": "markdown",
   "metadata": {
    "id": "T2O2ofZ0y1mz"
   },
   "source": [
    "This Notebook is a copy of https://github.com/nicknochnack/TFODCourse/blob/main/.ipynb_checkpoints/2.%20Training%20and%20Detection-checkpoint.ipynb \n",
    "view https://www.youtube.com/watch?v=yqkISICHH-U"
   ]
  },
  {
   "cell_type": "markdown",
   "metadata": {
    "id": "iAgkk7vry_fJ"
   },
   "source": [
    "**Paths**"
   ]
  },
  {
   "cell_type": "markdown",
   "metadata": {
    "id": "aO_jC-ywzbSq"
   },
   "source": [
    "The next cell will create all the needed folders"
   ]
  },
  {
   "cell_type": "code",
   "execution_count": 1,
   "metadata": {
    "id": "w3fxNDrTy97T"
   },
   "outputs": [],
   "source": [
    "import os\n",
    "CUSTOM_MODEL_NAME = 'my_efficient' \n",
    "PRETRAINED_MODEL_NAME = \"efficientdet_d1_coco17_tpu-32\" #'ssd_mobilenet_v2_fpnlite_320x320_coco17_tpu-8'\n",
    "PRETRAINED_MODEL_URL = \"http://download.tensorflow.org/models/object_detection/tf2/20200711/efficientdet_d1_coco17_tpu-32.tar.gz\" \n",
    "# 'http://download.tensorflow.org/models/object_detection/tf2/20200711/ssd_mobilenet_v2_fpnlite_320x320_coco17_tpu-8.tar.gz'\n",
    "TF_RECORD_SCRIPT_NAME = 'generate_tfrecord.py'\n",
    "LABEL_MAP_NAME = 'label_map.pbtxt'\n",
    "\n",
    "paths = {\n",
    "    'WORKSPACE_PATH': os.path.join('Tensorflow', 'workspace'),\n",
    "    'SCRIPTS_PATH': os.path.join('Tensorflow','scripts'),\n",
    "    'APIMODEL_PATH': os.path.join('Tensorflow','models'),\n",
    "    'ANNOTATION_PATH': os.path.join('Tensorflow', 'workspace','annotations'),\n",
    "    'IMAGE_PATH': os.path.join('Tensorflow', 'workspace','images'),\n",
    "    'MODEL_PATH': os.path.join('Tensorflow', 'workspace','models'),\n",
    "    'PRETRAINED_MODEL_PATH': os.path.join('Tensorflow', 'workspace','pre-trained-models'),\n",
    "    'CHECKPOINT_PATH': os.path.join('Tensorflow', 'workspace','models',CUSTOM_MODEL_NAME), \n",
    "    'OUTPUT_PATH': os.path.join('Tensorflow', 'workspace','models',CUSTOM_MODEL_NAME, 'export'), \n",
    "    'TFJS_PATH':os.path.join('Tensorflow', 'workspace','models',CUSTOM_MODEL_NAME, 'tfjsexport'), \n",
    "    'TFLITE_PATH':os.path.join('Tensorflow', 'workspace','models',CUSTOM_MODEL_NAME, 'tfliteexport'), \n",
    "    'PROTOC_PATH':os.path.join('Tensorflow','protoc')\n",
    " }\n",
    "\n",
    "files = {\n",
    "    'PIPELINE_CONFIG':os.path.join('Tensorflow', 'workspace','models', CUSTOM_MODEL_NAME, 'pipeline.config'),\n",
    "    'TF_RECORD_SCRIPT': os.path.join(paths['SCRIPTS_PATH'], TF_RECORD_SCRIPT_NAME), \n",
    "    'LABELMAP': os.path.join(paths['ANNOTATION_PATH'], LABEL_MAP_NAME)\n",
    "}\n",
    "\n",
    "for path in paths.values():\n",
    "    if not os.path.exists(path):\n",
    "        if os.name == 'posix':\n",
    "            !mkdir -p {path}\n",
    "        if os.name == 'nt':\n",
    "            !mkdir {path}"
   ]
  },
  {
   "cell_type": "markdown",
   "metadata": {
    "id": "5-fP1hR1zjdc"
   },
   "source": [
    "**Download TF Models Pretrained Models from Tensorflow Model Zoo and Install TFOD**"
   ]
  },
  {
   "cell_type": "markdown",
   "metadata": {
    "id": "1cwAeKBH0bgq"
   },
   "source": [
    "https://tensorflow-object-detection-api-tutorial.readthedocs.io/en/latest/training.html"
   ]
  },
  {
   "cell_type": "code",
   "execution_count": 2,
   "metadata": {
    "id": "Twrwbeyuy9-h"
   },
   "outputs": [],
   "source": [
    "if os.name=='nt':\n",
    "    !pip install wget\n",
    "    import wget"
   ]
  },
  {
   "cell_type": "code",
   "execution_count": 3,
   "metadata": {
    "colab": {
     "base_uri": "https://localhost:8080/"
    },
    "id": "jcmjTtyfy-Bc",
    "outputId": "046ca74f-978e-4525-db6c-99023ae5e2f6"
   },
   "outputs": [
    {
     "name": "stdout",
     "output_type": "stream",
     "text": [
      "Cloning into 'Tensorflow/models'...\n",
      "remote: Enumerating objects: 57714, done.\u001b[K\n",
      "remote: Counting objects: 100% (157/157), done.\u001b[K\n",
      "remote: Compressing objects: 100% (70/70), done.\u001b[K\n",
      "remote: Total 57714 (delta 109), reused 130 (delta 87), pack-reused 57557\u001b[K\n",
      "Receiving objects: 100% (57714/57714), 572.94 MiB | 30.57 MiB/s, done.\n",
      "Resolving deltas: 100% (40053/40053), done.\n"
     ]
    }
   ],
   "source": [
    "if not os.path.exists(os.path.join(paths['APIMODEL_PATH'], 'research', 'object_detection')):\n",
    "    !git clone https://github.com/tensorflow/models {paths['APIMODEL_PATH']}"
   ]
  },
  {
   "cell_type": "code",
   "execution_count": 4,
   "metadata": {
    "colab": {
     "base_uri": "https://localhost:8080/"
    },
    "id": "qGzrWeamy-Ee",
    "outputId": "d3667534-a5c1-4a48-ad5a-d9e00721c8e3"
   },
   "outputs": [
    {
     "name": "stdout",
     "output_type": "stream",
     "text": [
      "Reading package lists... Done\n",
      "Building dependency tree       \n",
      "Reading state information... Done\n",
      "protobuf-compiler is already the newest version (3.0.0-9.1ubuntu1).\n",
      "0 upgraded, 0 newly installed, 0 to remove and 39 not upgraded.\n",
      "Processing /content/Tensorflow/models/research\n",
      "Collecting avro-python3\n",
      "  Downloading https://files.pythonhosted.org/packages/cc/97/7a6970380ca8db9139a3cc0b0e3e0dd3e4bc584fb3644e1d06e71e1a55f0/avro-python3-1.10.2.tar.gz\n",
      "Collecting apache-beam\n",
      "\u001b[?25l  Downloading https://files.pythonhosted.org/packages/ac/c9/395a9759dfbf9e87203a69c33b2e94f10d566d9391bddb6f99facafe64c3/apache_beam-2.30.0-cp37-cp37m-manylinux2010_x86_64.whl (9.6MB)\n",
      "\u001b[K     |████████████████████████████████| 9.6MB 1.3MB/s \n",
      "\u001b[?25hRequirement already satisfied: pillow in /usr/local/lib/python3.7/dist-packages (from object-detection==0.1) (7.1.2)\n",
      "Requirement already satisfied: lxml in /usr/local/lib/python3.7/dist-packages (from object-detection==0.1) (4.2.6)\n",
      "Requirement already satisfied: matplotlib in /usr/local/lib/python3.7/dist-packages (from object-detection==0.1) (3.2.2)\n",
      "Requirement already satisfied: Cython in /usr/local/lib/python3.7/dist-packages (from object-detection==0.1) (0.29.23)\n",
      "Requirement already satisfied: contextlib2 in /usr/local/lib/python3.7/dist-packages (from object-detection==0.1) (0.5.5)\n",
      "Collecting tf-slim\n",
      "\u001b[?25l  Downloading https://files.pythonhosted.org/packages/02/97/b0f4a64df018ca018cc035d44f2ef08f91e2e8aa67271f6f19633a015ff7/tf_slim-1.1.0-py2.py3-none-any.whl (352kB)\n",
      "\u001b[K     |████████████████████████████████| 358kB 40.1MB/s \n",
      "\u001b[?25hRequirement already satisfied: six in /usr/local/lib/python3.7/dist-packages (from object-detection==0.1) (1.15.0)\n",
      "Requirement already satisfied: pycocotools in /usr/local/lib/python3.7/dist-packages (from object-detection==0.1) (2.0.2)\n",
      "Collecting lvis\n",
      "  Downloading https://files.pythonhosted.org/packages/72/b6/1992240ab48310b5360bfdd1d53163f43bb97d90dc5dc723c67d41c38e78/lvis-0.5.3-py3-none-any.whl\n",
      "Requirement already satisfied: scipy in /usr/local/lib/python3.7/dist-packages (from object-detection==0.1) (1.4.1)\n",
      "Requirement already satisfied: pandas in /usr/local/lib/python3.7/dist-packages (from object-detection==0.1) (1.1.5)\n",
      "Collecting tf-models-official\n",
      "\u001b[?25l  Downloading https://files.pythonhosted.org/packages/96/08/81bbc275e8e9c6d1e03dd26daec3a67f45e6322804cbce3d51f93eae1961/tf_models_official-2.5.0-py2.py3-none-any.whl (1.6MB)\n",
      "\u001b[K     |████████████████████████████████| 1.6MB 46.1MB/s \n",
      "\u001b[?25hRequirement already satisfied: crcmod<2.0,>=1.7 in /usr/local/lib/python3.7/dist-packages (from apache-beam->object-detection==0.1) (1.7)\n",
      "Requirement already satisfied: pydot<2,>=1.2.0 in /usr/local/lib/python3.7/dist-packages (from apache-beam->object-detection==0.1) (1.3.0)\n",
      "Requirement already satisfied: pytz>=2018.3 in /usr/local/lib/python3.7/dist-packages (from apache-beam->object-detection==0.1) (2018.9)\n",
      "Collecting requests<3.0.0,>=2.24.0\n",
      "\u001b[?25l  Downloading https://files.pythonhosted.org/packages/29/c1/24814557f1d22c56d50280771a17307e6bf87b70727d975fd6b2ce6b014a/requests-2.25.1-py2.py3-none-any.whl (61kB)\n",
      "\u001b[K     |████████████████████████████████| 61kB 9.0MB/s \n",
      "\u001b[?25hRequirement already satisfied: oauth2client<5,>=2.0.1 in /usr/local/lib/python3.7/dist-packages (from apache-beam->object-detection==0.1) (4.1.3)\n",
      "Collecting hdfs<3.0.0,>=2.1.0\n",
      "  Downloading https://files.pythonhosted.org/packages/08/f7/4c3fad73123a24d7394b6f40d1ec9c1cbf2e921cfea1797216ffd0a51fb1/hdfs-2.6.0-py3-none-any.whl\n",
      "Requirement already satisfied: httplib2<0.20.0,>=0.8 in /usr/local/lib/python3.7/dist-packages (from apache-beam->object-detection==0.1) (0.17.4)\n",
      "Requirement already satisfied: protobuf<4,>=3.12.2 in /usr/local/lib/python3.7/dist-packages (from apache-beam->object-detection==0.1) (3.12.4)\n",
      "Requirement already satisfied: typing-extensions<3.8.0,>=3.7.0 in /usr/local/lib/python3.7/dist-packages (from apache-beam->object-detection==0.1) (3.7.4.3)\n",
      "Requirement already satisfied: pymongo<4.0.0,>=3.8.0 in /usr/local/lib/python3.7/dist-packages (from apache-beam->object-detection==0.1) (3.11.4)\n",
      "Requirement already satisfied: grpcio<2,>=1.29.0 in /usr/local/lib/python3.7/dist-packages (from apache-beam->object-detection==0.1) (1.34.1)\n",
      "Requirement already satisfied: python-dateutil<3,>=2.8.0 in /usr/local/lib/python3.7/dist-packages (from apache-beam->object-detection==0.1) (2.8.1)\n",
      "Collecting dill<0.3.2,>=0.3.1.1\n",
      "\u001b[?25l  Downloading https://files.pythonhosted.org/packages/c7/11/345f3173809cea7f1a193bfbf02403fff250a3360e0e118a1630985e547d/dill-0.3.1.1.tar.gz (151kB)\n",
      "\u001b[K     |████████████████████████████████| 153kB 47.0MB/s \n",
      "\u001b[?25hCollecting future<1.0.0,>=0.18.2\n",
      "\u001b[?25l  Downloading https://files.pythonhosted.org/packages/45/0b/38b06fd9b92dc2b68d58b75f900e97884c45bedd2ff83203d933cf5851c9/future-0.18.2.tar.gz (829kB)\n",
      "\u001b[K     |████████████████████████████████| 829kB 43.7MB/s \n",
      "\u001b[?25hRequirement already satisfied: pyarrow<4.0.0,>=0.15.1 in /usr/local/lib/python3.7/dist-packages (from apache-beam->object-detection==0.1) (3.0.0)\n",
      "Requirement already satisfied: numpy<1.21.0,>=1.14.3 in /usr/local/lib/python3.7/dist-packages (from apache-beam->object-detection==0.1) (1.19.5)\n",
      "Collecting fastavro<2,>=0.21.4\n",
      "\u001b[?25l  Downloading https://files.pythonhosted.org/packages/52/d1/8f5c8611026f0ddcd86a8e2f965998e0c159af980c31efba72342c69f3e4/fastavro-1.4.1-cp37-cp37m-manylinux_2_17_x86_64.manylinux2014_x86_64.whl (2.2MB)\n",
      "\u001b[K     |████████████████████████████████| 2.3MB 39.9MB/s \n",
      "\u001b[?25hRequirement already satisfied: pyparsing!=2.0.4,!=2.1.2,!=2.1.6,>=2.0.1 in /usr/local/lib/python3.7/dist-packages (from matplotlib->object-detection==0.1) (2.4.7)\n",
      "Requirement already satisfied: kiwisolver>=1.0.1 in /usr/local/lib/python3.7/dist-packages (from matplotlib->object-detection==0.1) (1.3.1)\n",
      "Requirement already satisfied: cycler>=0.10 in /usr/local/lib/python3.7/dist-packages (from matplotlib->object-detection==0.1) (0.10.0)\n",
      "Requirement already satisfied: absl-py>=0.2.2 in /usr/local/lib/python3.7/dist-packages (from tf-slim->object-detection==0.1) (0.12.0)\n",
      "Requirement already satisfied: setuptools>=18.0 in /usr/local/lib/python3.7/dist-packages (from pycocotools->object-detection==0.1) (57.0.0)\n",
      "Requirement already satisfied: opencv-python>=4.1.0.25 in /usr/local/lib/python3.7/dist-packages (from lvis->object-detection==0.1) (4.1.2.30)\n",
      "Requirement already satisfied: tensorflow-datasets in /usr/local/lib/python3.7/dist-packages (from tf-models-official->object-detection==0.1) (4.0.1)\n",
      "Collecting opencv-python-headless\n",
      "\u001b[?25l  Downloading https://files.pythonhosted.org/packages/c3/35/bfc76533f2274cd3da4e2cf255cd13ab9d7f6fc8990c06911e7f8fcc2130/opencv_python_headless-4.5.2.54-cp37-cp37m-manylinux2014_x86_64.whl (38.2MB)\n",
      "\u001b[K     |████████████████████████████████| 38.2MB 85kB/s \n",
      "\u001b[?25hCollecting tensorflow-model-optimization>=0.4.1\n",
      "\u001b[?25l  Downloading https://files.pythonhosted.org/packages/78/8f/f6969dc64709c5c5e22cfd7057a83adbc927e6855a431b234168222cbf03/tensorflow_model_optimization-0.6.0-py2.py3-none-any.whl (211kB)\n",
      "\u001b[K     |████████████████████████████████| 215kB 58.7MB/s \n",
      "\u001b[?25hCollecting tensorflow-addons\n",
      "\u001b[?25l  Downloading https://files.pythonhosted.org/packages/66/4b/e893d194e626c24b3df2253066aa418f46a432fdb68250cde14bf9bb0700/tensorflow_addons-0.13.0-cp37-cp37m-manylinux2010_x86_64.whl (679kB)\n",
      "\u001b[K     |████████████████████████████████| 686kB 37.5MB/s \n",
      "\u001b[?25hCollecting sacrebleu\n",
      "\u001b[?25l  Downloading https://files.pythonhosted.org/packages/7e/57/0c7ca4e31a126189dab99c19951910bd081dea5bbd25f24b77107750eae7/sacrebleu-1.5.1-py3-none-any.whl (54kB)\n",
      "\u001b[K     |████████████████████████████████| 61kB 9.6MB/s \n",
      "\u001b[?25hCollecting pyyaml>=5.1\n",
      "\u001b[?25l  Downloading https://files.pythonhosted.org/packages/7a/a5/393c087efdc78091afa2af9f1378762f9821c9c1d7a22c5753fb5ac5f97a/PyYAML-5.4.1-cp37-cp37m-manylinux1_x86_64.whl (636kB)\n",
      "\u001b[K     |████████████████████████████████| 645kB 41.4MB/s \n",
      "\u001b[?25hRequirement already satisfied: tensorflow>=2.5.0 in /usr/local/lib/python3.7/dist-packages (from tf-models-official->object-detection==0.1) (2.5.0)\n",
      "Collecting sentencepiece\n",
      "\u001b[?25l  Downloading https://files.pythonhosted.org/packages/ac/aa/1437691b0c7c83086ebb79ce2da16e00bef024f24fec2a5161c35476f499/sentencepiece-0.1.96-cp37-cp37m-manylinux_2_17_x86_64.manylinux2014_x86_64.whl (1.2MB)\n",
      "\u001b[K     |████████████████████████████████| 1.2MB 40.9MB/s \n",
      "\u001b[?25hCollecting seqeval\n",
      "\u001b[?25l  Downloading https://files.pythonhosted.org/packages/9d/2d/233c79d5b4e5ab1dbf111242299153f3caddddbb691219f363ad55ce783d/seqeval-1.2.2.tar.gz (43kB)\n",
      "\u001b[K     |████████████████████████████████| 51kB 8.8MB/s \n",
      "\u001b[?25hRequirement already satisfied: kaggle>=1.3.9 in /usr/local/lib/python3.7/dist-packages (from tf-models-official->object-detection==0.1) (1.5.12)\n",
      "Requirement already satisfied: tensorflow-hub>=0.6.0 in /usr/local/lib/python3.7/dist-packages (from tf-models-official->object-detection==0.1) (0.12.0)\n",
      "Requirement already satisfied: psutil>=5.4.3 in /usr/local/lib/python3.7/dist-packages (from tf-models-official->object-detection==0.1) (5.4.8)\n",
      "Requirement already satisfied: google-cloud-bigquery>=0.31.0 in /usr/local/lib/python3.7/dist-packages (from tf-models-official->object-detection==0.1) (1.21.0)\n",
      "Requirement already satisfied: google-api-python-client>=1.6.7 in /usr/local/lib/python3.7/dist-packages (from tf-models-official->object-detection==0.1) (1.12.8)\n",
      "Requirement already satisfied: gin-config in /usr/local/lib/python3.7/dist-packages (from tf-models-official->object-detection==0.1) (0.4.0)\n",
      "Collecting py-cpuinfo>=3.3.0\n",
      "\u001b[?25l  Downloading https://files.pythonhosted.org/packages/e6/ba/77120e44cbe9719152415b97d5bfb29f4053ee987d6cb63f55ce7d50fadc/py-cpuinfo-8.0.0.tar.gz (99kB)\n",
      "\u001b[K     |████████████████████████████████| 102kB 14.9MB/s \n",
      "\u001b[?25hRequirement already satisfied: certifi>=2017.4.17 in /usr/local/lib/python3.7/dist-packages (from requests<3.0.0,>=2.24.0->apache-beam->object-detection==0.1) (2021.5.30)\n",
      "Requirement already satisfied: idna<3,>=2.5 in /usr/local/lib/python3.7/dist-packages (from requests<3.0.0,>=2.24.0->apache-beam->object-detection==0.1) (2.10)\n",
      "Requirement already satisfied: chardet<5,>=3.0.2 in /usr/local/lib/python3.7/dist-packages (from requests<3.0.0,>=2.24.0->apache-beam->object-detection==0.1) (3.0.4)\n",
      "Requirement already satisfied: urllib3<1.27,>=1.21.1 in /usr/local/lib/python3.7/dist-packages (from requests<3.0.0,>=2.24.0->apache-beam->object-detection==0.1) (1.24.3)\n",
      "Requirement already satisfied: pyasn1>=0.1.7 in /usr/local/lib/python3.7/dist-packages (from oauth2client<5,>=2.0.1->apache-beam->object-detection==0.1) (0.4.8)\n",
      "Requirement already satisfied: pyasn1-modules>=0.0.5 in /usr/local/lib/python3.7/dist-packages (from oauth2client<5,>=2.0.1->apache-beam->object-detection==0.1) (0.2.8)\n",
      "Requirement already satisfied: rsa>=3.1.4 in /usr/local/lib/python3.7/dist-packages (from oauth2client<5,>=2.0.1->apache-beam->object-detection==0.1) (4.7.2)\n",
      "Requirement already satisfied: docopt in /usr/local/lib/python3.7/dist-packages (from hdfs<3.0.0,>=2.1.0->apache-beam->object-detection==0.1) (0.6.2)\n",
      "Requirement already satisfied: tensorflow-metadata in /usr/local/lib/python3.7/dist-packages (from tensorflow-datasets->tf-models-official->object-detection==0.1) (1.0.0)\n",
      "Requirement already satisfied: dm-tree in /usr/local/lib/python3.7/dist-packages (from tensorflow-datasets->tf-models-official->object-detection==0.1) (0.1.6)\n",
      "Requirement already satisfied: promise in /usr/local/lib/python3.7/dist-packages (from tensorflow-datasets->tf-models-official->object-detection==0.1) (2.3)\n",
      "Requirement already satisfied: attrs>=18.1.0 in /usr/local/lib/python3.7/dist-packages (from tensorflow-datasets->tf-models-official->object-detection==0.1) (21.2.0)\n",
      "Requirement already satisfied: tqdm in /usr/local/lib/python3.7/dist-packages (from tensorflow-datasets->tf-models-official->object-detection==0.1) (4.41.1)\n",
      "Requirement already satisfied: importlib-resources; python_version < \"3.9\" in /usr/local/lib/python3.7/dist-packages (from tensorflow-datasets->tf-models-official->object-detection==0.1) (5.1.4)\n",
      "Requirement already satisfied: termcolor in /usr/local/lib/python3.7/dist-packages (from tensorflow-datasets->tf-models-official->object-detection==0.1) (1.1.0)\n",
      "Requirement already satisfied: typeguard>=2.7 in /usr/local/lib/python3.7/dist-packages (from tensorflow-addons->tf-models-official->object-detection==0.1) (2.7.1)\n",
      "Collecting portalocker==2.0.0\n",
      "  Downloading https://files.pythonhosted.org/packages/89/a6/3814b7107e0788040870e8825eebf214d72166adf656ba7d4bf14759a06a/portalocker-2.0.0-py2.py3-none-any.whl\n",
      "Requirement already satisfied: keras-preprocessing~=1.1.2 in /usr/local/lib/python3.7/dist-packages (from tensorflow>=2.5.0->tf-models-official->object-detection==0.1) (1.1.2)\n",
      "Requirement already satisfied: wheel~=0.35 in /usr/local/lib/python3.7/dist-packages (from tensorflow>=2.5.0->tf-models-official->object-detection==0.1) (0.36.2)\n",
      "Requirement already satisfied: gast==0.4.0 in /usr/local/lib/python3.7/dist-packages (from tensorflow>=2.5.0->tf-models-official->object-detection==0.1) (0.4.0)\n",
      "Requirement already satisfied: h5py~=3.1.0 in /usr/local/lib/python3.7/dist-packages (from tensorflow>=2.5.0->tf-models-official->object-detection==0.1) (3.1.0)\n",
      "Requirement already satisfied: tensorflow-estimator<2.6.0,>=2.5.0rc0 in /usr/local/lib/python3.7/dist-packages (from tensorflow>=2.5.0->tf-models-official->object-detection==0.1) (2.5.0)\n",
      "Requirement already satisfied: opt-einsum~=3.3.0 in /usr/local/lib/python3.7/dist-packages (from tensorflow>=2.5.0->tf-models-official->object-detection==0.1) (3.3.0)\n",
      "Requirement already satisfied: astunparse~=1.6.3 in /usr/local/lib/python3.7/dist-packages (from tensorflow>=2.5.0->tf-models-official->object-detection==0.1) (1.6.3)\n",
      "Requirement already satisfied: tensorboard~=2.5 in /usr/local/lib/python3.7/dist-packages (from tensorflow>=2.5.0->tf-models-official->object-detection==0.1) (2.5.0)\n",
      "Requirement already satisfied: keras-nightly~=2.5.0.dev in /usr/local/lib/python3.7/dist-packages (from tensorflow>=2.5.0->tf-models-official->object-detection==0.1) (2.5.0.dev2021032900)\n",
      "Requirement already satisfied: google-pasta~=0.2 in /usr/local/lib/python3.7/dist-packages (from tensorflow>=2.5.0->tf-models-official->object-detection==0.1) (0.2.0)\n",
      "Requirement already satisfied: wrapt~=1.12.1 in /usr/local/lib/python3.7/dist-packages (from tensorflow>=2.5.0->tf-models-official->object-detection==0.1) (1.12.1)\n",
      "Requirement already satisfied: flatbuffers~=1.12.0 in /usr/local/lib/python3.7/dist-packages (from tensorflow>=2.5.0->tf-models-official->object-detection==0.1) (1.12)\n",
      "Requirement already satisfied: scikit-learn>=0.21.3 in /usr/local/lib/python3.7/dist-packages (from seqeval->tf-models-official->object-detection==0.1) (0.22.2.post1)\n",
      "Requirement already satisfied: python-slugify in /usr/local/lib/python3.7/dist-packages (from kaggle>=1.3.9->tf-models-official->object-detection==0.1) (5.0.2)\n",
      "Requirement already satisfied: google-cloud-core<2.0dev,>=1.0.3 in /usr/local/lib/python3.7/dist-packages (from google-cloud-bigquery>=0.31.0->tf-models-official->object-detection==0.1) (1.0.3)\n",
      "Requirement already satisfied: google-resumable-media!=0.4.0,<0.5.0dev,>=0.3.1 in /usr/local/lib/python3.7/dist-packages (from google-cloud-bigquery>=0.31.0->tf-models-official->object-detection==0.1) (0.4.1)\n",
      "Requirement already satisfied: google-api-core<2dev,>=1.21.0 in /usr/local/lib/python3.7/dist-packages (from google-api-python-client>=1.6.7->tf-models-official->object-detection==0.1) (1.26.3)\n",
      "Requirement already satisfied: google-auth-httplib2>=0.0.3 in /usr/local/lib/python3.7/dist-packages (from google-api-python-client>=1.6.7->tf-models-official->object-detection==0.1) (0.0.4)\n",
      "Requirement already satisfied: uritemplate<4dev,>=3.0.0 in /usr/local/lib/python3.7/dist-packages (from google-api-python-client>=1.6.7->tf-models-official->object-detection==0.1) (3.0.1)\n",
      "Requirement already satisfied: google-auth>=1.16.0 in /usr/local/lib/python3.7/dist-packages (from google-api-python-client>=1.6.7->tf-models-official->object-detection==0.1) (1.31.0)\n",
      "Requirement already satisfied: googleapis-common-protos<2,>=1.52.0 in /usr/local/lib/python3.7/dist-packages (from tensorflow-metadata->tensorflow-datasets->tf-models-official->object-detection==0.1) (1.53.0)\n",
      "Requirement already satisfied: zipp>=3.1.0; python_version < \"3.10\" in /usr/local/lib/python3.7/dist-packages (from importlib-resources; python_version < \"3.9\"->tensorflow-datasets->tf-models-official->object-detection==0.1) (3.4.1)\n",
      "Requirement already satisfied: cached-property; python_version < \"3.8\" in /usr/local/lib/python3.7/dist-packages (from h5py~=3.1.0->tensorflow>=2.5.0->tf-models-official->object-detection==0.1) (1.5.2)\n",
      "Requirement already satisfied: google-auth-oauthlib<0.5,>=0.4.1 in /usr/local/lib/python3.7/dist-packages (from tensorboard~=2.5->tensorflow>=2.5.0->tf-models-official->object-detection==0.1) (0.4.4)\n",
      "Requirement already satisfied: werkzeug>=0.11.15 in /usr/local/lib/python3.7/dist-packages (from tensorboard~=2.5->tensorflow>=2.5.0->tf-models-official->object-detection==0.1) (1.0.1)\n",
      "Requirement already satisfied: tensorboard-data-server<0.7.0,>=0.6.0 in /usr/local/lib/python3.7/dist-packages (from tensorboard~=2.5->tensorflow>=2.5.0->tf-models-official->object-detection==0.1) (0.6.1)\n",
      "Requirement already satisfied: markdown>=2.6.8 in /usr/local/lib/python3.7/dist-packages (from tensorboard~=2.5->tensorflow>=2.5.0->tf-models-official->object-detection==0.1) (3.3.4)\n",
      "Requirement already satisfied: tensorboard-plugin-wit>=1.6.0 in /usr/local/lib/python3.7/dist-packages (from tensorboard~=2.5->tensorflow>=2.5.0->tf-models-official->object-detection==0.1) (1.8.0)\n",
      "Requirement already satisfied: joblib>=0.11 in /usr/local/lib/python3.7/dist-packages (from scikit-learn>=0.21.3->seqeval->tf-models-official->object-detection==0.1) (1.0.1)\n",
      "Requirement already satisfied: text-unidecode>=1.3 in /usr/local/lib/python3.7/dist-packages (from python-slugify->kaggle>=1.3.9->tf-models-official->object-detection==0.1) (1.3)\n",
      "Requirement already satisfied: packaging>=14.3 in /usr/local/lib/python3.7/dist-packages (from google-api-core<2dev,>=1.21.0->google-api-python-client>=1.6.7->tf-models-official->object-detection==0.1) (20.9)\n",
      "Requirement already satisfied: cachetools<5.0,>=2.0.0 in /usr/local/lib/python3.7/dist-packages (from google-auth>=1.16.0->google-api-python-client>=1.6.7->tf-models-official->object-detection==0.1) (4.2.2)\n",
      "Requirement already satisfied: requests-oauthlib>=0.7.0 in /usr/local/lib/python3.7/dist-packages (from google-auth-oauthlib<0.5,>=0.4.1->tensorboard~=2.5->tensorflow>=2.5.0->tf-models-official->object-detection==0.1) (1.3.0)\n",
      "Requirement already satisfied: importlib-metadata; python_version < \"3.8\" in /usr/local/lib/python3.7/dist-packages (from markdown>=2.6.8->tensorboard~=2.5->tensorflow>=2.5.0->tf-models-official->object-detection==0.1) (4.5.0)\n",
      "Requirement already satisfied: oauthlib>=3.0.0 in /usr/local/lib/python3.7/dist-packages (from requests-oauthlib>=0.7.0->google-auth-oauthlib<0.5,>=0.4.1->tensorboard~=2.5->tensorflow>=2.5.0->tf-models-official->object-detection==0.1) (3.1.1)\n",
      "Building wheels for collected packages: object-detection, avro-python3, dill, future, seqeval, py-cpuinfo\n",
      "  Building wheel for object-detection (setup.py) ... \u001b[?25l\u001b[?25hdone\n",
      "  Created wheel for object-detection: filename=object_detection-0.1-cp37-none-any.whl size=1654779 sha256=4c2898081fd3ceac3a8ae02a80ef716976381e783bab92f2bf33e1613d50f2e1\n",
      "  Stored in directory: /tmp/pip-ephem-wheel-cache-tb1pyf1y/wheels/ac/8a/90/02d8042c0333b38a96341f55d93b379bb170f98b196de6b536\n",
      "  Building wheel for avro-python3 (setup.py) ... \u001b[?25l\u001b[?25hdone\n",
      "  Created wheel for avro-python3: filename=avro_python3-1.10.2-cp37-none-any.whl size=44011 sha256=819b42c619d8bd0e35cb011b1a31e38cec402837dd7ae611898cf93b5e02719a\n",
      "  Stored in directory: /root/.cache/pip/wheels/ee/ee/18/c466221ca6900e3efce2f4ea9c329288808679aecdcb2838d3\n",
      "  Building wheel for dill (setup.py) ... \u001b[?25l\u001b[?25hdone\n",
      "  Created wheel for dill: filename=dill-0.3.1.1-cp37-none-any.whl size=78545 sha256=3dc4f0132cbf4256a328c91b65ea7ea8d63aef5163e6368a61829fe588966b22\n",
      "  Stored in directory: /root/.cache/pip/wheels/59/b1/91/f02e76c732915c4015ab4010f3015469866c1eb9b14058d8e7\n",
      "  Building wheel for future (setup.py) ... \u001b[?25l\u001b[?25hdone\n",
      "  Created wheel for future: filename=future-0.18.2-cp37-none-any.whl size=491070 sha256=01ad4c19a7ef3c5b1d1d23f44d38893d2811d63fa860b897e00d997e77e8351d\n",
      "  Stored in directory: /root/.cache/pip/wheels/8b/99/a0/81daf51dcd359a9377b110a8a886b3895921802d2fc1b2397e\n",
      "  Building wheel for seqeval (setup.py) ... \u001b[?25l\u001b[?25hdone\n",
      "  Created wheel for seqeval: filename=seqeval-1.2.2-cp37-none-any.whl size=16184 sha256=33f3b7a18304301fdcc902bf06225036b94226e7986bfc7bdefa67e6d8665fd3\n",
      "  Stored in directory: /root/.cache/pip/wheels/52/df/1b/45d75646c37428f7e626214704a0e35bd3cfc32eda37e59e5f\n",
      "  Building wheel for py-cpuinfo (setup.py) ... \u001b[?25l\u001b[?25hdone\n",
      "  Created wheel for py-cpuinfo: filename=py_cpuinfo-8.0.0-cp37-none-any.whl size=22258 sha256=5667f5ba1453da6f3e9d1ad1c866983c34b330462b99dba91482555f84be242a\n",
      "  Stored in directory: /root/.cache/pip/wheels/2e/15/f5/aa2a056d223903b52cf4870134e3a01df0c723816835dd08db\n",
      "Successfully built object-detection avro-python3 dill future seqeval py-cpuinfo\n",
      "\u001b[31mERROR: multiprocess 0.70.12.2 has requirement dill>=0.3.4, but you'll have dill 0.3.1.1 which is incompatible.\u001b[0m\n",
      "\u001b[31mERROR: google-colab 1.0.0 has requirement requests~=2.23.0, but you'll have requests 2.25.1 which is incompatible.\u001b[0m\n",
      "\u001b[31mERROR: datascience 0.10.6 has requirement folium==0.2.1, but you'll have folium 0.8.3 which is incompatible.\u001b[0m\n",
      "\u001b[31mERROR: apache-beam 2.30.0 has requirement avro-python3!=1.9.2,<1.10.0,>=1.8.1, but you'll have avro-python3 1.10.2 which is incompatible.\u001b[0m\n",
      "Installing collected packages: avro-python3, requests, hdfs, dill, future, fastavro, apache-beam, tf-slim, lvis, opencv-python-headless, tensorflow-model-optimization, tensorflow-addons, portalocker, sacrebleu, pyyaml, sentencepiece, seqeval, py-cpuinfo, tf-models-official, object-detection\n",
      "  Found existing installation: requests 2.23.0\n",
      "    Uninstalling requests-2.23.0:\n",
      "      Successfully uninstalled requests-2.23.0\n",
      "  Found existing installation: dill 0.3.4\n",
      "    Uninstalling dill-0.3.4:\n",
      "      Successfully uninstalled dill-0.3.4\n",
      "  Found existing installation: future 0.16.0\n",
      "    Uninstalling future-0.16.0:\n",
      "      Successfully uninstalled future-0.16.0\n",
      "  Found existing installation: PyYAML 3.13\n",
      "    Uninstalling PyYAML-3.13:\n",
      "      Successfully uninstalled PyYAML-3.13\n",
      "Successfully installed apache-beam-2.30.0 avro-python3-1.10.2 dill-0.3.1.1 fastavro-1.4.1 future-0.18.2 hdfs-2.6.0 lvis-0.5.3 object-detection-0.1 opencv-python-headless-4.5.2.54 portalocker-2.0.0 py-cpuinfo-8.0.0 pyyaml-5.4.1 requests-2.25.1 sacrebleu-1.5.1 sentencepiece-0.1.96 seqeval-1.2.2 tensorflow-addons-0.13.0 tensorflow-model-optimization-0.6.0 tf-models-official-2.5.0 tf-slim-1.1.0\n"
     ]
    }
   ],
   "source": [
    "# Install Tensorflow Object Detection \n",
    "if os.name=='posix':  \n",
    "    !apt-get install protobuf-compiler\n",
    "    !cd Tensorflow/models/research && protoc object_detection/protos/*.proto --python_out=. && cp object_detection/packages/tf2/setup.py . && python -m pip install . \n",
    "    \n",
    "if os.name=='nt':\n",
    "    url=\"https://github.com/protocolbuffers/protobuf/releases/download/v3.15.6/protoc-3.15.6-win64.zip\"\n",
    "    wget.download(url)\n",
    "    !move protoc-3.15.6-win64.zip {paths['PROTOC_PATH']}\n",
    "    !cd {paths['PROTOC_PATH']} && tar -xf protoc-3.15.6-win64.zip\n",
    "    os.environ['PATH'] += os.pathsep + os.path.abspath(os.path.join(paths['PROTOC_PATH'], 'bin'))   \n",
    "    !cd Tensorflow/models/research && protoc object_detection/protos/*.proto --python_out=. && copy object_detection\\\\packages\\\\tf2\\\\setup.py setup.py && python setup.py build && python setup.py install\n",
    "    !cd Tensorflow/models/research/slim && pip install -e ."
   ]
  },
  {
   "cell_type": "code",
   "execution_count": 5,
   "metadata": {
    "colab": {
     "base_uri": "https://localhost:8080/"
    },
    "id": "LReqDoi1y-HL",
    "outputId": "95687083-079b-4b74-a760-e7768c6a6b72"
   },
   "outputs": [
    {
     "name": "stdout",
     "output_type": "stream",
     "text": [
      "2021-06-19 13:55:05.606887: I tensorflow/stream_executor/platform/default/dso_loader.cc:53] Successfully opened dynamic library libcudart.so.11.0\n",
      "Running tests under Python 3.7.10: /usr/bin/python3\n",
      "[ RUN      ] ModelBuilderTF2Test.test_create_center_net_deepmac\n",
      "2021-06-19 13:55:07.632686: I tensorflow/stream_executor/platform/default/dso_loader.cc:53] Successfully opened dynamic library libcuda.so.1\n",
      "2021-06-19 13:55:07.695977: I tensorflow/stream_executor/cuda/cuda_gpu_executor.cc:937] successful NUMA node read from SysFS had negative value (-1), but there must be at least one NUMA node, so returning NUMA node zero\n",
      "2021-06-19 13:55:07.696616: I tensorflow/core/common_runtime/gpu/gpu_device.cc:1733] Found device 0 with properties: \n",
      "pciBusID: 0000:00:04.0 name: Tesla V100-SXM2-16GB computeCapability: 7.0\n",
      "coreClock: 1.53GHz coreCount: 80 deviceMemorySize: 15.78GiB deviceMemoryBandwidth: 836.37GiB/s\n",
      "2021-06-19 13:55:07.696663: I tensorflow/stream_executor/platform/default/dso_loader.cc:53] Successfully opened dynamic library libcudart.so.11.0\n",
      "2021-06-19 13:55:07.811799: I tensorflow/stream_executor/platform/default/dso_loader.cc:53] Successfully opened dynamic library libcublas.so.11\n",
      "2021-06-19 13:55:07.811900: I tensorflow/stream_executor/platform/default/dso_loader.cc:53] Successfully opened dynamic library libcublasLt.so.11\n",
      "2021-06-19 13:55:07.975198: I tensorflow/stream_executor/platform/default/dso_loader.cc:53] Successfully opened dynamic library libcufft.so.10\n",
      "2021-06-19 13:55:08.023188: I tensorflow/stream_executor/platform/default/dso_loader.cc:53] Successfully opened dynamic library libcurand.so.10\n",
      "2021-06-19 13:55:08.220410: I tensorflow/stream_executor/platform/default/dso_loader.cc:53] Successfully opened dynamic library libcusolver.so.10\n",
      "2021-06-19 13:55:08.252116: I tensorflow/stream_executor/platform/default/dso_loader.cc:53] Successfully opened dynamic library libcusparse.so.11\n",
      "2021-06-19 13:55:08.256292: I tensorflow/stream_executor/platform/default/dso_loader.cc:53] Successfully opened dynamic library libcudnn.so.8\n",
      "2021-06-19 13:55:08.256444: I tensorflow/stream_executor/cuda/cuda_gpu_executor.cc:937] successful NUMA node read from SysFS had negative value (-1), but there must be at least one NUMA node, so returning NUMA node zero\n",
      "2021-06-19 13:55:08.257127: I tensorflow/stream_executor/cuda/cuda_gpu_executor.cc:937] successful NUMA node read from SysFS had negative value (-1), but there must be at least one NUMA node, so returning NUMA node zero\n",
      "2021-06-19 13:55:08.260954: I tensorflow/core/common_runtime/gpu/gpu_device.cc:1871] Adding visible gpu devices: 0\n",
      "2021-06-19 13:55:08.261358: I tensorflow/core/platform/cpu_feature_guard.cc:142] This TensorFlow binary is optimized with oneAPI Deep Neural Network Library (oneDNN) to use the following CPU instructions in performance-critical operations:  AVX512F\n",
      "To enable them in other operations, rebuild TensorFlow with the appropriate compiler flags.\n",
      "2021-06-19 13:55:08.261572: I tensorflow/stream_executor/cuda/cuda_gpu_executor.cc:937] successful NUMA node read from SysFS had negative value (-1), but there must be at least one NUMA node, so returning NUMA node zero\n",
      "2021-06-19 13:55:08.262171: I tensorflow/core/common_runtime/gpu/gpu_device.cc:1733] Found device 0 with properties: \n",
      "pciBusID: 0000:00:04.0 name: Tesla V100-SXM2-16GB computeCapability: 7.0\n",
      "coreClock: 1.53GHz coreCount: 80 deviceMemorySize: 15.78GiB deviceMemoryBandwidth: 836.37GiB/s\n",
      "2021-06-19 13:55:08.262252: I tensorflow/stream_executor/cuda/cuda_gpu_executor.cc:937] successful NUMA node read from SysFS had negative value (-1), but there must be at least one NUMA node, so returning NUMA node zero\n",
      "2021-06-19 13:55:08.262828: I tensorflow/stream_executor/cuda/cuda_gpu_executor.cc:937] successful NUMA node read from SysFS had negative value (-1), but there must be at least one NUMA node, so returning NUMA node zero\n",
      "2021-06-19 13:55:08.263369: I tensorflow/core/common_runtime/gpu/gpu_device.cc:1871] Adding visible gpu devices: 0\n",
      "2021-06-19 13:55:08.266660: I tensorflow/stream_executor/platform/default/dso_loader.cc:53] Successfully opened dynamic library libcudart.so.11.0\n",
      "2021-06-19 13:55:10.485129: I tensorflow/core/common_runtime/gpu/gpu_device.cc:1258] Device interconnect StreamExecutor with strength 1 edge matrix:\n",
      "2021-06-19 13:55:10.485192: I tensorflow/core/common_runtime/gpu/gpu_device.cc:1264]      0 \n",
      "2021-06-19 13:55:10.485207: I tensorflow/core/common_runtime/gpu/gpu_device.cc:1277] 0:   N \n",
      "2021-06-19 13:55:10.485402: I tensorflow/stream_executor/cuda/cuda_gpu_executor.cc:937] successful NUMA node read from SysFS had negative value (-1), but there must be at least one NUMA node, so returning NUMA node zero\n",
      "2021-06-19 13:55:10.486044: I tensorflow/stream_executor/cuda/cuda_gpu_executor.cc:937] successful NUMA node read from SysFS had negative value (-1), but there must be at least one NUMA node, so returning NUMA node zero\n",
      "2021-06-19 13:55:10.486645: I tensorflow/stream_executor/cuda/cuda_gpu_executor.cc:937] successful NUMA node read from SysFS had negative value (-1), but there must be at least one NUMA node, so returning NUMA node zero\n",
      "2021-06-19 13:55:10.487203: W tensorflow/core/common_runtime/gpu/gpu_bfc_allocator.cc:39] Overriding allow_growth setting because the TF_FORCE_GPU_ALLOW_GROWTH environment variable is set. Original config value was 0.\n",
      "2021-06-19 13:55:10.487257: I tensorflow/core/common_runtime/gpu/gpu_device.cc:1418] Created TensorFlow device (/job:localhost/replica:0/task:0/device:GPU:0 with 14682 MB memory) -> physical GPU (device: 0, name: Tesla V100-SXM2-16GB, pci bus id: 0000:00:04.0, compute capability: 7.0)\n",
      "W0619 13:55:10.719077 140046577084288 model_builder.py:1088] Building experimental DeepMAC meta-arch. Some features may be omitted.\n",
      "INFO:tensorflow:time(__main__.ModelBuilderTF2Test.test_create_center_net_deepmac): 3.33s\n",
      "I0619 13:55:10.944669 140046577084288 test_util.py:2103] time(__main__.ModelBuilderTF2Test.test_create_center_net_deepmac): 3.33s\n",
      "[       OK ] ModelBuilderTF2Test.test_create_center_net_deepmac\n",
      "[ RUN      ] ModelBuilderTF2Test.test_create_center_net_model0 (customize_head_params=True)\n",
      "INFO:tensorflow:time(__main__.ModelBuilderTF2Test.test_create_center_net_model0 (customize_head_params=True)): 0.53s\n",
      "I0619 13:55:11.473586 140046577084288 test_util.py:2103] time(__main__.ModelBuilderTF2Test.test_create_center_net_model0 (customize_head_params=True)): 0.53s\n",
      "[       OK ] ModelBuilderTF2Test.test_create_center_net_model0 (customize_head_params=True)\n",
      "[ RUN      ] ModelBuilderTF2Test.test_create_center_net_model1 (customize_head_params=False)\n",
      "INFO:tensorflow:time(__main__.ModelBuilderTF2Test.test_create_center_net_model1 (customize_head_params=False)): 0.24s\n",
      "I0619 13:55:11.712535 140046577084288 test_util.py:2103] time(__main__.ModelBuilderTF2Test.test_create_center_net_model1 (customize_head_params=False)): 0.24s\n",
      "[       OK ] ModelBuilderTF2Test.test_create_center_net_model1 (customize_head_params=False)\n",
      "[ RUN      ] ModelBuilderTF2Test.test_create_center_net_model_from_keypoints\n",
      "INFO:tensorflow:time(__main__.ModelBuilderTF2Test.test_create_center_net_model_from_keypoints): 0.22s\n",
      "I0619 13:55:11.935134 140046577084288 test_util.py:2103] time(__main__.ModelBuilderTF2Test.test_create_center_net_model_from_keypoints): 0.22s\n",
      "[       OK ] ModelBuilderTF2Test.test_create_center_net_model_from_keypoints\n",
      "[ RUN      ] ModelBuilderTF2Test.test_create_center_net_model_mobilenet\n",
      "WARNING:tensorflow:`input_shape` is undefined or non-square, or `rows` is not in [96, 128, 160, 192, 224]. Weights for input shape (224, 224) will be loaded as the default.\n",
      "W0619 13:55:11.937387 140046577084288 mobilenet_v2.py:296] `input_shape` is undefined or non-square, or `rows` is not in [96, 128, 160, 192, 224]. Weights for input shape (224, 224) will be loaded as the default.\n",
      "Downloading data from https://storage.googleapis.com/tensorflow/keras-applications/mobilenet_v2/mobilenet_v2_weights_tf_dim_ordering_tf_kernels_1.0_224_no_top.h5\n",
      "9412608/9406464 [==============================] - 0s 0us/step\n",
      "INFO:tensorflow:time(__main__.ModelBuilderTF2Test.test_create_center_net_model_mobilenet): 1.83s\n",
      "I0619 13:55:13.769616 140046577084288 test_util.py:2103] time(__main__.ModelBuilderTF2Test.test_create_center_net_model_mobilenet): 1.83s\n",
      "[       OK ] ModelBuilderTF2Test.test_create_center_net_model_mobilenet\n",
      "[ RUN      ] ModelBuilderTF2Test.test_create_experimental_model\n",
      "INFO:tensorflow:time(__main__.ModelBuilderTF2Test.test_create_experimental_model): 0.0s\n",
      "I0619 13:55:13.770588 140046577084288 test_util.py:2103] time(__main__.ModelBuilderTF2Test.test_create_experimental_model): 0.0s\n",
      "[       OK ] ModelBuilderTF2Test.test_create_experimental_model\n",
      "[ RUN      ] ModelBuilderTF2Test.test_create_faster_rcnn_from_config_with_crop_feature0 (True)\n",
      "INFO:tensorflow:time(__main__.ModelBuilderTF2Test.test_create_faster_rcnn_from_config_with_crop_feature0 (True)): 0.02s\n",
      "I0619 13:55:13.789362 140046577084288 test_util.py:2103] time(__main__.ModelBuilderTF2Test.test_create_faster_rcnn_from_config_with_crop_feature0 (True)): 0.02s\n",
      "[       OK ] ModelBuilderTF2Test.test_create_faster_rcnn_from_config_with_crop_feature0 (True)\n",
      "[ RUN      ] ModelBuilderTF2Test.test_create_faster_rcnn_from_config_with_crop_feature1 (False)\n",
      "INFO:tensorflow:time(__main__.ModelBuilderTF2Test.test_create_faster_rcnn_from_config_with_crop_feature1 (False)): 0.01s\n",
      "I0619 13:55:13.802514 140046577084288 test_util.py:2103] time(__main__.ModelBuilderTF2Test.test_create_faster_rcnn_from_config_with_crop_feature1 (False)): 0.01s\n",
      "[       OK ] ModelBuilderTF2Test.test_create_faster_rcnn_from_config_with_crop_feature1 (False)\n",
      "[ RUN      ] ModelBuilderTF2Test.test_create_faster_rcnn_model_from_config_with_example_miner\n",
      "INFO:tensorflow:time(__main__.ModelBuilderTF2Test.test_create_faster_rcnn_model_from_config_with_example_miner): 0.01s\n",
      "I0619 13:55:13.816441 140046577084288 test_util.py:2103] time(__main__.ModelBuilderTF2Test.test_create_faster_rcnn_model_from_config_with_example_miner): 0.01s\n",
      "[       OK ] ModelBuilderTF2Test.test_create_faster_rcnn_model_from_config_with_example_miner\n",
      "[ RUN      ] ModelBuilderTF2Test.test_create_faster_rcnn_models_from_config_faster_rcnn_with_matmul\n",
      "INFO:tensorflow:time(__main__.ModelBuilderTF2Test.test_create_faster_rcnn_models_from_config_faster_rcnn_with_matmul): 0.09s\n",
      "I0619 13:55:13.902875 140046577084288 test_util.py:2103] time(__main__.ModelBuilderTF2Test.test_create_faster_rcnn_models_from_config_faster_rcnn_with_matmul): 0.09s\n",
      "[       OK ] ModelBuilderTF2Test.test_create_faster_rcnn_models_from_config_faster_rcnn_with_matmul\n",
      "[ RUN      ] ModelBuilderTF2Test.test_create_faster_rcnn_models_from_config_faster_rcnn_without_matmul\n",
      "INFO:tensorflow:time(__main__.ModelBuilderTF2Test.test_create_faster_rcnn_models_from_config_faster_rcnn_without_matmul): 0.08s\n",
      "I0619 13:55:13.986928 140046577084288 test_util.py:2103] time(__main__.ModelBuilderTF2Test.test_create_faster_rcnn_models_from_config_faster_rcnn_without_matmul): 0.08s\n",
      "[       OK ] ModelBuilderTF2Test.test_create_faster_rcnn_models_from_config_faster_rcnn_without_matmul\n",
      "[ RUN      ] ModelBuilderTF2Test.test_create_faster_rcnn_models_from_config_mask_rcnn_with_matmul\n",
      "INFO:tensorflow:time(__main__.ModelBuilderTF2Test.test_create_faster_rcnn_models_from_config_mask_rcnn_with_matmul): 0.09s\n",
      "I0619 13:55:14.078440 140046577084288 test_util.py:2103] time(__main__.ModelBuilderTF2Test.test_create_faster_rcnn_models_from_config_mask_rcnn_with_matmul): 0.09s\n",
      "[       OK ] ModelBuilderTF2Test.test_create_faster_rcnn_models_from_config_mask_rcnn_with_matmul\n",
      "[ RUN      ] ModelBuilderTF2Test.test_create_faster_rcnn_models_from_config_mask_rcnn_without_matmul\n",
      "INFO:tensorflow:time(__main__.ModelBuilderTF2Test.test_create_faster_rcnn_models_from_config_mask_rcnn_without_matmul): 0.09s\n",
      "I0619 13:55:14.165809 140046577084288 test_util.py:2103] time(__main__.ModelBuilderTF2Test.test_create_faster_rcnn_models_from_config_mask_rcnn_without_matmul): 0.09s\n",
      "[       OK ] ModelBuilderTF2Test.test_create_faster_rcnn_models_from_config_mask_rcnn_without_matmul\n",
      "[ RUN      ] ModelBuilderTF2Test.test_create_rfcn_model_from_config\n",
      "INFO:tensorflow:time(__main__.ModelBuilderTF2Test.test_create_rfcn_model_from_config): 0.08s\n",
      "I0619 13:55:14.249398 140046577084288 test_util.py:2103] time(__main__.ModelBuilderTF2Test.test_create_rfcn_model_from_config): 0.08s\n",
      "[       OK ] ModelBuilderTF2Test.test_create_rfcn_model_from_config\n",
      "[ RUN      ] ModelBuilderTF2Test.test_create_ssd_fpn_model_from_config\n",
      "INFO:tensorflow:time(__main__.ModelBuilderTF2Test.test_create_ssd_fpn_model_from_config): 0.02s\n",
      "I0619 13:55:14.273854 140046577084288 test_util.py:2103] time(__main__.ModelBuilderTF2Test.test_create_ssd_fpn_model_from_config): 0.02s\n",
      "[       OK ] ModelBuilderTF2Test.test_create_ssd_fpn_model_from_config\n",
      "[ RUN      ] ModelBuilderTF2Test.test_create_ssd_models_from_config\n",
      "I0619 13:55:14.436311 140046577084288 ssd_efficientnet_bifpn_feature_extractor.py:143] EfficientDet EfficientNet backbone version: efficientnet-b0\n",
      "I0619 13:55:14.436489 140046577084288 ssd_efficientnet_bifpn_feature_extractor.py:144] EfficientDet BiFPN num filters: 64\n",
      "I0619 13:55:14.436563 140046577084288 ssd_efficientnet_bifpn_feature_extractor.py:146] EfficientDet BiFPN num iterations: 3\n",
      "I0619 13:55:14.438424 140046577084288 efficientnet_model.py:147] round_filter input=32 output=32\n",
      "I0619 13:55:14.454388 140046577084288 efficientnet_model.py:147] round_filter input=32 output=32\n",
      "I0619 13:55:14.454548 140046577084288 efficientnet_model.py:147] round_filter input=16 output=16\n",
      "I0619 13:55:14.504464 140046577084288 efficientnet_model.py:147] round_filter input=16 output=16\n",
      "I0619 13:55:14.504656 140046577084288 efficientnet_model.py:147] round_filter input=24 output=24\n",
      "I0619 13:55:14.631635 140046577084288 efficientnet_model.py:147] round_filter input=24 output=24\n",
      "I0619 13:55:14.631821 140046577084288 efficientnet_model.py:147] round_filter input=40 output=40\n",
      "I0619 13:55:14.766696 140046577084288 efficientnet_model.py:147] round_filter input=40 output=40\n",
      "I0619 13:55:14.766874 140046577084288 efficientnet_model.py:147] round_filter input=80 output=80\n",
      "I0619 13:55:15.084530 140046577084288 efficientnet_model.py:147] round_filter input=80 output=80\n",
      "I0619 13:55:15.084714 140046577084288 efficientnet_model.py:147] round_filter input=112 output=112\n",
      "I0619 13:55:15.277007 140046577084288 efficientnet_model.py:147] round_filter input=112 output=112\n",
      "I0619 13:55:15.277202 140046577084288 efficientnet_model.py:147] round_filter input=192 output=192\n",
      "I0619 13:55:15.546888 140046577084288 efficientnet_model.py:147] round_filter input=192 output=192\n",
      "I0619 13:55:15.547079 140046577084288 efficientnet_model.py:147] round_filter input=320 output=320\n",
      "I0619 13:55:15.608607 140046577084288 efficientnet_model.py:147] round_filter input=1280 output=1280\n",
      "I0619 13:55:15.634598 140046577084288 efficientnet_model.py:458] Building model efficientnet with params ModelConfig(width_coefficient=1.0, depth_coefficient=1.0, resolution=224, dropout_rate=0.2, blocks=(BlockConfig(input_filters=32, output_filters=16, kernel_size=3, num_repeat=1, expand_ratio=1, strides=(1, 1), se_ratio=0.25, id_skip=True, fused_conv=False, conv_type='depthwise'), BlockConfig(input_filters=16, output_filters=24, kernel_size=3, num_repeat=2, expand_ratio=6, strides=(2, 2), se_ratio=0.25, id_skip=True, fused_conv=False, conv_type='depthwise'), BlockConfig(input_filters=24, output_filters=40, kernel_size=5, num_repeat=2, expand_ratio=6, strides=(2, 2), se_ratio=0.25, id_skip=True, fused_conv=False, conv_type='depthwise'), BlockConfig(input_filters=40, output_filters=80, kernel_size=3, num_repeat=3, expand_ratio=6, strides=(2, 2), se_ratio=0.25, id_skip=True, fused_conv=False, conv_type='depthwise'), BlockConfig(input_filters=80, output_filters=112, kernel_size=5, num_repeat=3, expand_ratio=6, strides=(1, 1), se_ratio=0.25, id_skip=True, fused_conv=False, conv_type='depthwise'), BlockConfig(input_filters=112, output_filters=192, kernel_size=5, num_repeat=4, expand_ratio=6, strides=(2, 2), se_ratio=0.25, id_skip=True, fused_conv=False, conv_type='depthwise'), BlockConfig(input_filters=192, output_filters=320, kernel_size=3, num_repeat=1, expand_ratio=6, strides=(1, 1), se_ratio=0.25, id_skip=True, fused_conv=False, conv_type='depthwise')), stem_base_filters=32, top_base_filters=1280, activation='simple_swish', batch_norm='default', bn_momentum=0.99, bn_epsilon=0.001, weight_decay=5e-06, drop_connect_rate=0.2, depth_divisor=8, min_depth=None, use_se=True, input_channels=3, num_classes=1000, model_name='efficientnet', rescale_input=False, data_format='channels_last', dtype='float32')\n",
      "I0619 13:55:15.679953 140046577084288 ssd_efficientnet_bifpn_feature_extractor.py:143] EfficientDet EfficientNet backbone version: efficientnet-b1\n",
      "I0619 13:55:15.680108 140046577084288 ssd_efficientnet_bifpn_feature_extractor.py:144] EfficientDet BiFPN num filters: 88\n",
      "I0619 13:55:15.680191 140046577084288 ssd_efficientnet_bifpn_feature_extractor.py:146] EfficientDet BiFPN num iterations: 4\n",
      "I0619 13:55:15.681647 140046577084288 efficientnet_model.py:147] round_filter input=32 output=32\n",
      "I0619 13:55:15.695309 140046577084288 efficientnet_model.py:147] round_filter input=32 output=32\n",
      "I0619 13:55:15.695415 140046577084288 efficientnet_model.py:147] round_filter input=16 output=16\n",
      "I0619 13:55:15.797155 140046577084288 efficientnet_model.py:147] round_filter input=16 output=16\n",
      "I0619 13:55:15.797318 140046577084288 efficientnet_model.py:147] round_filter input=24 output=24\n",
      "I0619 13:55:15.993448 140046577084288 efficientnet_model.py:147] round_filter input=24 output=24\n",
      "I0619 13:55:15.993630 140046577084288 efficientnet_model.py:147] round_filter input=40 output=40\n",
      "I0619 13:55:16.183487 140046577084288 efficientnet_model.py:147] round_filter input=40 output=40\n",
      "I0619 13:55:16.183690 140046577084288 efficientnet_model.py:147] round_filter input=80 output=80\n",
      "I0619 13:55:16.448353 140046577084288 efficientnet_model.py:147] round_filter input=80 output=80\n",
      "I0619 13:55:16.448563 140046577084288 efficientnet_model.py:147] round_filter input=112 output=112\n",
      "I0619 13:55:16.704722 140046577084288 efficientnet_model.py:147] round_filter input=112 output=112\n",
      "I0619 13:55:16.704917 140046577084288 efficientnet_model.py:147] round_filter input=192 output=192\n",
      "I0619 13:55:17.031761 140046577084288 efficientnet_model.py:147] round_filter input=192 output=192\n",
      "I0619 13:55:17.031938 140046577084288 efficientnet_model.py:147] round_filter input=320 output=320\n",
      "I0619 13:55:17.159409 140046577084288 efficientnet_model.py:147] round_filter input=1280 output=1280\n",
      "I0619 13:55:17.183968 140046577084288 efficientnet_model.py:458] Building model efficientnet with params ModelConfig(width_coefficient=1.0, depth_coefficient=1.1, resolution=240, dropout_rate=0.2, blocks=(BlockConfig(input_filters=32, output_filters=16, kernel_size=3, num_repeat=1, expand_ratio=1, strides=(1, 1), se_ratio=0.25, id_skip=True, fused_conv=False, conv_type='depthwise'), BlockConfig(input_filters=16, output_filters=24, kernel_size=3, num_repeat=2, expand_ratio=6, strides=(2, 2), se_ratio=0.25, id_skip=True, fused_conv=False, conv_type='depthwise'), BlockConfig(input_filters=24, output_filters=40, kernel_size=5, num_repeat=2, expand_ratio=6, strides=(2, 2), se_ratio=0.25, id_skip=True, fused_conv=False, conv_type='depthwise'), BlockConfig(input_filters=40, output_filters=80, kernel_size=3, num_repeat=3, expand_ratio=6, strides=(2, 2), se_ratio=0.25, id_skip=True, fused_conv=False, conv_type='depthwise'), BlockConfig(input_filters=80, output_filters=112, kernel_size=5, num_repeat=3, expand_ratio=6, strides=(1, 1), se_ratio=0.25, id_skip=True, fused_conv=False, conv_type='depthwise'), BlockConfig(input_filters=112, output_filters=192, kernel_size=5, num_repeat=4, expand_ratio=6, strides=(2, 2), se_ratio=0.25, id_skip=True, fused_conv=False, conv_type='depthwise'), BlockConfig(input_filters=192, output_filters=320, kernel_size=3, num_repeat=1, expand_ratio=6, strides=(1, 1), se_ratio=0.25, id_skip=True, fused_conv=False, conv_type='depthwise')), stem_base_filters=32, top_base_filters=1280, activation='simple_swish', batch_norm='default', bn_momentum=0.99, bn_epsilon=0.001, weight_decay=5e-06, drop_connect_rate=0.2, depth_divisor=8, min_depth=None, use_se=True, input_channels=3, num_classes=1000, model_name='efficientnet', rescale_input=False, data_format='channels_last', dtype='float32')\n",
      "I0619 13:55:17.239476 140046577084288 ssd_efficientnet_bifpn_feature_extractor.py:143] EfficientDet EfficientNet backbone version: efficientnet-b2\n",
      "I0619 13:55:17.239635 140046577084288 ssd_efficientnet_bifpn_feature_extractor.py:144] EfficientDet BiFPN num filters: 112\n",
      "I0619 13:55:17.239706 140046577084288 ssd_efficientnet_bifpn_feature_extractor.py:146] EfficientDet BiFPN num iterations: 5\n",
      "I0619 13:55:17.241185 140046577084288 efficientnet_model.py:147] round_filter input=32 output=32\n",
      "I0619 13:55:17.253677 140046577084288 efficientnet_model.py:147] round_filter input=32 output=32\n",
      "I0619 13:55:17.253794 140046577084288 efficientnet_model.py:147] round_filter input=16 output=16\n",
      "I0619 13:55:17.360816 140046577084288 efficientnet_model.py:147] round_filter input=16 output=16\n",
      "I0619 13:55:17.360987 140046577084288 efficientnet_model.py:147] round_filter input=24 output=24\n",
      "I0619 13:55:17.673307 140046577084288 efficientnet_model.py:147] round_filter input=24 output=24\n",
      "I0619 13:55:17.673482 140046577084288 efficientnet_model.py:147] round_filter input=40 output=48\n",
      "I0619 13:55:17.863866 140046577084288 efficientnet_model.py:147] round_filter input=40 output=48\n",
      "I0619 13:55:17.864035 140046577084288 efficientnet_model.py:147] round_filter input=80 output=88\n",
      "I0619 13:55:18.163644 140046577084288 efficientnet_model.py:147] round_filter input=80 output=88\n",
      "I0619 13:55:18.163846 140046577084288 efficientnet_model.py:147] round_filter input=112 output=120\n",
      "I0619 13:55:18.429266 140046577084288 efficientnet_model.py:147] round_filter input=112 output=120\n",
      "I0619 13:55:18.429437 140046577084288 efficientnet_model.py:147] round_filter input=192 output=208\n",
      "I0619 13:55:18.753688 140046577084288 efficientnet_model.py:147] round_filter input=192 output=208\n",
      "I0619 13:55:18.753870 140046577084288 efficientnet_model.py:147] round_filter input=320 output=352\n",
      "I0619 13:55:18.876700 140046577084288 efficientnet_model.py:147] round_filter input=1280 output=1408\n",
      "I0619 13:55:18.902498 140046577084288 efficientnet_model.py:458] Building model efficientnet with params ModelConfig(width_coefficient=1.1, depth_coefficient=1.2, resolution=260, dropout_rate=0.3, blocks=(BlockConfig(input_filters=32, output_filters=16, kernel_size=3, num_repeat=1, expand_ratio=1, strides=(1, 1), se_ratio=0.25, id_skip=True, fused_conv=False, conv_type='depthwise'), BlockConfig(input_filters=16, output_filters=24, kernel_size=3, num_repeat=2, expand_ratio=6, strides=(2, 2), se_ratio=0.25, id_skip=True, fused_conv=False, conv_type='depthwise'), BlockConfig(input_filters=24, output_filters=40, kernel_size=5, num_repeat=2, expand_ratio=6, strides=(2, 2), se_ratio=0.25, id_skip=True, fused_conv=False, conv_type='depthwise'), BlockConfig(input_filters=40, output_filters=80, kernel_size=3, num_repeat=3, expand_ratio=6, strides=(2, 2), se_ratio=0.25, id_skip=True, fused_conv=False, conv_type='depthwise'), BlockConfig(input_filters=80, output_filters=112, kernel_size=5, num_repeat=3, expand_ratio=6, strides=(1, 1), se_ratio=0.25, id_skip=True, fused_conv=False, conv_type='depthwise'), BlockConfig(input_filters=112, output_filters=192, kernel_size=5, num_repeat=4, expand_ratio=6, strides=(2, 2), se_ratio=0.25, id_skip=True, fused_conv=False, conv_type='depthwise'), BlockConfig(input_filters=192, output_filters=320, kernel_size=3, num_repeat=1, expand_ratio=6, strides=(1, 1), se_ratio=0.25, id_skip=True, fused_conv=False, conv_type='depthwise')), stem_base_filters=32, top_base_filters=1280, activation='simple_swish', batch_norm='default', bn_momentum=0.99, bn_epsilon=0.001, weight_decay=5e-06, drop_connect_rate=0.2, depth_divisor=8, min_depth=None, use_se=True, input_channels=3, num_classes=1000, model_name='efficientnet', rescale_input=False, data_format='channels_last', dtype='float32')\n",
      "I0619 13:55:18.957340 140046577084288 ssd_efficientnet_bifpn_feature_extractor.py:143] EfficientDet EfficientNet backbone version: efficientnet-b3\n",
      "I0619 13:55:18.957508 140046577084288 ssd_efficientnet_bifpn_feature_extractor.py:144] EfficientDet BiFPN num filters: 160\n",
      "I0619 13:55:18.957581 140046577084288 ssd_efficientnet_bifpn_feature_extractor.py:146] EfficientDet BiFPN num iterations: 6\n",
      "I0619 13:55:18.959082 140046577084288 efficientnet_model.py:147] round_filter input=32 output=40\n",
      "I0619 13:55:18.972495 140046577084288 efficientnet_model.py:147] round_filter input=32 output=40\n",
      "I0619 13:55:18.972607 140046577084288 efficientnet_model.py:147] round_filter input=16 output=24\n",
      "I0619 13:55:19.075999 140046577084288 efficientnet_model.py:147] round_filter input=16 output=24\n",
      "I0619 13:55:19.076174 140046577084288 efficientnet_model.py:147] round_filter input=24 output=32\n",
      "I0619 13:55:19.265180 140046577084288 efficientnet_model.py:147] round_filter input=24 output=32\n",
      "I0619 13:55:19.265369 140046577084288 efficientnet_model.py:147] round_filter input=40 output=48\n",
      "I0619 13:55:19.463603 140046577084288 efficientnet_model.py:147] round_filter input=40 output=48\n",
      "I0619 13:55:19.463795 140046577084288 efficientnet_model.py:147] round_filter input=80 output=96\n",
      "I0619 13:55:19.797000 140046577084288 efficientnet_model.py:147] round_filter input=80 output=96\n",
      "I0619 13:55:19.797207 140046577084288 efficientnet_model.py:147] round_filter input=112 output=136\n",
      "I0619 13:55:20.124840 140046577084288 efficientnet_model.py:147] round_filter input=112 output=136\n",
      "I0619 13:55:20.125045 140046577084288 efficientnet_model.py:147] round_filter input=192 output=232\n",
      "I0619 13:55:20.522951 140046577084288 efficientnet_model.py:147] round_filter input=192 output=232\n",
      "I0619 13:55:20.523152 140046577084288 efficientnet_model.py:147] round_filter input=320 output=384\n",
      "I0619 13:55:20.803217 140046577084288 efficientnet_model.py:147] round_filter input=1280 output=1536\n",
      "I0619 13:55:20.830000 140046577084288 efficientnet_model.py:458] Building model efficientnet with params ModelConfig(width_coefficient=1.2, depth_coefficient=1.4, resolution=300, dropout_rate=0.3, blocks=(BlockConfig(input_filters=32, output_filters=16, kernel_size=3, num_repeat=1, expand_ratio=1, strides=(1, 1), se_ratio=0.25, id_skip=True, fused_conv=False, conv_type='depthwise'), BlockConfig(input_filters=16, output_filters=24, kernel_size=3, num_repeat=2, expand_ratio=6, strides=(2, 2), se_ratio=0.25, id_skip=True, fused_conv=False, conv_type='depthwise'), BlockConfig(input_filters=24, output_filters=40, kernel_size=5, num_repeat=2, expand_ratio=6, strides=(2, 2), se_ratio=0.25, id_skip=True, fused_conv=False, conv_type='depthwise'), BlockConfig(input_filters=40, output_filters=80, kernel_size=3, num_repeat=3, expand_ratio=6, strides=(2, 2), se_ratio=0.25, id_skip=True, fused_conv=False, conv_type='depthwise'), BlockConfig(input_filters=80, output_filters=112, kernel_size=5, num_repeat=3, expand_ratio=6, strides=(1, 1), se_ratio=0.25, id_skip=True, fused_conv=False, conv_type='depthwise'), BlockConfig(input_filters=112, output_filters=192, kernel_size=5, num_repeat=4, expand_ratio=6, strides=(2, 2), se_ratio=0.25, id_skip=True, fused_conv=False, conv_type='depthwise'), BlockConfig(input_filters=192, output_filters=320, kernel_size=3, num_repeat=1, expand_ratio=6, strides=(1, 1), se_ratio=0.25, id_skip=True, fused_conv=False, conv_type='depthwise')), stem_base_filters=32, top_base_filters=1280, activation='simple_swish', batch_norm='default', bn_momentum=0.99, bn_epsilon=0.001, weight_decay=5e-06, drop_connect_rate=0.2, depth_divisor=8, min_depth=None, use_se=True, input_channels=3, num_classes=1000, model_name='efficientnet', rescale_input=False, data_format='channels_last', dtype='float32')\n",
      "I0619 13:55:20.890995 140046577084288 ssd_efficientnet_bifpn_feature_extractor.py:143] EfficientDet EfficientNet backbone version: efficientnet-b4\n",
      "I0619 13:55:20.891197 140046577084288 ssd_efficientnet_bifpn_feature_extractor.py:144] EfficientDet BiFPN num filters: 224\n",
      "I0619 13:55:20.891281 140046577084288 ssd_efficientnet_bifpn_feature_extractor.py:146] EfficientDet BiFPN num iterations: 7\n",
      "I0619 13:55:20.892790 140046577084288 efficientnet_model.py:147] round_filter input=32 output=48\n",
      "I0619 13:55:20.906537 140046577084288 efficientnet_model.py:147] round_filter input=32 output=48\n",
      "I0619 13:55:20.906675 140046577084288 efficientnet_model.py:147] round_filter input=16 output=24\n",
      "I0619 13:55:21.009427 140046577084288 efficientnet_model.py:147] round_filter input=16 output=24\n",
      "I0619 13:55:21.009596 140046577084288 efficientnet_model.py:147] round_filter input=24 output=32\n",
      "I0619 13:55:21.269159 140046577084288 efficientnet_model.py:147] round_filter input=24 output=32\n",
      "I0619 13:55:21.269338 140046577084288 efficientnet_model.py:147] round_filter input=40 output=56\n",
      "I0619 13:55:21.529939 140046577084288 efficientnet_model.py:147] round_filter input=40 output=56\n",
      "I0619 13:55:21.530123 140046577084288 efficientnet_model.py:147] round_filter input=80 output=112\n",
      "I0619 13:55:21.921847 140046577084288 efficientnet_model.py:147] round_filter input=80 output=112\n",
      "I0619 13:55:21.922027 140046577084288 efficientnet_model.py:147] round_filter input=112 output=160\n",
      "I0619 13:55:22.313617 140046577084288 efficientnet_model.py:147] round_filter input=112 output=160\n",
      "I0619 13:55:22.313799 140046577084288 efficientnet_model.py:147] round_filter input=192 output=272\n",
      "I0619 13:55:22.827508 140046577084288 efficientnet_model.py:147] round_filter input=192 output=272\n",
      "I0619 13:55:22.827682 140046577084288 efficientnet_model.py:147] round_filter input=320 output=448\n",
      "I0619 13:55:22.955306 140046577084288 efficientnet_model.py:147] round_filter input=1280 output=1792\n",
      "I0619 13:55:22.979016 140046577084288 efficientnet_model.py:458] Building model efficientnet with params ModelConfig(width_coefficient=1.4, depth_coefficient=1.8, resolution=380, dropout_rate=0.4, blocks=(BlockConfig(input_filters=32, output_filters=16, kernel_size=3, num_repeat=1, expand_ratio=1, strides=(1, 1), se_ratio=0.25, id_skip=True, fused_conv=False, conv_type='depthwise'), BlockConfig(input_filters=16, output_filters=24, kernel_size=3, num_repeat=2, expand_ratio=6, strides=(2, 2), se_ratio=0.25, id_skip=True, fused_conv=False, conv_type='depthwise'), BlockConfig(input_filters=24, output_filters=40, kernel_size=5, num_repeat=2, expand_ratio=6, strides=(2, 2), se_ratio=0.25, id_skip=True, fused_conv=False, conv_type='depthwise'), BlockConfig(input_filters=40, output_filters=80, kernel_size=3, num_repeat=3, expand_ratio=6, strides=(2, 2), se_ratio=0.25, id_skip=True, fused_conv=False, conv_type='depthwise'), BlockConfig(input_filters=80, output_filters=112, kernel_size=5, num_repeat=3, expand_ratio=6, strides=(1, 1), se_ratio=0.25, id_skip=True, fused_conv=False, conv_type='depthwise'), BlockConfig(input_filters=112, output_filters=192, kernel_size=5, num_repeat=4, expand_ratio=6, strides=(2, 2), se_ratio=0.25, id_skip=True, fused_conv=False, conv_type='depthwise'), BlockConfig(input_filters=192, output_filters=320, kernel_size=3, num_repeat=1, expand_ratio=6, strides=(1, 1), se_ratio=0.25, id_skip=True, fused_conv=False, conv_type='depthwise')), stem_base_filters=32, top_base_filters=1280, activation='simple_swish', batch_norm='default', bn_momentum=0.99, bn_epsilon=0.001, weight_decay=5e-06, drop_connect_rate=0.2, depth_divisor=8, min_depth=None, use_se=True, input_channels=3, num_classes=1000, model_name='efficientnet', rescale_input=False, data_format='channels_last', dtype='float32')\n",
      "I0619 13:55:23.059077 140046577084288 ssd_efficientnet_bifpn_feature_extractor.py:143] EfficientDet EfficientNet backbone version: efficientnet-b5\n",
      "I0619 13:55:23.059295 140046577084288 ssd_efficientnet_bifpn_feature_extractor.py:144] EfficientDet BiFPN num filters: 288\n",
      "I0619 13:55:23.059376 140046577084288 ssd_efficientnet_bifpn_feature_extractor.py:146] EfficientDet BiFPN num iterations: 7\n",
      "I0619 13:55:23.061708 140046577084288 efficientnet_model.py:147] round_filter input=32 output=48\n",
      "I0619 13:55:23.081866 140046577084288 efficientnet_model.py:147] round_filter input=32 output=48\n",
      "I0619 13:55:23.082031 140046577084288 efficientnet_model.py:147] round_filter input=16 output=24\n",
      "I0619 13:55:23.247721 140046577084288 efficientnet_model.py:147] round_filter input=16 output=24\n",
      "I0619 13:55:23.247946 140046577084288 efficientnet_model.py:147] round_filter input=24 output=40\n",
      "I0619 13:55:23.575357 140046577084288 efficientnet_model.py:147] round_filter input=24 output=40\n",
      "I0619 13:55:23.575540 140046577084288 efficientnet_model.py:147] round_filter input=40 output=64\n",
      "I0619 13:55:24.080999 140046577084288 efficientnet_model.py:147] round_filter input=40 output=64\n",
      "I0619 13:55:24.081189 140046577084288 efficientnet_model.py:147] round_filter input=80 output=128\n",
      "I0619 13:55:24.544183 140046577084288 efficientnet_model.py:147] round_filter input=80 output=128\n",
      "I0619 13:55:24.544364 140046577084288 efficientnet_model.py:147] round_filter input=112 output=176\n",
      "I0619 13:55:25.000280 140046577084288 efficientnet_model.py:147] round_filter input=112 output=176\n",
      "I0619 13:55:25.000462 140046577084288 efficientnet_model.py:147] round_filter input=192 output=304\n",
      "I0619 13:55:25.598002 140046577084288 efficientnet_model.py:147] round_filter input=192 output=304\n",
      "I0619 13:55:25.598190 140046577084288 efficientnet_model.py:147] round_filter input=320 output=512\n",
      "I0619 13:55:25.795245 140046577084288 efficientnet_model.py:147] round_filter input=1280 output=2048\n",
      "I0619 13:55:25.824636 140046577084288 efficientnet_model.py:458] Building model efficientnet with params ModelConfig(width_coefficient=1.6, depth_coefficient=2.2, resolution=456, dropout_rate=0.4, blocks=(BlockConfig(input_filters=32, output_filters=16, kernel_size=3, num_repeat=1, expand_ratio=1, strides=(1, 1), se_ratio=0.25, id_skip=True, fused_conv=False, conv_type='depthwise'), BlockConfig(input_filters=16, output_filters=24, kernel_size=3, num_repeat=2, expand_ratio=6, strides=(2, 2), se_ratio=0.25, id_skip=True, fused_conv=False, conv_type='depthwise'), BlockConfig(input_filters=24, output_filters=40, kernel_size=5, num_repeat=2, expand_ratio=6, strides=(2, 2), se_ratio=0.25, id_skip=True, fused_conv=False, conv_type='depthwise'), BlockConfig(input_filters=40, output_filters=80, kernel_size=3, num_repeat=3, expand_ratio=6, strides=(2, 2), se_ratio=0.25, id_skip=True, fused_conv=False, conv_type='depthwise'), BlockConfig(input_filters=80, output_filters=112, kernel_size=5, num_repeat=3, expand_ratio=6, strides=(1, 1), se_ratio=0.25, id_skip=True, fused_conv=False, conv_type='depthwise'), BlockConfig(input_filters=112, output_filters=192, kernel_size=5, num_repeat=4, expand_ratio=6, strides=(2, 2), se_ratio=0.25, id_skip=True, fused_conv=False, conv_type='depthwise'), BlockConfig(input_filters=192, output_filters=320, kernel_size=3, num_repeat=1, expand_ratio=6, strides=(1, 1), se_ratio=0.25, id_skip=True, fused_conv=False, conv_type='depthwise')), stem_base_filters=32, top_base_filters=1280, activation='simple_swish', batch_norm='default', bn_momentum=0.99, bn_epsilon=0.001, weight_decay=5e-06, drop_connect_rate=0.2, depth_divisor=8, min_depth=None, use_se=True, input_channels=3, num_classes=1000, model_name='efficientnet', rescale_input=False, data_format='channels_last', dtype='float32')\n",
      "I0619 13:55:25.919807 140046577084288 ssd_efficientnet_bifpn_feature_extractor.py:143] EfficientDet EfficientNet backbone version: efficientnet-b6\n",
      "I0619 13:55:25.919983 140046577084288 ssd_efficientnet_bifpn_feature_extractor.py:144] EfficientDet BiFPN num filters: 384\n",
      "I0619 13:55:25.920062 140046577084288 ssd_efficientnet_bifpn_feature_extractor.py:146] EfficientDet BiFPN num iterations: 8\n",
      "I0619 13:55:25.921805 140046577084288 efficientnet_model.py:147] round_filter input=32 output=56\n",
      "I0619 13:55:25.936390 140046577084288 efficientnet_model.py:147] round_filter input=32 output=56\n",
      "I0619 13:55:25.936504 140046577084288 efficientnet_model.py:147] round_filter input=16 output=32\n",
      "I0619 13:55:26.103835 140046577084288 efficientnet_model.py:147] round_filter input=16 output=32\n",
      "I0619 13:55:26.104029 140046577084288 efficientnet_model.py:147] round_filter input=24 output=40\n",
      "I0619 13:55:26.527054 140046577084288 efficientnet_model.py:147] round_filter input=24 output=40\n",
      "I0619 13:55:26.527245 140046577084288 efficientnet_model.py:147] round_filter input=40 output=72\n",
      "I0619 13:55:26.919580 140046577084288 efficientnet_model.py:147] round_filter input=40 output=72\n",
      "I0619 13:55:26.919752 140046577084288 efficientnet_model.py:147] round_filter input=80 output=144\n",
      "I0619 13:55:27.431496 140046577084288 efficientnet_model.py:147] round_filter input=80 output=144\n",
      "I0619 13:55:27.431687 140046577084288 efficientnet_model.py:147] round_filter input=112 output=200\n",
      "I0619 13:55:28.139599 140046577084288 efficientnet_model.py:147] round_filter input=112 output=200\n",
      "I0619 13:55:28.139784 140046577084288 efficientnet_model.py:147] round_filter input=192 output=344\n",
      "I0619 13:55:28.865928 140046577084288 efficientnet_model.py:147] round_filter input=192 output=344\n",
      "I0619 13:55:28.866108 140046577084288 efficientnet_model.py:147] round_filter input=320 output=576\n",
      "I0619 13:55:29.061676 140046577084288 efficientnet_model.py:147] round_filter input=1280 output=2304\n",
      "I0619 13:55:29.088451 140046577084288 efficientnet_model.py:458] Building model efficientnet with params ModelConfig(width_coefficient=1.8, depth_coefficient=2.6, resolution=528, dropout_rate=0.5, blocks=(BlockConfig(input_filters=32, output_filters=16, kernel_size=3, num_repeat=1, expand_ratio=1, strides=(1, 1), se_ratio=0.25, id_skip=True, fused_conv=False, conv_type='depthwise'), BlockConfig(input_filters=16, output_filters=24, kernel_size=3, num_repeat=2, expand_ratio=6, strides=(2, 2), se_ratio=0.25, id_skip=True, fused_conv=False, conv_type='depthwise'), BlockConfig(input_filters=24, output_filters=40, kernel_size=5, num_repeat=2, expand_ratio=6, strides=(2, 2), se_ratio=0.25, id_skip=True, fused_conv=False, conv_type='depthwise'), BlockConfig(input_filters=40, output_filters=80, kernel_size=3, num_repeat=3, expand_ratio=6, strides=(2, 2), se_ratio=0.25, id_skip=True, fused_conv=False, conv_type='depthwise'), BlockConfig(input_filters=80, output_filters=112, kernel_size=5, num_repeat=3, expand_ratio=6, strides=(1, 1), se_ratio=0.25, id_skip=True, fused_conv=False, conv_type='depthwise'), BlockConfig(input_filters=112, output_filters=192, kernel_size=5, num_repeat=4, expand_ratio=6, strides=(2, 2), se_ratio=0.25, id_skip=True, fused_conv=False, conv_type='depthwise'), BlockConfig(input_filters=192, output_filters=320, kernel_size=3, num_repeat=1, expand_ratio=6, strides=(1, 1), se_ratio=0.25, id_skip=True, fused_conv=False, conv_type='depthwise')), stem_base_filters=32, top_base_filters=1280, activation='simple_swish', batch_norm='default', bn_momentum=0.99, bn_epsilon=0.001, weight_decay=5e-06, drop_connect_rate=0.2, depth_divisor=8, min_depth=None, use_se=True, input_channels=3, num_classes=1000, model_name='efficientnet', rescale_input=False, data_format='channels_last', dtype='float32')\n",
      "I0619 13:55:29.180822 140046577084288 ssd_efficientnet_bifpn_feature_extractor.py:143] EfficientDet EfficientNet backbone version: efficientnet-b7\n",
      "I0619 13:55:29.181003 140046577084288 ssd_efficientnet_bifpn_feature_extractor.py:144] EfficientDet BiFPN num filters: 384\n",
      "I0619 13:55:29.181081 140046577084288 ssd_efficientnet_bifpn_feature_extractor.py:146] EfficientDet BiFPN num iterations: 8\n",
      "I0619 13:55:29.183017 140046577084288 efficientnet_model.py:147] round_filter input=32 output=64\n",
      "I0619 13:55:29.196269 140046577084288 efficientnet_model.py:147] round_filter input=32 output=64\n",
      "I0619 13:55:29.196385 140046577084288 efficientnet_model.py:147] round_filter input=16 output=32\n",
      "I0619 13:55:29.405191 140046577084288 efficientnet_model.py:147] round_filter input=16 output=32\n",
      "I0619 13:55:29.405362 140046577084288 efficientnet_model.py:147] round_filter input=24 output=48\n",
      "I0619 13:55:29.858402 140046577084288 efficientnet_model.py:147] round_filter input=24 output=48\n",
      "I0619 13:55:29.858582 140046577084288 efficientnet_model.py:147] round_filter input=40 output=80\n",
      "I0619 13:55:30.308135 140046577084288 efficientnet_model.py:147] round_filter input=40 output=80\n",
      "I0619 13:55:30.308336 140046577084288 efficientnet_model.py:147] round_filter input=80 output=160\n",
      "I0619 13:55:30.977910 140046577084288 efficientnet_model.py:147] round_filter input=80 output=160\n",
      "I0619 13:55:30.978096 140046577084288 efficientnet_model.py:147] round_filter input=112 output=224\n",
      "I0619 13:55:31.910037 140046577084288 efficientnet_model.py:147] round_filter input=112 output=224\n",
      "I0619 13:55:31.910237 140046577084288 efficientnet_model.py:147] round_filter input=192 output=384\n",
      "I0619 13:55:32.789978 140046577084288 efficientnet_model.py:147] round_filter input=192 output=384\n",
      "I0619 13:55:32.790179 140046577084288 efficientnet_model.py:147] round_filter input=320 output=640\n",
      "I0619 13:55:33.047719 140046577084288 efficientnet_model.py:147] round_filter input=1280 output=2560\n",
      "I0619 13:55:33.080123 140046577084288 efficientnet_model.py:458] Building model efficientnet with params ModelConfig(width_coefficient=2.0, depth_coefficient=3.1, resolution=600, dropout_rate=0.5, blocks=(BlockConfig(input_filters=32, output_filters=16, kernel_size=3, num_repeat=1, expand_ratio=1, strides=(1, 1), se_ratio=0.25, id_skip=True, fused_conv=False, conv_type='depthwise'), BlockConfig(input_filters=16, output_filters=24, kernel_size=3, num_repeat=2, expand_ratio=6, strides=(2, 2), se_ratio=0.25, id_skip=True, fused_conv=False, conv_type='depthwise'), BlockConfig(input_filters=24, output_filters=40, kernel_size=5, num_repeat=2, expand_ratio=6, strides=(2, 2), se_ratio=0.25, id_skip=True, fused_conv=False, conv_type='depthwise'), BlockConfig(input_filters=40, output_filters=80, kernel_size=3, num_repeat=3, expand_ratio=6, strides=(2, 2), se_ratio=0.25, id_skip=True, fused_conv=False, conv_type='depthwise'), BlockConfig(input_filters=80, output_filters=112, kernel_size=5, num_repeat=3, expand_ratio=6, strides=(1, 1), se_ratio=0.25, id_skip=True, fused_conv=False, conv_type='depthwise'), BlockConfig(input_filters=112, output_filters=192, kernel_size=5, num_repeat=4, expand_ratio=6, strides=(2, 2), se_ratio=0.25, id_skip=True, fused_conv=False, conv_type='depthwise'), BlockConfig(input_filters=192, output_filters=320, kernel_size=3, num_repeat=1, expand_ratio=6, strides=(1, 1), se_ratio=0.25, id_skip=True, fused_conv=False, conv_type='depthwise')), stem_base_filters=32, top_base_filters=1280, activation='simple_swish', batch_norm='default', bn_momentum=0.99, bn_epsilon=0.001, weight_decay=5e-06, drop_connect_rate=0.2, depth_divisor=8, min_depth=None, use_se=True, input_channels=3, num_classes=1000, model_name='efficientnet', rescale_input=False, data_format='channels_last', dtype='float32')\n",
      "INFO:tensorflow:time(__main__.ModelBuilderTF2Test.test_create_ssd_models_from_config): 18.91s\n",
      "I0619 13:55:33.188470 140046577084288 test_util.py:2103] time(__main__.ModelBuilderTF2Test.test_create_ssd_models_from_config): 18.91s\n",
      "[       OK ] ModelBuilderTF2Test.test_create_ssd_models_from_config\n",
      "[ RUN      ] ModelBuilderTF2Test.test_invalid_faster_rcnn_batchnorm_update\n",
      "INFO:tensorflow:time(__main__.ModelBuilderTF2Test.test_invalid_faster_rcnn_batchnorm_update): 0.0s\n",
      "I0619 13:55:33.194750 140046577084288 test_util.py:2103] time(__main__.ModelBuilderTF2Test.test_invalid_faster_rcnn_batchnorm_update): 0.0s\n",
      "[       OK ] ModelBuilderTF2Test.test_invalid_faster_rcnn_batchnorm_update\n",
      "[ RUN      ] ModelBuilderTF2Test.test_invalid_first_stage_nms_iou_threshold\n",
      "INFO:tensorflow:time(__main__.ModelBuilderTF2Test.test_invalid_first_stage_nms_iou_threshold): 0.0s\n",
      "I0619 13:55:33.196336 140046577084288 test_util.py:2103] time(__main__.ModelBuilderTF2Test.test_invalid_first_stage_nms_iou_threshold): 0.0s\n",
      "[       OK ] ModelBuilderTF2Test.test_invalid_first_stage_nms_iou_threshold\n",
      "[ RUN      ] ModelBuilderTF2Test.test_invalid_model_config_proto\n",
      "INFO:tensorflow:time(__main__.ModelBuilderTF2Test.test_invalid_model_config_proto): 0.0s\n",
      "I0619 13:55:33.196818 140046577084288 test_util.py:2103] time(__main__.ModelBuilderTF2Test.test_invalid_model_config_proto): 0.0s\n",
      "[       OK ] ModelBuilderTF2Test.test_invalid_model_config_proto\n",
      "[ RUN      ] ModelBuilderTF2Test.test_invalid_second_stage_batch_size\n",
      "INFO:tensorflow:time(__main__.ModelBuilderTF2Test.test_invalid_second_stage_batch_size): 0.0s\n",
      "I0619 13:55:33.198226 140046577084288 test_util.py:2103] time(__main__.ModelBuilderTF2Test.test_invalid_second_stage_batch_size): 0.0s\n",
      "[       OK ] ModelBuilderTF2Test.test_invalid_second_stage_batch_size\n",
      "[ RUN      ] ModelBuilderTF2Test.test_session\n",
      "[  SKIPPED ] ModelBuilderTF2Test.test_session\n",
      "[ RUN      ] ModelBuilderTF2Test.test_unknown_faster_rcnn_feature_extractor\n",
      "INFO:tensorflow:time(__main__.ModelBuilderTF2Test.test_unknown_faster_rcnn_feature_extractor): 0.0s\n",
      "I0619 13:55:33.199508 140046577084288 test_util.py:2103] time(__main__.ModelBuilderTF2Test.test_unknown_faster_rcnn_feature_extractor): 0.0s\n",
      "[       OK ] ModelBuilderTF2Test.test_unknown_faster_rcnn_feature_extractor\n",
      "[ RUN      ] ModelBuilderTF2Test.test_unknown_meta_architecture\n",
      "INFO:tensorflow:time(__main__.ModelBuilderTF2Test.test_unknown_meta_architecture): 0.0s\n",
      "I0619 13:55:33.199930 140046577084288 test_util.py:2103] time(__main__.ModelBuilderTF2Test.test_unknown_meta_architecture): 0.0s\n",
      "[       OK ] ModelBuilderTF2Test.test_unknown_meta_architecture\n",
      "[ RUN      ] ModelBuilderTF2Test.test_unknown_ssd_feature_extractor\n",
      "INFO:tensorflow:time(__main__.ModelBuilderTF2Test.test_unknown_ssd_feature_extractor): 0.0s\n",
      "I0619 13:55:33.200849 140046577084288 test_util.py:2103] time(__main__.ModelBuilderTF2Test.test_unknown_ssd_feature_extractor): 0.0s\n",
      "[       OK ] ModelBuilderTF2Test.test_unknown_ssd_feature_extractor\n",
      "----------------------------------------------------------------------\n",
      "Ran 24 tests in 25.583s\n",
      "\n",
      "OK (skipped=1)\n"
     ]
    }
   ],
   "source": [
    "VERIFICATION_SCRIPT = os.path.join(paths['APIMODEL_PATH'], 'research', 'object_detection', 'builders', 'model_builder_tf2_test.py')\n",
    "# Verify Installation\n",
    "!python {VERIFICATION_SCRIPT}"
   ]
  },
  {
   "cell_type": "code",
   "execution_count": 6,
   "metadata": {
    "colab": {
     "base_uri": "https://localhost:8080/"
    },
    "id": "4tJRtRJc0nN5",
    "outputId": "c39d11b6-7949-4c05-cffa-e59668167e0e"
   },
   "outputs": [
    {
     "name": "stdout",
     "output_type": "stream",
     "text": [
      "Requirement already up-to-date: tensorflow in /usr/local/lib/python3.7/dist-packages (2.5.0)\n",
      "Requirement already satisfied, skipping upgrade: opt-einsum~=3.3.0 in /usr/local/lib/python3.7/dist-packages (from tensorflow) (3.3.0)\n",
      "Requirement already satisfied, skipping upgrade: h5py~=3.1.0 in /usr/local/lib/python3.7/dist-packages (from tensorflow) (3.1.0)\n",
      "Requirement already satisfied, skipping upgrade: tensorflow-estimator<2.6.0,>=2.5.0rc0 in /usr/local/lib/python3.7/dist-packages (from tensorflow) (2.5.0)\n",
      "Requirement already satisfied, skipping upgrade: google-pasta~=0.2 in /usr/local/lib/python3.7/dist-packages (from tensorflow) (0.2.0)\n",
      "Requirement already satisfied, skipping upgrade: tensorboard~=2.5 in /usr/local/lib/python3.7/dist-packages (from tensorflow) (2.5.0)\n",
      "Requirement already satisfied, skipping upgrade: typing-extensions~=3.7.4 in /usr/local/lib/python3.7/dist-packages (from tensorflow) (3.7.4.3)\n",
      "Requirement already satisfied, skipping upgrade: wheel~=0.35 in /usr/local/lib/python3.7/dist-packages (from tensorflow) (0.36.2)\n",
      "Requirement already satisfied, skipping upgrade: grpcio~=1.34.0 in /usr/local/lib/python3.7/dist-packages (from tensorflow) (1.34.1)\n",
      "Requirement already satisfied, skipping upgrade: keras-nightly~=2.5.0.dev in /usr/local/lib/python3.7/dist-packages (from tensorflow) (2.5.0.dev2021032900)\n",
      "Requirement already satisfied, skipping upgrade: gast==0.4.0 in /usr/local/lib/python3.7/dist-packages (from tensorflow) (0.4.0)\n",
      "Requirement already satisfied, skipping upgrade: wrapt~=1.12.1 in /usr/local/lib/python3.7/dist-packages (from tensorflow) (1.12.1)\n",
      "Requirement already satisfied, skipping upgrade: flatbuffers~=1.12.0 in /usr/local/lib/python3.7/dist-packages (from tensorflow) (1.12)\n",
      "Requirement already satisfied, skipping upgrade: protobuf>=3.9.2 in /usr/local/lib/python3.7/dist-packages (from tensorflow) (3.12.4)\n",
      "Requirement already satisfied, skipping upgrade: numpy~=1.19.2 in /usr/local/lib/python3.7/dist-packages (from tensorflow) (1.19.5)\n",
      "Requirement already satisfied, skipping upgrade: keras-preprocessing~=1.1.2 in /usr/local/lib/python3.7/dist-packages (from tensorflow) (1.1.2)\n",
      "Requirement already satisfied, skipping upgrade: absl-py~=0.10 in /usr/local/lib/python3.7/dist-packages (from tensorflow) (0.12.0)\n",
      "Requirement already satisfied, skipping upgrade: six~=1.15.0 in /usr/local/lib/python3.7/dist-packages (from tensorflow) (1.15.0)\n",
      "Requirement already satisfied, skipping upgrade: termcolor~=1.1.0 in /usr/local/lib/python3.7/dist-packages (from tensorflow) (1.1.0)\n",
      "Requirement already satisfied, skipping upgrade: astunparse~=1.6.3 in /usr/local/lib/python3.7/dist-packages (from tensorflow) (1.6.3)\n",
      "Requirement already satisfied, skipping upgrade: cached-property; python_version < \"3.8\" in /usr/local/lib/python3.7/dist-packages (from h5py~=3.1.0->tensorflow) (1.5.2)\n",
      "Requirement already satisfied, skipping upgrade: google-auth-oauthlib<0.5,>=0.4.1 in /usr/local/lib/python3.7/dist-packages (from tensorboard~=2.5->tensorflow) (0.4.4)\n",
      "Requirement already satisfied, skipping upgrade: requests<3,>=2.21.0 in /usr/local/lib/python3.7/dist-packages (from tensorboard~=2.5->tensorflow) (2.25.1)\n",
      "Requirement already satisfied, skipping upgrade: markdown>=2.6.8 in /usr/local/lib/python3.7/dist-packages (from tensorboard~=2.5->tensorflow) (3.3.4)\n",
      "Requirement already satisfied, skipping upgrade: werkzeug>=0.11.15 in /usr/local/lib/python3.7/dist-packages (from tensorboard~=2.5->tensorflow) (1.0.1)\n",
      "Requirement already satisfied, skipping upgrade: google-auth<2,>=1.6.3 in /usr/local/lib/python3.7/dist-packages (from tensorboard~=2.5->tensorflow) (1.31.0)\n",
      "Requirement already satisfied, skipping upgrade: tensorboard-data-server<0.7.0,>=0.6.0 in /usr/local/lib/python3.7/dist-packages (from tensorboard~=2.5->tensorflow) (0.6.1)\n",
      "Requirement already satisfied, skipping upgrade: setuptools>=41.0.0 in /usr/local/lib/python3.7/dist-packages (from tensorboard~=2.5->tensorflow) (57.0.0)\n",
      "Requirement already satisfied, skipping upgrade: tensorboard-plugin-wit>=1.6.0 in /usr/local/lib/python3.7/dist-packages (from tensorboard~=2.5->tensorflow) (1.8.0)\n",
      "Requirement already satisfied, skipping upgrade: requests-oauthlib>=0.7.0 in /usr/local/lib/python3.7/dist-packages (from google-auth-oauthlib<0.5,>=0.4.1->tensorboard~=2.5->tensorflow) (1.3.0)\n",
      "Requirement already satisfied, skipping upgrade: certifi>=2017.4.17 in /usr/local/lib/python3.7/dist-packages (from requests<3,>=2.21.0->tensorboard~=2.5->tensorflow) (2021.5.30)\n",
      "Requirement already satisfied, skipping upgrade: chardet<5,>=3.0.2 in /usr/local/lib/python3.7/dist-packages (from requests<3,>=2.21.0->tensorboard~=2.5->tensorflow) (3.0.4)\n",
      "Requirement already satisfied, skipping upgrade: idna<3,>=2.5 in /usr/local/lib/python3.7/dist-packages (from requests<3,>=2.21.0->tensorboard~=2.5->tensorflow) (2.10)\n",
      "Requirement already satisfied, skipping upgrade: urllib3<1.27,>=1.21.1 in /usr/local/lib/python3.7/dist-packages (from requests<3,>=2.21.0->tensorboard~=2.5->tensorflow) (1.24.3)\n",
      "Requirement already satisfied, skipping upgrade: importlib-metadata; python_version < \"3.8\" in /usr/local/lib/python3.7/dist-packages (from markdown>=2.6.8->tensorboard~=2.5->tensorflow) (4.5.0)\n",
      "Requirement already satisfied, skipping upgrade: pyasn1-modules>=0.2.1 in /usr/local/lib/python3.7/dist-packages (from google-auth<2,>=1.6.3->tensorboard~=2.5->tensorflow) (0.2.8)\n",
      "Requirement already satisfied, skipping upgrade: cachetools<5.0,>=2.0.0 in /usr/local/lib/python3.7/dist-packages (from google-auth<2,>=1.6.3->tensorboard~=2.5->tensorflow) (4.2.2)\n",
      "Requirement already satisfied, skipping upgrade: rsa<5,>=3.1.4; python_version >= \"3.6\" in /usr/local/lib/python3.7/dist-packages (from google-auth<2,>=1.6.3->tensorboard~=2.5->tensorflow) (4.7.2)\n",
      "Requirement already satisfied, skipping upgrade: oauthlib>=3.0.0 in /usr/local/lib/python3.7/dist-packages (from requests-oauthlib>=0.7.0->google-auth-oauthlib<0.5,>=0.4.1->tensorboard~=2.5->tensorflow) (3.1.1)\n",
      "Requirement already satisfied, skipping upgrade: zipp>=0.5 in /usr/local/lib/python3.7/dist-packages (from importlib-metadata; python_version < \"3.8\"->markdown>=2.6.8->tensorboard~=2.5->tensorflow) (3.4.1)\n",
      "Requirement already satisfied, skipping upgrade: pyasn1<0.5.0,>=0.4.6 in /usr/local/lib/python3.7/dist-packages (from pyasn1-modules>=0.2.1->google-auth<2,>=1.6.3->tensorboard~=2.5->tensorflow) (0.4.8)\n"
     ]
    }
   ],
   "source": [
    "!pip install tensorflow --upgrade"
   ]
  },
  {
   "cell_type": "code",
   "execution_count": 7,
   "metadata": {
    "colab": {
     "base_uri": "https://localhost:8080/",
     "height": 463
    },
    "id": "Q1VhpCK80nQz",
    "outputId": "24f05876-cb4a-4f0c-defb-1cf0509adeb4"
   },
   "outputs": [
    {
     "name": "stdout",
     "output_type": "stream",
     "text": [
      "Uninstalling protobuf-3.12.4:\n",
      "  Successfully uninstalled protobuf-3.12.4\n",
      "Uninstalling matplotlib-3.2.2:\n",
      "  Successfully uninstalled matplotlib-3.2.2\n",
      "Collecting protobuf\n",
      "\u001b[?25l  Downloading https://files.pythonhosted.org/packages/4c/53/ddcef00219f2a3c863b24288e24a20c3070bd086a1e77706f22994a7f6db/protobuf-3.17.3-cp37-cp37m-manylinux_2_5_x86_64.manylinux1_x86_64.whl (1.0MB)\n",
      "\u001b[K     |████████████████████████████████| 1.0MB 14.1MB/s \n",
      "\u001b[?25hCollecting matplotlib==3.2\n",
      "\u001b[?25l  Downloading https://files.pythonhosted.org/packages/6c/ab/e1585a7101f8f7047376b59274ada50fefd637bd4cd99d2125a1b730845a/matplotlib-3.2.0-cp37-cp37m-manylinux1_x86_64.whl (12.4MB)\n",
      "\u001b[K     |████████████████████████████████| 12.4MB 20.2MB/s \n",
      "\u001b[?25hRequirement already satisfied: six>=1.9 in /usr/local/lib/python3.7/dist-packages (from protobuf) (1.15.0)\n",
      "Requirement already satisfied: kiwisolver>=1.0.1 in /usr/local/lib/python3.7/dist-packages (from matplotlib==3.2) (1.3.1)\n",
      "Requirement already satisfied: pyparsing!=2.0.4,!=2.1.2,!=2.1.6,>=2.0.1 in /usr/local/lib/python3.7/dist-packages (from matplotlib==3.2) (2.4.7)\n",
      "Requirement already satisfied: numpy>=1.11 in /usr/local/lib/python3.7/dist-packages (from matplotlib==3.2) (1.19.5)\n",
      "Requirement already satisfied: cycler>=0.10 in /usr/local/lib/python3.7/dist-packages (from matplotlib==3.2) (0.10.0)\n",
      "Requirement already satisfied: python-dateutil>=2.1 in /usr/local/lib/python3.7/dist-packages (from matplotlib==3.2) (2.8.1)\n",
      "\u001b[31mERROR: apache-beam 2.30.0 has requirement avro-python3!=1.9.2,<1.10.0,>=1.8.1, but you'll have avro-python3 1.10.2 which is incompatible.\u001b[0m\n",
      "\u001b[31mERROR: albumentations 0.1.12 has requirement imgaug<0.2.7,>=0.2.5, but you'll have imgaug 0.2.9 which is incompatible.\u001b[0m\n",
      "Installing collected packages: protobuf, matplotlib\n",
      "Successfully installed matplotlib-3.2.0 protobuf-3.17.3\n"
     ]
    },
    {
     "data": {
      "application/vnd.colab-display-data+json": {
       "pip_warning": {
        "packages": [
         "google",
         "matplotlib",
         "mpl_toolkits"
        ]
       }
      }
     },
     "metadata": {
      "tags": []
     },
     "output_type": "display_data"
    }
   ],
   "source": [
    "!pip uninstall protobuf matplotlib -y\n",
    "!pip install protobuf matplotlib==3.2"
   ]
  },
  {
   "cell_type": "markdown",
   "metadata": {
    "id": "p1l3SOVf1fpS"
   },
   "source": [
    "**Continue her when everything is already installed**"
   ]
  },
  {
   "cell_type": "code",
   "execution_count": 8,
   "metadata": {
    "id": "0SQZbPlk0nVw"
   },
   "outputs": [],
   "source": [
    "import object_detection"
   ]
  },
  {
   "cell_type": "code",
   "execution_count": 9,
   "metadata": {
    "colab": {
     "base_uri": "https://localhost:8080/"
    },
    "id": "wAsXSC5a0nY-",
    "outputId": "a4438b3f-3f69-4867-c8c6-e22c64b267dc"
   },
   "outputs": [
    {
     "name": "stdout",
     "output_type": "stream",
     "text": [
      "--2021-06-19 13:56:03--  http://download.tensorflow.org/models/object_detection/tf2/20200711/efficientdet_d1_coco17_tpu-32.tar.gz\n",
      "Resolving download.tensorflow.org (download.tensorflow.org)... 108.177.127.128, 2a00:1450:4013:c07::80\n",
      "Connecting to download.tensorflow.org (download.tensorflow.org)|108.177.127.128|:80... connected.\n",
      "HTTP request sent, awaiting response... 200 OK\n",
      "Length: 51839363 (49M) [application/x-tar]\n",
      "Saving to: ‘efficientdet_d1_coco17_tpu-32.tar.gz’\n",
      "\n",
      "efficientdet_d1_coc 100%[===================>]  49.44M  69.6MB/s    in 0.7s    \n",
      "\n",
      "2021-06-19 13:56:05 (69.6 MB/s) - ‘efficientdet_d1_coco17_tpu-32.tar.gz’ saved [51839363/51839363]\n",
      "\n",
      "efficientdet_d1_coco17_tpu-32/\n",
      "efficientdet_d1_coco17_tpu-32/checkpoint/\n",
      "efficientdet_d1_coco17_tpu-32/checkpoint/ckpt-0.data-00000-of-00001\n",
      "efficientdet_d1_coco17_tpu-32/checkpoint/checkpoint\n",
      "efficientdet_d1_coco17_tpu-32/checkpoint/ckpt-0.index\n",
      "efficientdet_d1_coco17_tpu-32/pipeline.config\n",
      "efficientdet_d1_coco17_tpu-32/saved_model/\n",
      "efficientdet_d1_coco17_tpu-32/saved_model/saved_model.pb\n",
      "efficientdet_d1_coco17_tpu-32/saved_model/assets/\n",
      "efficientdet_d1_coco17_tpu-32/saved_model/variables/\n",
      "efficientdet_d1_coco17_tpu-32/saved_model/variables/variables.data-00000-of-00001\n",
      "efficientdet_d1_coco17_tpu-32/saved_model/variables/variables.index\n"
     ]
    }
   ],
   "source": [
    "if os.name =='posix':\n",
    "    !wget {PRETRAINED_MODEL_URL}\n",
    "    !mv {PRETRAINED_MODEL_NAME+'.tar.gz'} {paths['PRETRAINED_MODEL_PATH']}\n",
    "    !cd {paths['PRETRAINED_MODEL_PATH']} && tar -zxvf {PRETRAINED_MODEL_NAME+'.tar.gz'}\n",
    "if os.name == 'nt':\n",
    "    wget.download(PRETRAINED_MODEL_URL)\n",
    "    !move {PRETRAINED_MODEL_NAME+'.tar.gz'} {paths['PRETRAINED_MODEL_PATH']}\n",
    "    !cd {paths['PRETRAINED_MODEL_PATH']} && tar -zxvf {PRETRAINED_MODEL_NAME+'.tar.gz'}"
   ]
  },
  {
   "cell_type": "markdown",
   "metadata": {
    "id": "IufEcZwM10ML"
   },
   "source": [
    "**Create Label Map**\n",
    "not needed when already done"
   ]
  },
  {
   "cell_type": "code",
   "execution_count": 10,
   "metadata": {
    "id": "jbJOh0z311yP"
   },
   "outputs": [],
   "source": [
    "labels = [{'name':'bee', 'id':1}]\n",
    "\n",
    "with open(files['LABELMAP'], 'w') as f:\n",
    "    for label in labels:\n",
    "        f.write('item { \\n')\n",
    "        f.write('\\tname:\\'{}\\'\\n'.format(label['name']))\n",
    "        f.write('\\tid:{}\\n'.format(label['id']))\n",
    "        f.write('}\\n')"
   ]
  },
  {
   "cell_type": "markdown",
   "metadata": {
    "id": "8eYMmefD2JGG"
   },
   "source": [
    "**Create TF records**"
   ]
  },
  {
   "cell_type": "code",
   "execution_count": 11,
   "metadata": {
    "id": "MBitQNUc111I"
   },
   "outputs": [],
   "source": [
    "# OPTIONAL IF RUNNING ON COLAB\n",
    "# PLACE ARCHIVE IN IMAGES FOLDER\n",
    "ARCHIVE_FILES = os.path.join(paths['IMAGE_PATH'], 'archive.tar.gz')\n",
    "if os.path.exists(ARCHIVE_FILES):\n",
    "  !tar -zxvf {ARCHIVE_FILES}"
   ]
  },
  {
   "cell_type": "code",
   "execution_count": 12,
   "metadata": {
    "colab": {
     "base_uri": "https://localhost:8080/"
    },
    "id": "BSInQgxp113x",
    "outputId": "1cad64a9-b81c-4137-d4e9-f92c7923efe3"
   },
   "outputs": [
    {
     "name": "stdout",
     "output_type": "stream",
     "text": [
      "Cloning into 'Tensorflow/scripts'...\n",
      "remote: Enumerating objects: 3, done.\u001b[K\n",
      "remote: Counting objects: 100% (3/3), done.\u001b[K\n",
      "remote: Compressing objects: 100% (2/2), done.\u001b[K\n",
      "remote: Total 3 (delta 0), reused 1 (delta 0), pack-reused 0\u001b[K\n",
      "Unpacking objects: 100% (3/3), done.\n"
     ]
    }
   ],
   "source": [
    "if not os.path.exists(files['TF_RECORD_SCRIPT']):\n",
    "    !git clone https://github.com/nicknochnack/GenerateTFRecord {paths['SCRIPTS_PATH']}"
   ]
  },
  {
   "cell_type": "code",
   "execution_count": 13,
   "metadata": {
    "colab": {
     "base_uri": "https://localhost:8080/"
    },
    "id": "cWd9j5ur116h",
    "outputId": "f5f941e5-5c88-4a02-8112-2cb0e373eb8e"
   },
   "outputs": [
    {
     "name": "stdout",
     "output_type": "stream",
     "text": [
      "Successfully created the TFRecord file: Tensorflow/workspace/annotations/train.record\n",
      "Successfully created the TFRecord file: Tensorflow/workspace/annotations/test.record\n"
     ]
    }
   ],
   "source": [
    "!python {files['TF_RECORD_SCRIPT']} -x {os.path.join(paths['IMAGE_PATH'], 'train')} -l {files['LABELMAP']} -o {os.path.join(paths['ANNOTATION_PATH'], 'train.record')} \n",
    "!python {files['TF_RECORD_SCRIPT']} -x {os.path.join(paths['IMAGE_PATH'], 'test')} -l {files['LABELMAP']} -o {os.path.join(paths['ANNOTATION_PATH'], 'test.record')}"
   ]
  },
  {
   "cell_type": "code",
   "execution_count": 14,
   "metadata": {
    "colab": {
     "base_uri": "https://localhost:8080/"
    },
    "id": "KrAyX8i32uzu",
    "outputId": "c996daa1-e783-40a6-b362-e53715895603"
   },
   "outputs": [
    {
     "name": "stdout",
     "output_type": "stream",
     "text": [
      "Tensorflow/workspace/annotations\n"
     ]
    }
   ],
   "source": [
    "print(os.path.join(paths['ANNOTATION_PATH']))"
   ]
  },
  {
   "cell_type": "markdown",
   "metadata": {
    "id": "tElRKWsz2qen"
   },
   "source": [
    "TF records are places in Tensorflow/workspace/annotations"
   ]
  },
  {
   "cell_type": "markdown",
   "metadata": {
    "id": "Kmo4mC-j2ddm"
   },
   "source": [
    "**Copy Model Config to Training Folder**"
   ]
  },
  {
   "cell_type": "code",
   "execution_count": 15,
   "metadata": {
    "id": "eIkDp9AX2hKn"
   },
   "outputs": [],
   "source": [
    "if os.name =='posix':\n",
    "    !cp {os.path.join(paths['PRETRAINED_MODEL_PATH'], PRETRAINED_MODEL_NAME, 'pipeline.config')} {os.path.join(paths['CHECKPOINT_PATH'])}\n",
    "if os.name == 'nt':\n",
    "    !copy {os.path.join(paths['PRETRAINED_MODEL_PATH'], PRETRAINED_MODEL_NAME, 'pipeline.config')} {os.path.join(paths['CHECKPOINT_PATH'])}"
   ]
  },
  {
   "cell_type": "markdown",
   "metadata": {
    "id": "UHm0orHPa4OU"
   },
   "source": [
    "**Update Config For Transfer Learning**"
   ]
  },
  {
   "cell_type": "code",
   "execution_count": 1,
   "metadata": {
    "id": "uEADNbDZ2hQB"
   },
   "outputs": [
    {
     "ename": "ModuleNotFoundError",
     "evalue": "No module named 'object_detection'",
     "output_type": "error",
     "traceback": [
      "\u001b[0;31m---------------------------------------------------------------------------\u001b[0m",
      "\u001b[0;31mModuleNotFoundError\u001b[0m                       Traceback (most recent call last)",
      "\u001b[0;32m<ipython-input-1-fd28d0a39720>\u001b[0m in \u001b[0;36m<module>\u001b[0;34m\u001b[0m\n\u001b[1;32m      1\u001b[0m \u001b[0;32mimport\u001b[0m \u001b[0mtensorflow\u001b[0m \u001b[0;32mas\u001b[0m \u001b[0mtf\u001b[0m\u001b[0;34m\u001b[0m\u001b[0;34m\u001b[0m\u001b[0m\n\u001b[0;32m----> 2\u001b[0;31m \u001b[0;32mfrom\u001b[0m \u001b[0mobject_detection\u001b[0m\u001b[0;34m.\u001b[0m\u001b[0mutils\u001b[0m \u001b[0;32mimport\u001b[0m \u001b[0mconfig_util\u001b[0m\u001b[0;34m\u001b[0m\u001b[0;34m\u001b[0m\u001b[0m\n\u001b[0m\u001b[1;32m      3\u001b[0m \u001b[0;32mfrom\u001b[0m \u001b[0mobject_detection\u001b[0m\u001b[0;34m.\u001b[0m\u001b[0mprotos\u001b[0m \u001b[0;32mimport\u001b[0m \u001b[0mpipeline_pb2\u001b[0m\u001b[0;34m\u001b[0m\u001b[0;34m\u001b[0m\u001b[0m\n\u001b[1;32m      4\u001b[0m \u001b[0;32mfrom\u001b[0m \u001b[0mgoogle\u001b[0m\u001b[0;34m.\u001b[0m\u001b[0mprotobuf\u001b[0m \u001b[0;32mimport\u001b[0m \u001b[0mtext_format\u001b[0m\u001b[0;34m\u001b[0m\u001b[0;34m\u001b[0m\u001b[0m\n",
      "\u001b[0;31mModuleNotFoundError\u001b[0m: No module named 'object_detection'"
     ]
    }
   ],
   "source": [
    "import tensorflow as tf\n",
    "from object_detection.utils import config_util\n",
    "from object_detection.protos import pipeline_pb2\n",
    "from google.protobuf import text_format"
   ]
  },
  {
   "cell_type": "code",
   "execution_count": 17,
   "metadata": {
    "colab": {
     "base_uri": "https://localhost:8080/",
     "height": 37
    },
    "id": "_NvnRp_ybS4X",
    "outputId": "9f9d65d7-b006-43f8-87c7-1ddeebd9f30f"
   },
   "outputs": [
    {
     "data": {
      "application/vnd.google.colaboratory.intrinsic+json": {
       "type": "string"
      },
      "text/plain": [
       "'Tensorflow/workspace/models/my_efficient/pipeline.config'"
      ]
     },
     "execution_count": 17,
     "metadata": {
      "tags": []
     },
     "output_type": "execute_result"
    }
   ],
   "source": [
    "files['PIPELINE_CONFIG']"
   ]
  },
  {
   "cell_type": "code",
   "execution_count": 18,
   "metadata": {
    "id": "602ue05ca8DQ"
   },
   "outputs": [],
   "source": [
    "config = config_util.get_configs_from_pipeline_file(files['PIPELINE_CONFIG'])"
   ]
  },
  {
   "cell_type": "code",
   "execution_count": 19,
   "metadata": {
    "colab": {
     "base_uri": "https://localhost:8080/"
    },
    "id": "KTIoG-lmb1qu",
    "outputId": "17b41555-ed44-4fe2-812b-c65818414944"
   },
   "outputs": [
    {
     "data": {
      "text/plain": [
       "{'eval_config': metrics_set: \"coco_detection_metrics\"\n",
       " use_moving_averages: false\n",
       " batch_size: 1,\n",
       " 'eval_input_config': label_map_path: \"PATH_TO_BE_CONFIGURED/label_map.txt\"\n",
       " shuffle: false\n",
       " num_epochs: 1\n",
       " tf_record_input_reader {\n",
       "   input_path: \"PATH_TO_BE_CONFIGURED/val2017-?????-of-00032.tfrecord\"\n",
       " },\n",
       " 'eval_input_configs': [label_map_path: \"PATH_TO_BE_CONFIGURED/label_map.txt\"\n",
       " shuffle: false\n",
       " num_epochs: 1\n",
       " tf_record_input_reader {\n",
       "   input_path: \"PATH_TO_BE_CONFIGURED/val2017-?????-of-00032.tfrecord\"\n",
       " }\n",
       " ],\n",
       " 'model': ssd {\n",
       "   num_classes: 90\n",
       "   image_resizer {\n",
       "     keep_aspect_ratio_resizer {\n",
       "       min_dimension: 640\n",
       "       max_dimension: 640\n",
       "       pad_to_max_dimension: true\n",
       "     }\n",
       "   }\n",
       "   feature_extractor {\n",
       "     type: \"ssd_efficientnet-b1_bifpn_keras\"\n",
       "     conv_hyperparams {\n",
       "       regularizer {\n",
       "         l2_regularizer {\n",
       "           weight: 3.9999998989515007e-05\n",
       "         }\n",
       "       }\n",
       "       initializer {\n",
       "         truncated_normal_initializer {\n",
       "           mean: 0.0\n",
       "           stddev: 0.029999999329447746\n",
       "         }\n",
       "       }\n",
       "       activation: SWISH\n",
       "       batch_norm {\n",
       "         decay: 0.9900000095367432\n",
       "         scale: true\n",
       "         epsilon: 0.0010000000474974513\n",
       "       }\n",
       "       force_use_bias: true\n",
       "     }\n",
       "     bifpn {\n",
       "       min_level: 3\n",
       "       max_level: 7\n",
       "       num_iterations: 4\n",
       "       num_filters: 88\n",
       "     }\n",
       "   }\n",
       "   box_coder {\n",
       "     faster_rcnn_box_coder {\n",
       "       y_scale: 1.0\n",
       "       x_scale: 1.0\n",
       "       height_scale: 1.0\n",
       "       width_scale: 1.0\n",
       "     }\n",
       "   }\n",
       "   matcher {\n",
       "     argmax_matcher {\n",
       "       matched_threshold: 0.5\n",
       "       unmatched_threshold: 0.5\n",
       "       ignore_thresholds: false\n",
       "       negatives_lower_than_unmatched: true\n",
       "       force_match_for_each_row: true\n",
       "       use_matmul_gather: true\n",
       "     }\n",
       "   }\n",
       "   similarity_calculator {\n",
       "     iou_similarity {\n",
       "     }\n",
       "   }\n",
       "   box_predictor {\n",
       "     weight_shared_convolutional_box_predictor {\n",
       "       conv_hyperparams {\n",
       "         regularizer {\n",
       "           l2_regularizer {\n",
       "             weight: 3.9999998989515007e-05\n",
       "           }\n",
       "         }\n",
       "         initializer {\n",
       "           random_normal_initializer {\n",
       "             mean: 0.0\n",
       "             stddev: 0.009999999776482582\n",
       "           }\n",
       "         }\n",
       "         activation: SWISH\n",
       "         batch_norm {\n",
       "           decay: 0.9900000095367432\n",
       "           scale: true\n",
       "           epsilon: 0.0010000000474974513\n",
       "         }\n",
       "         force_use_bias: true\n",
       "       }\n",
       "       depth: 88\n",
       "       num_layers_before_predictor: 3\n",
       "       kernel_size: 3\n",
       "       class_prediction_bias_init: -4.599999904632568\n",
       "       use_depthwise: true\n",
       "     }\n",
       "   }\n",
       "   anchor_generator {\n",
       "     multiscale_anchor_generator {\n",
       "       min_level: 3\n",
       "       max_level: 7\n",
       "       anchor_scale: 4.0\n",
       "       aspect_ratios: 1.0\n",
       "       aspect_ratios: 2.0\n",
       "       aspect_ratios: 0.5\n",
       "       scales_per_octave: 3\n",
       "     }\n",
       "   }\n",
       "   post_processing {\n",
       "     batch_non_max_suppression {\n",
       "       score_threshold: 9.99999993922529e-09\n",
       "       iou_threshold: 0.5\n",
       "       max_detections_per_class: 100\n",
       "       max_total_detections: 100\n",
       "     }\n",
       "     score_converter: SIGMOID\n",
       "   }\n",
       "   normalize_loss_by_num_matches: true\n",
       "   loss {\n",
       "     localization_loss {\n",
       "       weighted_smooth_l1 {\n",
       "       }\n",
       "     }\n",
       "     classification_loss {\n",
       "       weighted_sigmoid_focal {\n",
       "         gamma: 1.5\n",
       "         alpha: 0.25\n",
       "       }\n",
       "     }\n",
       "     classification_weight: 1.0\n",
       "     localization_weight: 1.0\n",
       "   }\n",
       "   encode_background_as_zeros: true\n",
       "   normalize_loc_loss_by_codesize: true\n",
       "   inplace_batchnorm_update: true\n",
       "   freeze_batchnorm: false\n",
       "   add_background_class: false\n",
       " },\n",
       " 'train_config': batch_size: 128\n",
       " data_augmentation_options {\n",
       "   random_horizontal_flip {\n",
       "   }\n",
       " }\n",
       " data_augmentation_options {\n",
       "   random_scale_crop_and_pad_to_square {\n",
       "     output_size: 640\n",
       "     scale_min: 0.10000000149011612\n",
       "     scale_max: 2.0\n",
       "   }\n",
       " }\n",
       " sync_replicas: true\n",
       " optimizer {\n",
       "   momentum_optimizer {\n",
       "     learning_rate {\n",
       "       cosine_decay_learning_rate {\n",
       "         learning_rate_base: 0.07999999821186066\n",
       "         total_steps: 300000\n",
       "         warmup_learning_rate: 0.0010000000474974513\n",
       "         warmup_steps: 2500\n",
       "       }\n",
       "     }\n",
       "     momentum_optimizer_value: 0.8999999761581421\n",
       "   }\n",
       "   use_moving_average: false\n",
       " }\n",
       " fine_tune_checkpoint: \"PATH_TO_BE_CONFIGURED\"\n",
       " num_steps: 300000\n",
       " startup_delay_steps: 0.0\n",
       " replicas_to_aggregate: 8\n",
       " max_number_of_boxes: 100\n",
       " unpad_groundtruth_tensors: false\n",
       " fine_tune_checkpoint_type: \"classification\"\n",
       " use_bfloat16: true\n",
       " fine_tune_checkpoint_version: V2,\n",
       " 'train_input_config': label_map_path: \"PATH_TO_BE_CONFIGURED/label_map.txt\"\n",
       " tf_record_input_reader {\n",
       "   input_path: \"PATH_TO_BE_CONFIGURED/train2017-?????-of-00256.tfrecord\"\n",
       " }}"
      ]
     },
     "execution_count": 19,
     "metadata": {
      "tags": []
     },
     "output_type": "execute_result"
    }
   ],
   "source": [
    "config"
   ]
  },
  {
   "cell_type": "code",
   "execution_count": 20,
   "metadata": {
    "id": "xnaE5qp8b8Xq"
   },
   "outputs": [],
   "source": [
    "pipeline_config = pipeline_pb2.TrainEvalPipelineConfig()\n",
    "with tf.io.gfile.GFile(files['PIPELINE_CONFIG'], \"r\") as f:                                                                                                                                                                                                                     \n",
    "    proto_str = f.read()                                                                                                                                                                                                                                          \n",
    "    text_format.Merge(proto_str, pipeline_config)"
   ]
  },
  {
   "cell_type": "code",
   "execution_count": 35,
   "metadata": {
    "id": "RGUHTHBmcGJ-"
   },
   "outputs": [],
   "source": [
    "pipeline_config.model.ssd.num_classes = len(labels)\n",
    "pipeline_config.train_config.batch_size = 4\n",
    "pipeline_config.train_config.fine_tune_checkpoint = os.path.join(paths['PRETRAINED_MODEL_PATH'], PRETRAINED_MODEL_NAME, 'checkpoint', 'ckpt-0')\n",
    "pipeline_config.train_config.fine_tune_checkpoint_type = \"detection\"\n",
    "pipeline_config.train_input_reader.label_map_path= files['LABELMAP']\n",
    "pipeline_config.train_input_reader.tf_record_input_reader.input_path[:] = [os.path.join(paths['ANNOTATION_PATH'], \"train.record\")] ### GOOGLE DRIVE instead of os.path.join(paths['ANNOTATION_PATH']\n",
    "pipeline_config.eval_input_reader[0].label_map_path = files['LABELMAP']\n",
    "pipeline_config.eval_input_reader[0].tf_record_input_reader.input_path[:] = [os.path.join(paths['ANNOTATION_PATH'], \"train.record\")] ### GOOGLE DRIVE instead of os.path.join(paths['ANNOTATION_PATH']"
   ]
  },
  {
   "cell_type": "code",
   "execution_count": 36,
   "metadata": {
    "id": "PrRYex9ydCWx"
   },
   "outputs": [],
   "source": [
    "config_text = text_format.MessageToString(pipeline_config)                                                                                                                                                                                                        \n",
    "with tf.io.gfile.GFile(files['PIPELINE_CONFIG'], \"wb\") as f:                                                                                                                                                                                                                     \n",
    "    f.write(config_text)"
   ]
  },
  {
   "cell_type": "code",
   "execution_count": 37,
   "metadata": {
    "colab": {
     "base_uri": "https://localhost:8080/",
     "height": 565
    },
    "id": "NkEfr69VdESN",
    "outputId": "eaa61639-b5ec-41a6-94a5-d3550d7aad9d"
   },
   "outputs": [
    {
     "data": {
      "application/vnd.google.colaboratory.intrinsic+json": {
       "type": "string"
      },
      "text/plain": [
       "'model {\\n  ssd {\\n    num_classes: 1\\n    image_resizer {\\n      keep_aspect_ratio_resizer {\\n        min_dimension: 640\\n        max_dimension: 640\\n        pad_to_max_dimension: true\\n      }\\n    }\\n    feature_extractor {\\n      type: \"ssd_efficientnet-b1_bifpn_keras\"\\n      conv_hyperparams {\\n        regularizer {\\n          l2_regularizer {\\n            weight: 4e-05\\n          }\\n        }\\n        initializer {\\n          truncated_normal_initializer {\\n            mean: 0.0\\n            stddev: 0.03\\n          }\\n        }\\n        activation: SWISH\\n        batch_norm {\\n          decay: 0.99\\n          scale: true\\n          epsilon: 0.001\\n        }\\n        force_use_bias: true\\n      }\\n      bifpn {\\n        min_level: 3\\n        max_level: 7\\n        num_iterations: 4\\n        num_filters: 88\\n      }\\n    }\\n    box_coder {\\n      faster_rcnn_box_coder {\\n        y_scale: 1.0\\n        x_scale: 1.0\\n        height_scale: 1.0\\n        width_scale: 1.0\\n      }\\n    }\\n    matcher {\\n      argmax_matcher {\\n        matched_threshold: 0.5\\n        unmatched_threshold: 0.5\\n        ignore_thresholds: false\\n        negatives_lower_than_unmatched: true\\n        force_match_for_each_row: true\\n        use_matmul_gather: true\\n      }\\n    }\\n    similarity_calculator {\\n      iou_similarity {\\n      }\\n    }\\n    box_predictor {\\n      weight_shared_convolutional_box_predictor {\\n        conv_hyperparams {\\n          regularizer {\\n            l2_regularizer {\\n              weight: 4e-05\\n            }\\n          }\\n          initializer {\\n            random_normal_initializer {\\n              mean: 0.0\\n              stddev: 0.01\\n            }\\n          }\\n          activation: SWISH\\n          batch_norm {\\n            decay: 0.99\\n            scale: true\\n            epsilon: 0.001\\n          }\\n          force_use_bias: true\\n        }\\n        depth: 88\\n        num_layers_before_predictor: 3\\n        kernel_size: 3\\n        class_prediction_bias_init: -4.6\\n        use_depthwise: true\\n      }\\n    }\\n    anchor_generator {\\n      multiscale_anchor_generator {\\n        min_level: 3\\n        max_level: 7\\n        anchor_scale: 4.0\\n        aspect_ratios: 1.0\\n        aspect_ratios: 2.0\\n        aspect_ratios: 0.5\\n        scales_per_octave: 3\\n      }\\n    }\\n    post_processing {\\n      batch_non_max_suppression {\\n        score_threshold: 1e-08\\n        iou_threshold: 0.5\\n        max_detections_per_class: 100\\n        max_total_detections: 100\\n      }\\n      score_converter: SIGMOID\\n    }\\n    normalize_loss_by_num_matches: true\\n    loss {\\n      localization_loss {\\n        weighted_smooth_l1 {\\n        }\\n      }\\n      classification_loss {\\n        weighted_sigmoid_focal {\\n          gamma: 1.5\\n          alpha: 0.25\\n        }\\n      }\\n      classification_weight: 1.0\\n      localization_weight: 1.0\\n    }\\n    encode_background_as_zeros: true\\n    normalize_loc_loss_by_codesize: true\\n    inplace_batchnorm_update: true\\n    freeze_batchnorm: false\\n    add_background_class: false\\n  }\\n}\\ntrain_config {\\n  batch_size: 4\\n  data_augmentation_options {\\n    random_horizontal_flip {\\n    }\\n  }\\n  data_augmentation_options {\\n    random_scale_crop_and_pad_to_square {\\n      output_size: 640\\n      scale_min: 0.1\\n      scale_max: 2.0\\n    }\\n  }\\n  sync_replicas: true\\n  optimizer {\\n    momentum_optimizer {\\n      learning_rate {\\n        cosine_decay_learning_rate {\\n          learning_rate_base: 0.08\\n          total_steps: 300000\\n          warmup_learning_rate: 0.001\\n          warmup_steps: 2500\\n        }\\n      }\\n      momentum_optimizer_value: 0.9\\n    }\\n    use_moving_average: false\\n  }\\n  fine_tune_checkpoint: \"Tensorflow/workspace/pre-trained-models/efficientdet_d1_coco17_tpu-32/checkpoint/ckpt-0\"\\n  num_steps: 300000\\n  startup_delay_steps: 0.0\\n  replicas_to_aggregate: 8\\n  max_number_of_boxes: 100\\n  unpad_groundtruth_tensors: false\\n  fine_tune_checkpoint_type: \"detection\"\\n  use_bfloat16: true\\n  fine_tune_checkpoint_version: V2\\n}\\ntrain_input_reader {\\n  label_map_path: \"Tensorflow/workspace/annotations/label_map.pbtxt\"\\n  tf_record_input_reader {\\n    input_path: \"Tensorflow/workspace/annotations/train.record\"\\n  }\\n}\\neval_config {\\n  metrics_set: \"coco_detection_metrics\"\\n  use_moving_averages: false\\n  batch_size: 1\\n}\\neval_input_reader {\\n  label_map_path: \"Tensorflow/workspace/annotations/label_map.pbtxt\"\\n  shuffle: false\\n  num_epochs: 1\\n  tf_record_input_reader {\\n    input_path: \"Tensorflow/workspace/annotations/train.record\"\\n  }\\n}\\n'"
      ]
     },
     "execution_count": 37,
     "metadata": {
      "tags": []
     },
     "output_type": "execute_result"
    }
   ],
   "source": [
    "config_text"
   ]
  },
  {
   "cell_type": "markdown",
   "metadata": {
    "id": "Ffjdnv1jdUR6"
   },
   "source": [
    "**Train the model**"
   ]
  },
  {
   "cell_type": "code",
   "execution_count": 38,
   "metadata": {
    "id": "PQY0KLDgdaRr"
   },
   "outputs": [],
   "source": [
    "TRAINING_SCRIPT = os.path.join(paths['APIMODEL_PATH'], 'research', 'object_detection', 'model_main_tf2.py')"
   ]
  },
  {
   "cell_type": "code",
   "execution_count": 39,
   "metadata": {
    "id": "Tsj3DiNEdaUm"
   },
   "outputs": [],
   "source": [
    "command = \"python {} --model_dir={} --pipeline_config_path={} --num_train_steps=2500\".format(TRAINING_SCRIPT, paths['CHECKPOINT_PATH'],files['PIPELINE_CONFIG'])"
   ]
  },
  {
   "cell_type": "code",
   "execution_count": 40,
   "metadata": {
    "colab": {
     "base_uri": "https://localhost:8080/"
    },
    "id": "QLRWTRaMdaXC",
    "outputId": "7e4e9748-6ee8-4d3a-9f42-bd94df6656e7"
   },
   "outputs": [
    {
     "name": "stdout",
     "output_type": "stream",
     "text": [
      "python Tensorflow/models/research/object_detection/model_main_tf2.py --model_dir=Tensorflow/workspace/models/my_efficient --pipeline_config_path=Tensorflow/workspace/models/my_efficient/pipeline.config --num_train_steps=2500\n"
     ]
    }
   ],
   "source": [
    "print(command)"
   ]
  },
  {
   "cell_type": "code",
   "execution_count": 41,
   "metadata": {
    "colab": {
     "base_uri": "https://localhost:8080/"
    },
    "id": "SU2nP4uhdg0k",
    "outputId": "c90402e1-5f17-4408-fde0-435c1dd02aef"
   },
   "outputs": [
    {
     "name": "stdout",
     "output_type": "stream",
     "text": [
      "2021-06-19 14:07:48.680570: I tensorflow/stream_executor/platform/default/dso_loader.cc:53] Successfully opened dynamic library libcudart.so.11.0\n",
      "2021-06-19 14:07:50.706017: I tensorflow/stream_executor/platform/default/dso_loader.cc:53] Successfully opened dynamic library libcuda.so.1\n",
      "2021-06-19 14:07:50.728108: I tensorflow/stream_executor/cuda/cuda_gpu_executor.cc:937] successful NUMA node read from SysFS had negative value (-1), but there must be at least one NUMA node, so returning NUMA node zero\n",
      "2021-06-19 14:07:50.728724: I tensorflow/core/common_runtime/gpu/gpu_device.cc:1733] Found device 0 with properties: \n",
      "pciBusID: 0000:00:04.0 name: Tesla V100-SXM2-16GB computeCapability: 7.0\n",
      "coreClock: 1.53GHz coreCount: 80 deviceMemorySize: 15.78GiB deviceMemoryBandwidth: 836.37GiB/s\n",
      "2021-06-19 14:07:50.728777: I tensorflow/stream_executor/platform/default/dso_loader.cc:53] Successfully opened dynamic library libcudart.so.11.0\n",
      "2021-06-19 14:07:50.731321: I tensorflow/stream_executor/platform/default/dso_loader.cc:53] Successfully opened dynamic library libcublas.so.11\n",
      "2021-06-19 14:07:50.731404: I tensorflow/stream_executor/platform/default/dso_loader.cc:53] Successfully opened dynamic library libcublasLt.so.11\n",
      "2021-06-19 14:07:50.733094: I tensorflow/stream_executor/platform/default/dso_loader.cc:53] Successfully opened dynamic library libcufft.so.10\n",
      "2021-06-19 14:07:50.733435: I tensorflow/stream_executor/platform/default/dso_loader.cc:53] Successfully opened dynamic library libcurand.so.10\n",
      "2021-06-19 14:07:50.735070: I tensorflow/stream_executor/platform/default/dso_loader.cc:53] Successfully opened dynamic library libcusolver.so.10\n",
      "2021-06-19 14:07:50.735827: I tensorflow/stream_executor/platform/default/dso_loader.cc:53] Successfully opened dynamic library libcusparse.so.11\n",
      "2021-06-19 14:07:50.736001: I tensorflow/stream_executor/platform/default/dso_loader.cc:53] Successfully opened dynamic library libcudnn.so.8\n",
      "2021-06-19 14:07:50.736102: I tensorflow/stream_executor/cuda/cuda_gpu_executor.cc:937] successful NUMA node read from SysFS had negative value (-1), but there must be at least one NUMA node, so returning NUMA node zero\n",
      "2021-06-19 14:07:50.736733: I tensorflow/stream_executor/cuda/cuda_gpu_executor.cc:937] successful NUMA node read from SysFS had negative value (-1), but there must be at least one NUMA node, so returning NUMA node zero\n",
      "2021-06-19 14:07:50.737286: I tensorflow/core/common_runtime/gpu/gpu_device.cc:1871] Adding visible gpu devices: 0\n",
      "2021-06-19 14:07:50.737638: I tensorflow/core/platform/cpu_feature_guard.cc:142] This TensorFlow binary is optimized with oneAPI Deep Neural Network Library (oneDNN) to use the following CPU instructions in performance-critical operations:  AVX512F\n",
      "To enable them in other operations, rebuild TensorFlow with the appropriate compiler flags.\n",
      "2021-06-19 14:07:50.737870: I tensorflow/stream_executor/cuda/cuda_gpu_executor.cc:937] successful NUMA node read from SysFS had negative value (-1), but there must be at least one NUMA node, so returning NUMA node zero\n",
      "2021-06-19 14:07:50.738434: I tensorflow/core/common_runtime/gpu/gpu_device.cc:1733] Found device 0 with properties: \n",
      "pciBusID: 0000:00:04.0 name: Tesla V100-SXM2-16GB computeCapability: 7.0\n",
      "coreClock: 1.53GHz coreCount: 80 deviceMemorySize: 15.78GiB deviceMemoryBandwidth: 836.37GiB/s\n",
      "2021-06-19 14:07:50.738512: I tensorflow/stream_executor/cuda/cuda_gpu_executor.cc:937] successful NUMA node read from SysFS had negative value (-1), but there must be at least one NUMA node, so returning NUMA node zero\n",
      "2021-06-19 14:07:50.739084: I tensorflow/stream_executor/cuda/cuda_gpu_executor.cc:937] successful NUMA node read from SysFS had negative value (-1), but there must be at least one NUMA node, so returning NUMA node zero\n",
      "2021-06-19 14:07:50.739619: I tensorflow/core/common_runtime/gpu/gpu_device.cc:1871] Adding visible gpu devices: 0\n",
      "2021-06-19 14:07:50.739665: I tensorflow/stream_executor/platform/default/dso_loader.cc:53] Successfully opened dynamic library libcudart.so.11.0\n",
      "2021-06-19 14:07:51.213134: I tensorflow/core/common_runtime/gpu/gpu_device.cc:1258] Device interconnect StreamExecutor with strength 1 edge matrix:\n",
      "2021-06-19 14:07:51.213197: I tensorflow/core/common_runtime/gpu/gpu_device.cc:1264]      0 \n",
      "2021-06-19 14:07:51.213213: I tensorflow/core/common_runtime/gpu/gpu_device.cc:1277] 0:   N \n",
      "2021-06-19 14:07:51.213394: I tensorflow/stream_executor/cuda/cuda_gpu_executor.cc:937] successful NUMA node read from SysFS had negative value (-1), but there must be at least one NUMA node, so returning NUMA node zero\n",
      "2021-06-19 14:07:51.214022: I tensorflow/stream_executor/cuda/cuda_gpu_executor.cc:937] successful NUMA node read from SysFS had negative value (-1), but there must be at least one NUMA node, so returning NUMA node zero\n",
      "2021-06-19 14:07:51.214636: I tensorflow/stream_executor/cuda/cuda_gpu_executor.cc:937] successful NUMA node read from SysFS had negative value (-1), but there must be at least one NUMA node, so returning NUMA node zero\n",
      "2021-06-19 14:07:51.215174: W tensorflow/core/common_runtime/gpu/gpu_bfc_allocator.cc:39] Overriding allow_growth setting because the TF_FORCE_GPU_ALLOW_GROWTH environment variable is set. Original config value was 0.\n",
      "2021-06-19 14:07:51.215220: I tensorflow/core/common_runtime/gpu/gpu_device.cc:1418] Created TensorFlow device (/job:localhost/replica:0/task:0/device:GPU:0 with 14682 MB memory) -> physical GPU (device: 0, name: Tesla V100-SXM2-16GB, pci bus id: 0000:00:04.0, compute capability: 7.0)\n",
      "WARNING:tensorflow:Collective ops is not configured at program startup. Some performance features may not be enabled.\n",
      "W0619 14:07:51.216966 139810492540800 mirrored_strategy.py:379] Collective ops is not configured at program startup. Some performance features may not be enabled.\n",
      "INFO:tensorflow:Using MirroredStrategy with devices ('/job:localhost/replica:0/task:0/device:GPU:0',)\n",
      "I0619 14:07:51.219676 139810492540800 mirrored_strategy.py:369] Using MirroredStrategy with devices ('/job:localhost/replica:0/task:0/device:GPU:0',)\n",
      "INFO:tensorflow:Maybe overwriting train_steps: 2500\n",
      "I0619 14:07:51.223184 139810492540800 config_util.py:552] Maybe overwriting train_steps: 2500\n",
      "INFO:tensorflow:Maybe overwriting use_bfloat16: False\n",
      "I0619 14:07:51.223320 139810492540800 config_util.py:552] Maybe overwriting use_bfloat16: False\n",
      "I0619 14:07:51.229930 139810492540800 ssd_efficientnet_bifpn_feature_extractor.py:143] EfficientDet EfficientNet backbone version: efficientnet-b1\n",
      "I0619 14:07:51.230033 139810492540800 ssd_efficientnet_bifpn_feature_extractor.py:144] EfficientDet BiFPN num filters: 88\n",
      "I0619 14:07:51.230100 139810492540800 ssd_efficientnet_bifpn_feature_extractor.py:146] EfficientDet BiFPN num iterations: 4\n",
      "I0619 14:07:51.233747 139810492540800 efficientnet_model.py:147] round_filter input=32 output=32\n",
      "INFO:tensorflow:Reduce to /job:localhost/replica:0/task:0/device:CPU:0 then broadcast to ('/job:localhost/replica:0/task:0/device:CPU:0',).\n",
      "I0619 14:07:51.248377 139810492540800 cross_device_ops.py:621] Reduce to /job:localhost/replica:0/task:0/device:CPU:0 then broadcast to ('/job:localhost/replica:0/task:0/device:CPU:0',).\n",
      "INFO:tensorflow:Reduce to /job:localhost/replica:0/task:0/device:CPU:0 then broadcast to ('/job:localhost/replica:0/task:0/device:CPU:0',).\n",
      "I0619 14:07:51.249723 139810492540800 cross_device_ops.py:621] Reduce to /job:localhost/replica:0/task:0/device:CPU:0 then broadcast to ('/job:localhost/replica:0/task:0/device:CPU:0',).\n",
      "INFO:tensorflow:Reduce to /job:localhost/replica:0/task:0/device:CPU:0 then broadcast to ('/job:localhost/replica:0/task:0/device:CPU:0',).\n",
      "I0619 14:07:51.251419 139810492540800 cross_device_ops.py:621] Reduce to /job:localhost/replica:0/task:0/device:CPU:0 then broadcast to ('/job:localhost/replica:0/task:0/device:CPU:0',).\n",
      "INFO:tensorflow:Reduce to /job:localhost/replica:0/task:0/device:CPU:0 then broadcast to ('/job:localhost/replica:0/task:0/device:CPU:0',).\n",
      "I0619 14:07:51.252188 139810492540800 cross_device_ops.py:621] Reduce to /job:localhost/replica:0/task:0/device:CPU:0 then broadcast to ('/job:localhost/replica:0/task:0/device:CPU:0',).\n",
      "INFO:tensorflow:Reduce to /job:localhost/replica:0/task:0/device:CPU:0 then broadcast to ('/job:localhost/replica:0/task:0/device:CPU:0',).\n",
      "I0619 14:07:51.257718 139810492540800 cross_device_ops.py:621] Reduce to /job:localhost/replica:0/task:0/device:CPU:0 then broadcast to ('/job:localhost/replica:0/task:0/device:CPU:0',).\n",
      "INFO:tensorflow:Reduce to /job:localhost/replica:0/task:0/device:CPU:0 then broadcast to ('/job:localhost/replica:0/task:0/device:CPU:0',).\n",
      "I0619 14:07:51.260319 139810492540800 cross_device_ops.py:621] Reduce to /job:localhost/replica:0/task:0/device:CPU:0 then broadcast to ('/job:localhost/replica:0/task:0/device:CPU:0',).\n",
      "I0619 14:07:51.264838 139810492540800 efficientnet_model.py:147] round_filter input=32 output=32\n",
      "I0619 14:07:51.264945 139810492540800 efficientnet_model.py:147] round_filter input=16 output=16\n",
      "INFO:tensorflow:Reduce to /job:localhost/replica:0/task:0/device:CPU:0 then broadcast to ('/job:localhost/replica:0/task:0/device:CPU:0',).\n",
      "I0619 14:07:51.276877 139810492540800 cross_device_ops.py:621] Reduce to /job:localhost/replica:0/task:0/device:CPU:0 then broadcast to ('/job:localhost/replica:0/task:0/device:CPU:0',).\n",
      "INFO:tensorflow:Reduce to /job:localhost/replica:0/task:0/device:CPU:0 then broadcast to ('/job:localhost/replica:0/task:0/device:CPU:0',).\n",
      "I0619 14:07:51.277706 139810492540800 cross_device_ops.py:621] Reduce to /job:localhost/replica:0/task:0/device:CPU:0 then broadcast to ('/job:localhost/replica:0/task:0/device:CPU:0',).\n",
      "INFO:tensorflow:Reduce to /job:localhost/replica:0/task:0/device:CPU:0 then broadcast to ('/job:localhost/replica:0/task:0/device:CPU:0',).\n",
      "I0619 14:07:51.279098 139810492540800 cross_device_ops.py:621] Reduce to /job:localhost/replica:0/task:0/device:CPU:0 then broadcast to ('/job:localhost/replica:0/task:0/device:CPU:0',).\n",
      "INFO:tensorflow:Reduce to /job:localhost/replica:0/task:0/device:CPU:0 then broadcast to ('/job:localhost/replica:0/task:0/device:CPU:0',).\n",
      "I0619 14:07:51.279865 139810492540800 cross_device_ops.py:621] Reduce to /job:localhost/replica:0/task:0/device:CPU:0 then broadcast to ('/job:localhost/replica:0/task:0/device:CPU:0',).\n",
      "I0619 14:07:51.423768 139810492540800 efficientnet_model.py:147] round_filter input=16 output=16\n",
      "I0619 14:07:51.423937 139810492540800 efficientnet_model.py:147] round_filter input=24 output=24\n",
      "I0619 14:07:51.741855 139810492540800 efficientnet_model.py:147] round_filter input=24 output=24\n",
      "I0619 14:07:51.742024 139810492540800 efficientnet_model.py:147] round_filter input=40 output=40\n",
      "I0619 14:07:52.154168 139810492540800 efficientnet_model.py:147] round_filter input=40 output=40\n",
      "I0619 14:07:52.154370 139810492540800 efficientnet_model.py:147] round_filter input=80 output=80\n",
      "I0619 14:07:52.567176 139810492540800 efficientnet_model.py:147] round_filter input=80 output=80\n",
      "I0619 14:07:52.567360 139810492540800 efficientnet_model.py:147] round_filter input=112 output=112\n",
      "I0619 14:07:52.972988 139810492540800 efficientnet_model.py:147] round_filter input=112 output=112\n",
      "I0619 14:07:52.973170 139810492540800 efficientnet_model.py:147] round_filter input=192 output=192\n",
      "I0619 14:07:53.491324 139810492540800 efficientnet_model.py:147] round_filter input=192 output=192\n",
      "I0619 14:07:53.491493 139810492540800 efficientnet_model.py:147] round_filter input=320 output=320\n",
      "I0619 14:07:53.699966 139810492540800 efficientnet_model.py:147] round_filter input=1280 output=1280\n",
      "I0619 14:07:53.739292 139810492540800 efficientnet_model.py:458] Building model efficientnet with params ModelConfig(width_coefficient=1.0, depth_coefficient=1.1, resolution=240, dropout_rate=0.2, blocks=(BlockConfig(input_filters=32, output_filters=16, kernel_size=3, num_repeat=1, expand_ratio=1, strides=(1, 1), se_ratio=0.25, id_skip=True, fused_conv=False, conv_type='depthwise'), BlockConfig(input_filters=16, output_filters=24, kernel_size=3, num_repeat=2, expand_ratio=6, strides=(2, 2), se_ratio=0.25, id_skip=True, fused_conv=False, conv_type='depthwise'), BlockConfig(input_filters=24, output_filters=40, kernel_size=5, num_repeat=2, expand_ratio=6, strides=(2, 2), se_ratio=0.25, id_skip=True, fused_conv=False, conv_type='depthwise'), BlockConfig(input_filters=40, output_filters=80, kernel_size=3, num_repeat=3, expand_ratio=6, strides=(2, 2), se_ratio=0.25, id_skip=True, fused_conv=False, conv_type='depthwise'), BlockConfig(input_filters=80, output_filters=112, kernel_size=5, num_repeat=3, expand_ratio=6, strides=(1, 1), se_ratio=0.25, id_skip=True, fused_conv=False, conv_type='depthwise'), BlockConfig(input_filters=112, output_filters=192, kernel_size=5, num_repeat=4, expand_ratio=6, strides=(2, 2), se_ratio=0.25, id_skip=True, fused_conv=False, conv_type='depthwise'), BlockConfig(input_filters=192, output_filters=320, kernel_size=3, num_repeat=1, expand_ratio=6, strides=(1, 1), se_ratio=0.25, id_skip=True, fused_conv=False, conv_type='depthwise')), stem_base_filters=32, top_base_filters=1280, activation='simple_swish', batch_norm='default', bn_momentum=0.99, bn_epsilon=0.001, weight_decay=5e-06, drop_connect_rate=0.2, depth_divisor=8, min_depth=None, use_se=True, input_channels=3, num_classes=1000, model_name='efficientnet', rescale_input=False, data_format='channels_last', dtype='float32')\n",
      "WARNING:tensorflow:From /usr/local/lib/python3.7/dist-packages/object_detection/model_lib_v2.py:558: StrategyBase.experimental_distribute_datasets_from_function (from tensorflow.python.distribute.distribute_lib) is deprecated and will be removed in a future version.\n",
      "Instructions for updating:\n",
      "rename to distribute_datasets_from_function\n",
      "W0619 14:07:53.784619 139810492540800 deprecation.py:336] From /usr/local/lib/python3.7/dist-packages/object_detection/model_lib_v2.py:558: StrategyBase.experimental_distribute_datasets_from_function (from tensorflow.python.distribute.distribute_lib) is deprecated and will be removed in a future version.\n",
      "Instructions for updating:\n",
      "rename to distribute_datasets_from_function\n",
      "INFO:tensorflow:Reading unweighted datasets: ['Tensorflow/workspace/annotations/train.record']\n",
      "I0619 14:07:53.789506 139810492540800 dataset_builder.py:163] Reading unweighted datasets: ['Tensorflow/workspace/annotations/train.record']\n",
      "INFO:tensorflow:Reading record datasets for input file: ['Tensorflow/workspace/annotations/train.record']\n",
      "I0619 14:07:53.789706 139810492540800 dataset_builder.py:80] Reading record datasets for input file: ['Tensorflow/workspace/annotations/train.record']\n",
      "INFO:tensorflow:Number of filenames to read: 1\n",
      "I0619 14:07:53.789797 139810492540800 dataset_builder.py:81] Number of filenames to read: 1\n",
      "WARNING:tensorflow:num_readers has been reduced to 1 to match input file shards.\n",
      "W0619 14:07:53.789869 139810492540800 dataset_builder.py:88] num_readers has been reduced to 1 to match input file shards.\n",
      "WARNING:tensorflow:From /usr/local/lib/python3.7/dist-packages/object_detection/builders/dataset_builder.py:105: parallel_interleave (from tensorflow.python.data.experimental.ops.interleave_ops) is deprecated and will be removed in a future version.\n",
      "Instructions for updating:\n",
      "Use `tf.data.Dataset.interleave(map_func, cycle_length, block_length, num_parallel_calls=tf.data.AUTOTUNE)` instead. If sloppy execution is desired, use `tf.data.Options.experimental_deterministic`.\n",
      "W0619 14:07:53.802875 139810492540800 deprecation.py:336] From /usr/local/lib/python3.7/dist-packages/object_detection/builders/dataset_builder.py:105: parallel_interleave (from tensorflow.python.data.experimental.ops.interleave_ops) is deprecated and will be removed in a future version.\n",
      "Instructions for updating:\n",
      "Use `tf.data.Dataset.interleave(map_func, cycle_length, block_length, num_parallel_calls=tf.data.AUTOTUNE)` instead. If sloppy execution is desired, use `tf.data.Options.experimental_deterministic`.\n",
      "WARNING:tensorflow:From /usr/local/lib/python3.7/dist-packages/object_detection/builders/dataset_builder.py:237: DatasetV1.map_with_legacy_function (from tensorflow.python.data.ops.dataset_ops) is deprecated and will be removed in a future version.\n",
      "Instructions for updating:\n",
      "Use `tf.data.Dataset.map()\n",
      "W0619 14:07:53.826309 139810492540800 deprecation.py:336] From /usr/local/lib/python3.7/dist-packages/object_detection/builders/dataset_builder.py:237: DatasetV1.map_with_legacy_function (from tensorflow.python.data.ops.dataset_ops) is deprecated and will be removed in a future version.\n",
      "Instructions for updating:\n",
      "Use `tf.data.Dataset.map()\n",
      "WARNING:tensorflow:From /usr/local/lib/python3.7/dist-packages/tensorflow/python/util/dispatch.py:206: sparse_to_dense (from tensorflow.python.ops.sparse_ops) is deprecated and will be removed in a future version.\n",
      "Instructions for updating:\n",
      "Create a `tf.sparse.SparseTensor` and use `tf.sparse.to_dense` instead.\n",
      "W0619 14:08:00.566862 139810492540800 deprecation.py:336] From /usr/local/lib/python3.7/dist-packages/tensorflow/python/util/dispatch.py:206: sparse_to_dense (from tensorflow.python.ops.sparse_ops) is deprecated and will be removed in a future version.\n",
      "Instructions for updating:\n",
      "Create a `tf.sparse.SparseTensor` and use `tf.sparse.to_dense` instead.\n",
      "WARNING:tensorflow:From /usr/local/lib/python3.7/dist-packages/tensorflow/python/autograph/impl/api.py:464: to_float (from tensorflow.python.ops.math_ops) is deprecated and will be removed in a future version.\n",
      "Instructions for updating:\n",
      "Use `tf.cast` instead.\n",
      "W0619 14:08:04.581477 139810492540800 deprecation.py:336] From /usr/local/lib/python3.7/dist-packages/tensorflow/python/autograph/impl/api.py:464: to_float (from tensorflow.python.ops.math_ops) is deprecated and will be removed in a future version.\n",
      "Instructions for updating:\n",
      "Use `tf.cast` instead.\n",
      "2021-06-19 14:08:06.700897: I tensorflow/compiler/mlir/mlir_graph_optimization_pass.cc:176] None of the MLIR Optimization Passes are enabled (registered 2)\n",
      "2021-06-19 14:08:06.707239: I tensorflow/core/platform/profile_utils/cpu_utils.cc:114] CPU Frequency: 2000134999 Hz\n",
      "/usr/local/lib/python3.7/dist-packages/tensorflow/python/keras/backend.py:435: UserWarning: `tf.keras.backend.set_learning_phase` is deprecated and will be removed after 2020-10-11. To update it, simply pass a True/False value to the `training` argument of the `__call__` method of your layer or model.\n",
      "  warnings.warn('`tf.keras.backend.set_learning_phase` is deprecated and '\n",
      "2021-06-19 14:08:31.506226: I tensorflow/stream_executor/platform/default/dso_loader.cc:53] Successfully opened dynamic library libcudnn.so.8\n",
      "2021-06-19 14:08:32.631985: I tensorflow/stream_executor/cuda/cuda_dnn.cc:359] Loaded cuDNN version 8004\n",
      "2021-06-19 14:08:44.663942: I tensorflow/stream_executor/platform/default/dso_loader.cc:53] Successfully opened dynamic library libcublas.so.11\n",
      "2021-06-19 14:08:45.959448: I tensorflow/stream_executor/platform/default/dso_loader.cc:53] Successfully opened dynamic library libcublasLt.so.11\n",
      "WARNING:tensorflow:From /usr/local/lib/python3.7/dist-packages/tensorflow/python/util/deprecation.py:602: calling map_fn_v2 (from tensorflow.python.ops.map_fn) with dtype is deprecated and will be removed in a future version.\n",
      "Instructions for updating:\n",
      "Use fn_output_signature instead\n",
      "W0619 14:08:52.029914 139806679721728 deprecation.py:534] From /usr/local/lib/python3.7/dist-packages/tensorflow/python/util/deprecation.py:602: calling map_fn_v2 (from tensorflow.python.ops.map_fn) with dtype is deprecated and will be removed in a future version.\n",
      "Instructions for updating:\n",
      "Use fn_output_signature instead\n",
      "WARNING:tensorflow:Gradients do not exist for variables ['stack_6/block_1/expand_bn/gamma:0', 'stack_6/block_1/expand_bn/beta:0', 'stack_6/block_1/depthwise_conv2d/depthwise_kernel:0', 'stack_6/block_1/depthwise_bn/gamma:0', 'stack_6/block_1/depthwise_bn/beta:0', 'stack_6/block_1/project_bn/gamma:0', 'stack_6/block_1/project_bn/beta:0', 'top_bn/gamma:0', 'top_bn/beta:0'] when minimizing the loss.\n",
      "W0619 14:08:59.947825 139806679721728 utils.py:80] Gradients do not exist for variables ['stack_6/block_1/expand_bn/gamma:0', 'stack_6/block_1/expand_bn/beta:0', 'stack_6/block_1/depthwise_conv2d/depthwise_kernel:0', 'stack_6/block_1/depthwise_bn/gamma:0', 'stack_6/block_1/depthwise_bn/beta:0', 'stack_6/block_1/project_bn/gamma:0', 'stack_6/block_1/project_bn/beta:0', 'top_bn/gamma:0', 'top_bn/beta:0'] when minimizing the loss.\n",
      "WARNING:tensorflow:Gradients do not exist for variables ['stack_6/block_1/expand_bn/gamma:0', 'stack_6/block_1/expand_bn/beta:0', 'stack_6/block_1/depthwise_conv2d/depthwise_kernel:0', 'stack_6/block_1/depthwise_bn/gamma:0', 'stack_6/block_1/depthwise_bn/beta:0', 'stack_6/block_1/project_bn/gamma:0', 'stack_6/block_1/project_bn/beta:0', 'top_bn/gamma:0', 'top_bn/beta:0'] when minimizing the loss.\n",
      "W0619 14:09:11.618200 139806679721728 utils.py:80] Gradients do not exist for variables ['stack_6/block_1/expand_bn/gamma:0', 'stack_6/block_1/expand_bn/beta:0', 'stack_6/block_1/depthwise_conv2d/depthwise_kernel:0', 'stack_6/block_1/depthwise_bn/gamma:0', 'stack_6/block_1/depthwise_bn/beta:0', 'stack_6/block_1/project_bn/gamma:0', 'stack_6/block_1/project_bn/beta:0', 'top_bn/gamma:0', 'top_bn/beta:0'] when minimizing the loss.\n",
      "WARNING:tensorflow:Gradients do not exist for variables ['stack_6/block_1/expand_bn/gamma:0', 'stack_6/block_1/expand_bn/beta:0', 'stack_6/block_1/depthwise_conv2d/depthwise_kernel:0', 'stack_6/block_1/depthwise_bn/gamma:0', 'stack_6/block_1/depthwise_bn/beta:0', 'stack_6/block_1/project_bn/gamma:0', 'stack_6/block_1/project_bn/beta:0', 'top_bn/gamma:0', 'top_bn/beta:0'] when minimizing the loss.\n",
      "W0619 14:09:22.569211 139806679721728 utils.py:80] Gradients do not exist for variables ['stack_6/block_1/expand_bn/gamma:0', 'stack_6/block_1/expand_bn/beta:0', 'stack_6/block_1/depthwise_conv2d/depthwise_kernel:0', 'stack_6/block_1/depthwise_bn/gamma:0', 'stack_6/block_1/depthwise_bn/beta:0', 'stack_6/block_1/project_bn/gamma:0', 'stack_6/block_1/project_bn/beta:0', 'top_bn/gamma:0', 'top_bn/beta:0'] when minimizing the loss.\n",
      "WARNING:tensorflow:Gradients do not exist for variables ['stack_6/block_1/expand_bn/gamma:0', 'stack_6/block_1/expand_bn/beta:0', 'stack_6/block_1/depthwise_conv2d/depthwise_kernel:0', 'stack_6/block_1/depthwise_bn/gamma:0', 'stack_6/block_1/depthwise_bn/beta:0', 'stack_6/block_1/project_bn/gamma:0', 'stack_6/block_1/project_bn/beta:0', 'top_bn/gamma:0', 'top_bn/beta:0'] when minimizing the loss.\n",
      "W0619 14:09:33.059814 139806679721728 utils.py:80] Gradients do not exist for variables ['stack_6/block_1/expand_bn/gamma:0', 'stack_6/block_1/expand_bn/beta:0', 'stack_6/block_1/depthwise_conv2d/depthwise_kernel:0', 'stack_6/block_1/depthwise_bn/gamma:0', 'stack_6/block_1/depthwise_bn/beta:0', 'stack_6/block_1/project_bn/gamma:0', 'stack_6/block_1/project_bn/beta:0', 'top_bn/gamma:0', 'top_bn/beta:0'] when minimizing the loss.\n",
      "INFO:tensorflow:Step 100 per-step time 1.060s\n",
      "I0619 14:10:37.606084 139810492540800 model_lib_v2.py:700] Step 100 per-step time 1.060s\n",
      "INFO:tensorflow:{'Loss/classification_loss': 0.99265885,\n",
      " 'Loss/localization_loss': 0.13628116,\n",
      " 'Loss/regularization_loss': 0.029536285,\n",
      " 'Loss/total_loss': 1.1584762,\n",
      " 'learning_rate': 0.00416}\n",
      "I0619 14:10:37.606429 139810492540800 model_lib_v2.py:701] {'Loss/classification_loss': 0.99265885,\n",
      " 'Loss/localization_loss': 0.13628116,\n",
      " 'Loss/regularization_loss': 0.029536285,\n",
      " 'Loss/total_loss': 1.1584762,\n",
      " 'learning_rate': 0.00416}\n",
      "INFO:tensorflow:Step 200 per-step time 0.415s\n",
      "I0619 14:11:19.108757 139810492540800 model_lib_v2.py:700] Step 200 per-step time 0.415s\n",
      "INFO:tensorflow:{'Loss/classification_loss': 0.4499192,\n",
      " 'Loss/localization_loss': 0.01479624,\n",
      " 'Loss/regularization_loss': 0.029548591,\n",
      " 'Loss/total_loss': 0.494264,\n",
      " 'learning_rate': 0.0073200003}\n",
      "I0619 14:11:19.109059 139810492540800 model_lib_v2.py:701] {'Loss/classification_loss': 0.4499192,\n",
      " 'Loss/localization_loss': 0.01479624,\n",
      " 'Loss/regularization_loss': 0.029548591,\n",
      " 'Loss/total_loss': 0.494264,\n",
      " 'learning_rate': 0.0073200003}\n",
      "INFO:tensorflow:Step 300 per-step time 0.417s\n",
      "I0619 14:12:00.799367 139810492540800 model_lib_v2.py:700] Step 300 per-step time 0.417s\n",
      "INFO:tensorflow:{'Loss/classification_loss': 0.34655562,\n",
      " 'Loss/localization_loss': 0.010298391,\n",
      " 'Loss/regularization_loss': 0.029556883,\n",
      " 'Loss/total_loss': 0.3864109,\n",
      " 'learning_rate': 0.010480001}\n",
      "I0619 14:12:00.799681 139810492540800 model_lib_v2.py:701] {'Loss/classification_loss': 0.34655562,\n",
      " 'Loss/localization_loss': 0.010298391,\n",
      " 'Loss/regularization_loss': 0.029556883,\n",
      " 'Loss/total_loss': 0.3864109,\n",
      " 'learning_rate': 0.010480001}\n",
      "INFO:tensorflow:Step 400 per-step time 0.416s\n",
      "I0619 14:12:42.361008 139810492540800 model_lib_v2.py:700] Step 400 per-step time 0.416s\n",
      "INFO:tensorflow:{'Loss/classification_loss': 0.3261472,\n",
      " 'Loss/localization_loss': 0.00884759,\n",
      " 'Loss/regularization_loss': 0.02956485,\n",
      " 'Loss/total_loss': 0.36455965,\n",
      " 'learning_rate': 0.0136400005}\n",
      "I0619 14:12:42.361344 139810492540800 model_lib_v2.py:701] {'Loss/classification_loss': 0.3261472,\n",
      " 'Loss/localization_loss': 0.00884759,\n",
      " 'Loss/regularization_loss': 0.02956485,\n",
      " 'Loss/total_loss': 0.36455965,\n",
      " 'learning_rate': 0.0136400005}\n",
      "INFO:tensorflow:Step 500 per-step time 0.412s\n",
      "I0619 14:13:23.538259 139810492540800 model_lib_v2.py:700] Step 500 per-step time 0.412s\n",
      "INFO:tensorflow:{'Loss/classification_loss': 0.36573866,\n",
      " 'Loss/localization_loss': 0.008338336,\n",
      " 'Loss/regularization_loss': 0.029583137,\n",
      " 'Loss/total_loss': 0.40366012,\n",
      " 'learning_rate': 0.016800001}\n",
      "I0619 14:13:23.538568 139810492540800 model_lib_v2.py:701] {'Loss/classification_loss': 0.36573866,\n",
      " 'Loss/localization_loss': 0.008338336,\n",
      " 'Loss/regularization_loss': 0.029583137,\n",
      " 'Loss/total_loss': 0.40366012,\n",
      " 'learning_rate': 0.016800001}\n",
      "INFO:tensorflow:Step 600 per-step time 0.417s\n",
      "I0619 14:14:05.248790 139810492540800 model_lib_v2.py:700] Step 600 per-step time 0.417s\n",
      "INFO:tensorflow:{'Loss/classification_loss': 0.2584074,\n",
      " 'Loss/localization_loss': 0.016080454,\n",
      " 'Loss/regularization_loss': 0.029608414,\n",
      " 'Loss/total_loss': 0.30409628,\n",
      " 'learning_rate': 0.019960001}\n",
      "I0619 14:14:05.249125 139810492540800 model_lib_v2.py:701] {'Loss/classification_loss': 0.2584074,\n",
      " 'Loss/localization_loss': 0.016080454,\n",
      " 'Loss/regularization_loss': 0.029608414,\n",
      " 'Loss/total_loss': 0.30409628,\n",
      " 'learning_rate': 0.019960001}\n",
      "INFO:tensorflow:Step 700 per-step time 0.415s\n",
      "I0619 14:14:46.757972 139810492540800 model_lib_v2.py:700] Step 700 per-step time 0.415s\n",
      "INFO:tensorflow:{'Loss/classification_loss': 0.28518423,\n",
      " 'Loss/localization_loss': 0.007916137,\n",
      " 'Loss/regularization_loss': 0.029627133,\n",
      " 'Loss/total_loss': 0.3227275,\n",
      " 'learning_rate': 0.023120001}\n",
      "I0619 14:14:46.758291 139810492540800 model_lib_v2.py:701] {'Loss/classification_loss': 0.28518423,\n",
      " 'Loss/localization_loss': 0.007916137,\n",
      " 'Loss/regularization_loss': 0.029627133,\n",
      " 'Loss/total_loss': 0.3227275,\n",
      " 'learning_rate': 0.023120001}\n",
      "INFO:tensorflow:Step 800 per-step time 0.416s\n",
      "I0619 14:15:28.392573 139810492540800 model_lib_v2.py:700] Step 800 per-step time 0.416s\n",
      "INFO:tensorflow:{'Loss/classification_loss': 0.27828708,\n",
      " 'Loss/localization_loss': 0.0063604666,\n",
      " 'Loss/regularization_loss': 0.029674994,\n",
      " 'Loss/total_loss': 0.31432256,\n",
      " 'learning_rate': 0.02628}\n",
      "I0619 14:15:28.392882 139810492540800 model_lib_v2.py:701] {'Loss/classification_loss': 0.27828708,\n",
      " 'Loss/localization_loss': 0.0063604666,\n",
      " 'Loss/regularization_loss': 0.029674994,\n",
      " 'Loss/total_loss': 0.31432256,\n",
      " 'learning_rate': 0.02628}\n",
      "INFO:tensorflow:Step 900 per-step time 0.415s\n",
      "I0619 14:16:09.857752 139810492540800 model_lib_v2.py:700] Step 900 per-step time 0.415s\n",
      "INFO:tensorflow:{'Loss/classification_loss': 0.21930549,\n",
      " 'Loss/localization_loss': 0.0055882474,\n",
      " 'Loss/regularization_loss': 0.02971301,\n",
      " 'Loss/total_loss': 0.25460675,\n",
      " 'learning_rate': 0.02944}\n",
      "I0619 14:16:09.858074 139810492540800 model_lib_v2.py:701] {'Loss/classification_loss': 0.21930549,\n",
      " 'Loss/localization_loss': 0.0055882474,\n",
      " 'Loss/regularization_loss': 0.02971301,\n",
      " 'Loss/total_loss': 0.25460675,\n",
      " 'learning_rate': 0.02944}\n",
      "INFO:tensorflow:Step 1000 per-step time 0.418s\n",
      "I0619 14:16:51.680881 139810492540800 model_lib_v2.py:700] Step 1000 per-step time 0.418s\n",
      "INFO:tensorflow:{'Loss/classification_loss': 0.2777919,\n",
      " 'Loss/localization_loss': 0.006435671,\n",
      " 'Loss/regularization_loss': 0.029756011,\n",
      " 'Loss/total_loss': 0.31398356,\n",
      " 'learning_rate': 0.0326}\n",
      "I0619 14:16:51.681209 139810492540800 model_lib_v2.py:701] {'Loss/classification_loss': 0.2777919,\n",
      " 'Loss/localization_loss': 0.006435671,\n",
      " 'Loss/regularization_loss': 0.029756011,\n",
      " 'Loss/total_loss': 0.31398356,\n",
      " 'learning_rate': 0.0326}\n",
      "INFO:tensorflow:Step 1100 per-step time 0.432s\n",
      "I0619 14:17:34.865829 139810492540800 model_lib_v2.py:700] Step 1100 per-step time 0.432s\n",
      "INFO:tensorflow:{'Loss/classification_loss': 0.27463543,\n",
      " 'Loss/localization_loss': 0.0061452086,\n",
      " 'Loss/regularization_loss': 0.029806515,\n",
      " 'Loss/total_loss': 0.31058717,\n",
      " 'learning_rate': 0.03576}\n",
      "I0619 14:17:34.866177 139810492540800 model_lib_v2.py:701] {'Loss/classification_loss': 0.27463543,\n",
      " 'Loss/localization_loss': 0.0061452086,\n",
      " 'Loss/regularization_loss': 0.029806515,\n",
      " 'Loss/total_loss': 0.31058717,\n",
      " 'learning_rate': 0.03576}\n",
      "INFO:tensorflow:Step 1200 per-step time 0.418s\n",
      "I0619 14:18:16.643254 139810492540800 model_lib_v2.py:700] Step 1200 per-step time 0.418s\n",
      "INFO:tensorflow:{'Loss/classification_loss': 0.26067522,\n",
      " 'Loss/localization_loss': 0.0067095323,\n",
      " 'Loss/regularization_loss': 0.029927712,\n",
      " 'Loss/total_loss': 0.29731247,\n",
      " 'learning_rate': 0.03892}\n",
      "I0619 14:18:16.643573 139810492540800 model_lib_v2.py:701] {'Loss/classification_loss': 0.26067522,\n",
      " 'Loss/localization_loss': 0.0067095323,\n",
      " 'Loss/regularization_loss': 0.029927712,\n",
      " 'Loss/total_loss': 0.29731247,\n",
      " 'learning_rate': 0.03892}\n",
      "INFO:tensorflow:Step 1300 per-step time 0.417s\n",
      "I0619 14:18:58.368029 139810492540800 model_lib_v2.py:700] Step 1300 per-step time 0.417s\n",
      "INFO:tensorflow:{'Loss/classification_loss': 0.28118262,\n",
      " 'Loss/localization_loss': 0.005120936,\n",
      " 'Loss/regularization_loss': 0.02999455,\n",
      " 'Loss/total_loss': 0.3162981,\n",
      " 'learning_rate': 0.04208}\n",
      "I0619 14:18:58.368350 139810492540800 model_lib_v2.py:701] {'Loss/classification_loss': 0.28118262,\n",
      " 'Loss/localization_loss': 0.005120936,\n",
      " 'Loss/regularization_loss': 0.02999455,\n",
      " 'Loss/total_loss': 0.3162981,\n",
      " 'learning_rate': 0.04208}\n",
      "INFO:tensorflow:Step 1400 per-step time 0.417s\n",
      "I0619 14:19:40.076051 139810492540800 model_lib_v2.py:700] Step 1400 per-step time 0.417s\n",
      "INFO:tensorflow:{'Loss/classification_loss': 0.22320034,\n",
      " 'Loss/localization_loss': 0.005052588,\n",
      " 'Loss/regularization_loss': 0.030072855,\n",
      " 'Loss/total_loss': 0.2583258,\n",
      " 'learning_rate': 0.04524}\n",
      "I0619 14:19:40.076373 139810492540800 model_lib_v2.py:701] {'Loss/classification_loss': 0.22320034,\n",
      " 'Loss/localization_loss': 0.005052588,\n",
      " 'Loss/regularization_loss': 0.030072855,\n",
      " 'Loss/total_loss': 0.2583258,\n",
      " 'learning_rate': 0.04524}\n",
      "INFO:tensorflow:Step 1500 per-step time 0.418s\n",
      "I0619 14:20:21.876693 139810492540800 model_lib_v2.py:700] Step 1500 per-step time 0.418s\n",
      "INFO:tensorflow:{'Loss/classification_loss': 0.19686455,\n",
      " 'Loss/localization_loss': 0.0050804815,\n",
      " 'Loss/regularization_loss': 0.030181568,\n",
      " 'Loss/total_loss': 0.2321266,\n",
      " 'learning_rate': 0.0484}\n",
      "I0619 14:20:21.877078 139810492540800 model_lib_v2.py:701] {'Loss/classification_loss': 0.19686455,\n",
      " 'Loss/localization_loss': 0.0050804815,\n",
      " 'Loss/regularization_loss': 0.030181568,\n",
      " 'Loss/total_loss': 0.2321266,\n",
      " 'learning_rate': 0.0484}\n",
      "INFO:tensorflow:Step 1600 per-step time 0.416s\n",
      "I0619 14:21:03.504539 139810492540800 model_lib_v2.py:700] Step 1600 per-step time 0.416s\n",
      "INFO:tensorflow:{'Loss/classification_loss': 0.7082723,\n",
      " 'Loss/localization_loss': 0.015646808,\n",
      " 'Loss/regularization_loss': 0.03028795,\n",
      " 'Loss/total_loss': 0.754207,\n",
      " 'learning_rate': 0.05156}\n",
      "I0619 14:21:03.504870 139810492540800 model_lib_v2.py:701] {'Loss/classification_loss': 0.7082723,\n",
      " 'Loss/localization_loss': 0.015646808,\n",
      " 'Loss/regularization_loss': 0.03028795,\n",
      " 'Loss/total_loss': 0.754207,\n",
      " 'learning_rate': 0.05156}\n",
      "INFO:tensorflow:Step 1700 per-step time 0.412s\n",
      "I0619 14:21:44.719292 139810492540800 model_lib_v2.py:700] Step 1700 per-step time 0.412s\n",
      "INFO:tensorflow:{'Loss/classification_loss': 0.37679207,\n",
      " 'Loss/localization_loss': 0.009917655,\n",
      " 'Loss/regularization_loss': 0.030512169,\n",
      " 'Loss/total_loss': 0.4172219,\n",
      " 'learning_rate': 0.05472}\n",
      "I0619 14:21:44.719642 139810492540800 model_lib_v2.py:701] {'Loss/classification_loss': 0.37679207,\n",
      " 'Loss/localization_loss': 0.009917655,\n",
      " 'Loss/regularization_loss': 0.030512169,\n",
      " 'Loss/total_loss': 0.4172219,\n",
      " 'learning_rate': 0.05472}\n",
      "INFO:tensorflow:Step 1800 per-step time 0.415s\n",
      "I0619 14:22:26.197522 139810492540800 model_lib_v2.py:700] Step 1800 per-step time 0.415s\n",
      "INFO:tensorflow:{'Loss/classification_loss': 0.21049015,\n",
      " 'Loss/localization_loss': 0.00476771,\n",
      " 'Loss/regularization_loss': 0.030621916,\n",
      " 'Loss/total_loss': 0.24587978,\n",
      " 'learning_rate': 0.05788}\n",
      "I0619 14:22:26.197851 139810492540800 model_lib_v2.py:701] {'Loss/classification_loss': 0.21049015,\n",
      " 'Loss/localization_loss': 0.00476771,\n",
      " 'Loss/regularization_loss': 0.030621916,\n",
      " 'Loss/total_loss': 0.24587978,\n",
      " 'learning_rate': 0.05788}\n",
      "INFO:tensorflow:Step 1900 per-step time 0.417s\n",
      "I0619 14:23:07.937084 139810492540800 model_lib_v2.py:700] Step 1900 per-step time 0.417s\n",
      "INFO:tensorflow:{'Loss/classification_loss': 0.21093334,\n",
      " 'Loss/localization_loss': 0.004030345,\n",
      " 'Loss/regularization_loss': 0.030732902,\n",
      " 'Loss/total_loss': 0.24569659,\n",
      " 'learning_rate': 0.06104}\n",
      "I0619 14:23:07.937446 139810492540800 model_lib_v2.py:701] {'Loss/classification_loss': 0.21093334,\n",
      " 'Loss/localization_loss': 0.004030345,\n",
      " 'Loss/regularization_loss': 0.030732902,\n",
      " 'Loss/total_loss': 0.24569659,\n",
      " 'learning_rate': 0.06104}\n",
      "INFO:tensorflow:Step 2000 per-step time 0.414s\n",
      "I0619 14:23:49.337653 139810492540800 model_lib_v2.py:700] Step 2000 per-step time 0.414s\n",
      "INFO:tensorflow:{'Loss/classification_loss': 0.28910568,\n",
      " 'Loss/localization_loss': 0.0061874287,\n",
      " 'Loss/regularization_loss': 0.030869057,\n",
      " 'Loss/total_loss': 0.3261622,\n",
      " 'learning_rate': 0.06420001}\n",
      "I0619 14:23:49.337984 139810492540800 model_lib_v2.py:701] {'Loss/classification_loss': 0.28910568,\n",
      " 'Loss/localization_loss': 0.0061874287,\n",
      " 'Loss/regularization_loss': 0.030869057,\n",
      " 'Loss/total_loss': 0.3261622,\n",
      " 'learning_rate': 0.06420001}\n",
      "INFO:tensorflow:Step 2100 per-step time 0.432s\n",
      "I0619 14:24:32.501908 139810492540800 model_lib_v2.py:700] Step 2100 per-step time 0.432s\n",
      "INFO:tensorflow:{'Loss/classification_loss': 0.23774344,\n",
      " 'Loss/localization_loss': 0.0073147095,\n",
      " 'Loss/regularization_loss': 0.031007007,\n",
      " 'Loss/total_loss': 0.27606517,\n",
      " 'learning_rate': 0.067360006}\n",
      "I0619 14:24:32.502248 139810492540800 model_lib_v2.py:701] {'Loss/classification_loss': 0.23774344,\n",
      " 'Loss/localization_loss': 0.0073147095,\n",
      " 'Loss/regularization_loss': 0.031007007,\n",
      " 'Loss/total_loss': 0.27606517,\n",
      " 'learning_rate': 0.067360006}\n",
      "INFO:tensorflow:Step 2200 per-step time 0.417s\n",
      "I0619 14:25:14.186916 139810492540800 model_lib_v2.py:700] Step 2200 per-step time 0.417s\n",
      "INFO:tensorflow:{'Loss/classification_loss': 0.16040042,\n",
      " 'Loss/localization_loss': 0.0034535006,\n",
      " 'Loss/regularization_loss': 0.031122338,\n",
      " 'Loss/total_loss': 0.19497626,\n",
      " 'learning_rate': 0.070520006}\n",
      "I0619 14:25:14.187253 139810492540800 model_lib_v2.py:701] {'Loss/classification_loss': 0.16040042,\n",
      " 'Loss/localization_loss': 0.0034535006,\n",
      " 'Loss/regularization_loss': 0.031122338,\n",
      " 'Loss/total_loss': 0.19497626,\n",
      " 'learning_rate': 0.070520006}\n",
      "INFO:tensorflow:Step 2300 per-step time 0.418s\n",
      "I0619 14:25:55.978985 139810492540800 model_lib_v2.py:700] Step 2300 per-step time 0.418s\n",
      "INFO:tensorflow:{'Loss/classification_loss': 0.21242233,\n",
      " 'Loss/localization_loss': 0.005483297,\n",
      " 'Loss/regularization_loss': 0.031263076,\n",
      " 'Loss/total_loss': 0.2491687,\n",
      " 'learning_rate': 0.073680006}\n",
      "I0619 14:25:55.979322 139810492540800 model_lib_v2.py:701] {'Loss/classification_loss': 0.21242233,\n",
      " 'Loss/localization_loss': 0.005483297,\n",
      " 'Loss/regularization_loss': 0.031263076,\n",
      " 'Loss/total_loss': 0.2491687,\n",
      " 'learning_rate': 0.073680006}\n",
      "INFO:tensorflow:Step 2400 per-step time 0.414s\n",
      "I0619 14:26:37.389482 139810492540800 model_lib_v2.py:700] Step 2400 per-step time 0.414s\n",
      "INFO:tensorflow:{'Loss/classification_loss': 0.19038478,\n",
      " 'Loss/localization_loss': 0.0040274807,\n",
      " 'Loss/regularization_loss': 0.031449392,\n",
      " 'Loss/total_loss': 0.22586165,\n",
      " 'learning_rate': 0.076840006}\n",
      "I0619 14:26:37.389808 139810492540800 model_lib_v2.py:701] {'Loss/classification_loss': 0.19038478,\n",
      " 'Loss/localization_loss': 0.0040274807,\n",
      " 'Loss/regularization_loss': 0.031449392,\n",
      " 'Loss/total_loss': 0.22586165,\n",
      " 'learning_rate': 0.076840006}\n",
      "INFO:tensorflow:Step 2500 per-step time 0.414s\n",
      "I0619 14:27:18.813180 139810492540800 model_lib_v2.py:700] Step 2500 per-step time 0.414s\n",
      "INFO:tensorflow:{'Loss/classification_loss': 0.21857502,\n",
      " 'Loss/localization_loss': 0.0056496654,\n",
      " 'Loss/regularization_loss': 0.031572726,\n",
      " 'Loss/total_loss': 0.25579742,\n",
      " 'learning_rate': 0.08}\n",
      "I0619 14:27:18.813500 139810492540800 model_lib_v2.py:701] {'Loss/classification_loss': 0.21857502,\n",
      " 'Loss/localization_loss': 0.0056496654,\n",
      " 'Loss/regularization_loss': 0.031572726,\n",
      " 'Loss/total_loss': 0.25579742,\n",
      " 'learning_rate': 0.08}\n"
     ]
    }
   ],
   "source": [
    "!{command}"
   ]
  },
  {
   "cell_type": "markdown",
   "metadata": {
    "id": "u1_K43qm2dhI"
   },
   "source": []
  },
  {
   "cell_type": "code",
   "execution_count": 42,
   "metadata": {
    "id": "4Kvod3PGm2aM"
   },
   "outputs": [],
   "source": [
    "import os\n",
    "import tensorflow as tf\n",
    "from object_detection.utils import label_map_util\n",
    "from object_detection.utils import visualization_utils as viz_utils\n",
    "from object_detection.builders import model_builder\n",
    "from object_detection.utils import config_util"
   ]
  },
  {
   "cell_type": "code",
   "execution_count": 43,
   "metadata": {
    "id": "TfB69yv6m5R7"
   },
   "outputs": [],
   "source": [
    "# Load pipeline config and build a detection model\n",
    "configs = config_util.get_configs_from_pipeline_file(files['PIPELINE_CONFIG'])\n",
    "detection_model = model_builder.build(model_config=configs['model'], is_training=False)\n",
    "\n",
    "# Restore checkpoint\n",
    "ckpt = tf.compat.v2.train.Checkpoint(model=detection_model)\n",
    "ckpt.restore(os.path.join(paths['CHECKPOINT_PATH'], 'ckpt-3')).expect_partial()\n",
    "\n",
    "@tf.function\n",
    "def detect_fn(image):\n",
    "    image, shapes = detection_model.preprocess(image)\n",
    "    prediction_dict = detection_model.predict(image, shapes)\n",
    "    detections = detection_model.postprocess(prediction_dict, shapes)\n",
    "    return detections"
   ]
  },
  {
   "cell_type": "code",
   "execution_count": 44,
   "metadata": {
    "id": "yMPjqxDFm91y"
   },
   "outputs": [],
   "source": [
    "import cv2 \n",
    "import numpy as np\n",
    "from matplotlib import pyplot as plt\n",
    "%matplotlib inline"
   ]
  },
  {
   "cell_type": "code",
   "execution_count": 45,
   "metadata": {
    "id": "YFnJh398m_dQ"
   },
   "outputs": [],
   "source": [
    "category_index = label_map_util.create_category_index_from_labelmap(files['LABELMAP'])"
   ]
  },
  {
   "cell_type": "code",
   "execution_count": 50,
   "metadata": {
    "id": "aze9dwaVnCWw"
   },
   "outputs": [],
   "source": [
    "IMAGE_PATH = os.path.join(paths['IMAGE_PATH'], '10.jpg')"
   ]
  },
  {
   "cell_type": "code",
   "execution_count": 51,
   "metadata": {
    "colab": {
     "base_uri": "https://localhost:8080/",
     "height": 286
    },
    "id": "u5xr2noZnGuW",
    "outputId": "0783e1f7-8435-4923-b44c-126c729f705c"
   },
   "outputs": [
    {
     "name": "stdout",
     "output_type": "stream",
     "text": [
      "97\n"
     ]
    },
    {
     "data": {
      "image/png": "[encoded data removed]",
      "text/plain": [
       "<Figure size 432x288 with 1 Axes>"
      ]
     },
     "metadata": {
      "needs_background": "light",
      "tags": []
     },
     "output_type": "display_data"
    }
   ],
   "source": [
    "img = cv2.imread(IMAGE_PATH)\n",
    "image_np = np.array(img)\n",
    "\n",
    "input_tensor = tf.convert_to_tensor(np.expand_dims(image_np, 0), dtype=tf.float32)\n",
    "detections = detect_fn(input_tensor)\n",
    "\n",
    "num_detections = int(detections.pop('num_detections'))\n",
    "detections = {key: value[0, :num_detections].numpy()\n",
    "              for key, value in detections.items()}\n",
    "detections['num_detections'] = num_detections\n",
    "\n",
    "print(num_detections)\n",
    "\n",
    "# detection_classes should be ints.\n",
    "detections['detection_classes'] = detections['detection_classes'].astype(np.int64)\n",
    "\n",
    "label_id_offset = 1\n",
    "image_np_with_detections = image_np.copy()\n",
    "\n",
    "viz_utils.visualize_boxes_and_labels_on_image_array(\n",
    "            image_np_with_detections,\n",
    "            detections['detection_boxes'],\n",
    "            detections['detection_classes']+label_id_offset,\n",
    "            detections['detection_scores'],\n",
    "            category_index,\n",
    "            use_normalized_coordinates=True,\n",
    "            max_boxes_to_draw=5,\n",
    "            min_score_thresh=.0000001,\n",
    "            agnostic_mode=False)\n",
    "\n",
    "plt.imshow(cv2.cvtColor(image_np_with_detections, cv2.COLOR_BGR2RGB))\n",
    "plt.show()"
   ]
  },
  {
   "cell_type": "markdown",
   "metadata": {
    "id": "4LtRbPPj2dmQ"
   },
   "source": []
  }
 ],
 "metadata": {
  "accelerator": "GPU",
  "colab": {
   "collapsed_sections": [],
   "name": "ObjectDetection.ipynb",
   "provenance": []
  },
  "kernelspec": {
   "display_name": "aiss",
   "language": "python",
   "name": "aiss"
  },
  "language_info": {
   "codemirror_mode": {
    "name": "ipython",
    "version": 3
   },
   "file_extension": ".py",
   "mimetype": "text/x-python",
   "name": "python",
   "nbconvert_exporter": "python",
   "pygments_lexer": "ipython3",
   "version": "3.8.10"
  }
 },
 "nbformat": 4,
 "nbformat_minor": 4
}
