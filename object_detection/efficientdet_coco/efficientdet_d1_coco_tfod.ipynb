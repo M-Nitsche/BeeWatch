{
  "nbformat": 4,
  "nbformat_minor": 0,
  "metadata": {
    "accelerator": "GPU",
    "colab": {
      "name": "ObjectDetection.ipynb",
      "private_outputs": true,
      "provenance": [],
      "collapsed_sections": [],
      "toc_visible": true,
      "machine_shape": "hm"
    },
    "kernelspec": {
      "display_name": "Python 3",
      "name": "python3"
    },
    "language_info": {
      "name": "python"
    }
  },
  "cells": [
    {
      "cell_type": "markdown",
      "metadata": {
        "id": "v-ZP_bH5bCF3"
      },
      "source": [
        "# Bee Detection"
      ]
    },
    {
      "cell_type": "code",
      "metadata": {
        "id": "uTg3X4hNbDIe"
      },
      "source": [
        "from google.colab import drive\n",
        "drive.mount(\"/content/drive\")"
      ],
      "execution_count": null,
      "outputs": []
    },
    {
      "cell_type": "code",
      "metadata": {
        "id": "StdLTSNBbezu"
      },
      "source": [
        "import os\n",
        "os.chdir(\"./drive/MyDrive\")"
      ],
      "execution_count": null,
      "outputs": []
    },
    {
      "cell_type": "markdown",
      "metadata": {
        "id": "iAgkk7vry_fJ"
      },
      "source": [
        "##Create paths and determine model to be used\n",
        "\n",
        "See [TensorFlow Model Zoo](https://github.com/tensorflow/models/blob/master/research/object_detection/g3doc/tf2_detection_zoo.md)"
      ]
    },
    {
      "cell_type": "code",
      "metadata": {
        "id": "w3fxNDrTy97T"
      },
      "source": [
        "CUSTOM_MODEL_NAME = 'efficientdet_d1_coco17_tpu-32_640x640_wo_augment' \n",
        "PRETRAINED_MODEL_NAME = \"efficientdet_d1_coco17_tpu-32\" \n",
        "BASE_MODEL_ZOO_URL = \"http://download.tensorflow.org/models/object_detection/tf2/20200711\"\n",
        "PRETRAINED_MODEL_URL = os.path.join(BASE_MODEL_ZOO_URL, PRETRAINED_MODEL_NAME + \".tar.gz\") \n",
        "LABEL_MAP_NAME = 'label_map.pbtxt'\n",
        "TRAIN_TFRECORD_NAME = 'synthetic_train.record'\n",
        "VALID_TFRECORD_NAME = 'synthetic_valid.record'\n",
        "\n",
        "paths = {\n",
        "    'WORKSPACE_PATH': os.path.join('Tensorflow', 'workspace'),\n",
        "    'SCRIPTS_PATH': os.path.join('Tensorflow','scripts'),\n",
        "    'APIMODEL_PATH': os.path.join('Tensorflow','models'),\n",
        "    'DATA_PATH': os.path.join('Tensorflow', 'workspace','data'),\n",
        "    'IMAGE_PATH': os.path.join('Tensorflow', 'workspace','images'),\n",
        "    'MODEL_PATH': os.path.join('Tensorflow', 'workspace','models'),\n",
        "    'PRETRAINED_MODEL_PATH': os.path.join('Tensorflow', 'workspace','pre-trained-models'),\n",
        "    'CUSTOM_MODEL_PATH': os.path.join('Tensorflow', 'workspace','models',CUSTOM_MODEL_NAME),\n",
        "    'OUTPUT_PATH': os.path.join('Tensorflow', 'workspace','models',CUSTOM_MODEL_NAME, 'export'), \n",
        "    'PROTOC_PATH':os.path.join('Tensorflow','protoc')\n",
        " }\n",
        "\n",
        "files = {\n",
        "    'PIPELINE_CONFIG':os.path.join('Tensorflow', 'workspace','models', CUSTOM_MODEL_NAME, 'pipeline.config'),\n",
        "    'LABELMAP': os.path.join(paths['DATA_PATH'], LABEL_MAP_NAME),\n",
        "    'TRAIN_TFRECORD': os.path.join(paths['DATA_PATH'], TRAIN_TFRECORD_NAME),\n",
        "    'VALID_TFRECORD': os.path.join(paths['DATA_PATH'], VALID_TFRECORD_NAME),\n",
        "}\n",
        "\n",
        "for path in paths.values():\n",
        "    if not os.path.exists(path):\n",
        "        if os.name == 'posix':\n",
        "            !mkdir -p {path}\n",
        "        if os.name == 'nt':\n",
        "            !mkdir {path}"
      ],
      "execution_count": null,
      "outputs": []
    },
    {
      "cell_type": "markdown",
      "metadata": {
        "id": "5-fP1hR1zjdc"
      },
      "source": [
        "##Install TensorFlow Object Detection API"
      ]
    },
    {
      "cell_type": "code",
      "metadata": {
        "id": "Twrwbeyuy9-h"
      },
      "source": [
        "if os.name=='nt':\n",
        "    !pip install wget\n",
        "    import wget"
      ],
      "execution_count": null,
      "outputs": []
    },
    {
      "cell_type": "code",
      "metadata": {
        "id": "jcmjTtyfy-Bc"
      },
      "source": [
        "if not os.path.exists(os.path.join(paths['APIMODEL_PATH'], 'research', 'object_detection')):\n",
        "    !git clone https://github.com/tensorflow/models {paths['APIMODEL_PATH']}"
      ],
      "execution_count": null,
      "outputs": []
    },
    {
      "cell_type": "code",
      "metadata": {
        "id": "qGzrWeamy-Ee"
      },
      "source": [
        "# Install Tensorflow Object Detection \n",
        "if os.name=='posix':  \n",
        "    !apt-get install protobuf-compiler\n",
        "    !cd Tensorflow/models/research && protoc object_detection/protos/*.proto --python_out=. && cp object_detection/packages/tf2/setup.py . && python -m pip install . \n",
        "    \n",
        "if os.name=='nt':\n",
        "    url=\"https://github.com/protocolbuffers/protobuf/releases/download/v3.15.6/protoc-3.15.6-win64.zip\"\n",
        "    wget.download(url)\n",
        "    !move protoc-3.15.6-win64.zip {paths['PROTOC_PATH']}\n",
        "    !cd {paths['PROTOC_PATH']} && tar -xf protoc-3.15.6-win64.zip\n",
        "    os.environ['PATH'] += os.pathsep + os.path.abspath(os.path.join(paths['PROTOC_PATH'], 'bin'))   \n",
        "    !cd Tensorflow/models/research && protoc object_detection/protos/*.proto --python_out=. && copy object_detection\\\\packages\\\\tf2\\\\setup.py setup.py && python setup.py build && python setup.py install\n",
        "    !cd Tensorflow/models/research/slim && pip install -e ."
      ],
      "execution_count": null,
      "outputs": []
    },
    {
      "cell_type": "code",
      "metadata": {
        "id": "LReqDoi1y-HL"
      },
      "source": [
        "VERIFICATION_SCRIPT = os.path.join(paths['APIMODEL_PATH'], 'research', 'object_detection', 'builders', 'model_builder_tf2_test.py')\n",
        "# Verify Installation\n",
        "!python {VERIFICATION_SCRIPT}"
      ],
      "execution_count": null,
      "outputs": []
    },
    {
      "cell_type": "code",
      "metadata": {
        "id": "4tJRtRJc0nN5"
      },
      "source": [
        "!pip install tensorflow --upgrade --quiet"
      ],
      "execution_count": null,
      "outputs": []
    },
    {
      "cell_type": "code",
      "metadata": {
        "id": "Q1VhpCK80nQz"
      },
      "source": [
        "#!pip uninstall protobuf matplotlib -y \n",
        "#!pip install protobuf matplotlib==3.2 "
      ],
      "execution_count": null,
      "outputs": []
    },
    {
      "cell_type": "markdown",
      "metadata": {
        "id": "p1l3SOVf1fpS"
      },
      "source": [
        "##Load pretrained model for transer learning "
      ]
    },
    {
      "cell_type": "code",
      "metadata": {
        "id": "0SQZbPlk0nVw"
      },
      "source": [
        "import object_detection"
      ],
      "execution_count": null,
      "outputs": []
    },
    {
      "cell_type": "code",
      "metadata": {
        "id": "wAsXSC5a0nY-"
      },
      "source": [
        "if os.name =='posix':\n",
        "    !wget {PRETRAINED_MODEL_URL}\n",
        "    !mv {PRETRAINED_MODEL_NAME+'.tar.gz'} {paths['PRETRAINED_MODEL_PATH']}\n",
        "    !cd {paths['PRETRAINED_MODEL_PATH']} && tar -zxvf {PRETRAINED_MODEL_NAME+'.tar.gz'}\n",
        "if os.name == 'nt':\n",
        "    wget.download(PRETRAINED_MODEL_URL)\n",
        "    !move {PRETRAINED_MODEL_NAME+'.tar.gz'} {paths['PRETRAINED_MODEL_PATH']}\n",
        "    !cd {paths['PRETRAINED_MODEL_PATH']} && tar -zxvf {PRETRAINED_MODEL_NAME+'.tar.gz'}"
      ],
      "execution_count": null,
      "outputs": []
    },
    {
      "cell_type": "markdown",
      "metadata": {
        "id": "IufEcZwM10ML"
      },
      "source": [
        "**Create Label Map**\n",
        "not needed when already done"
      ]
    },
    {
      "cell_type": "code",
      "metadata": {
        "id": "jbJOh0z311yP"
      },
      "source": [
        "labels = [{'name':'bee', 'id':1}]\n",
        "if not os.path.exists(files['LABELMAP']):\n",
        "  with open(files['LABELMAP'], 'w') as f:\n",
        "      for label in labels:\n",
        "          f.write('item { \\n')\n",
        "          f.write('\\tname:\\'{}\\'\\n'.format(label['name']))\n",
        "          f.write('\\tid:{}\\n'.format(label['id']))\n",
        "          f.write('}\\n')"
      ],
      "execution_count": null,
      "outputs": []
    },
    {
      "cell_type": "markdown",
      "metadata": {
        "id": "Kmo4mC-j2ddm"
      },
      "source": [
        "**Copy Model Config to Training Folder**"
      ]
    },
    {
      "cell_type": "code",
      "metadata": {
        "id": "eIkDp9AX2hKn"
      },
      "source": [
        "if os.name =='posix' and not os.path.exists(files['PIPELINE_CONFIG']): #check if config was added manually\n",
        "    !cp {os.path.join(paths['PRETRAINED_MODEL_PATH'], PRETRAINED_MODEL_NAME, 'pipeline.config')} {paths['CUSTOM_MODEL_PATH']}\n",
        "if os.name == 'nt' and not os.path.exists(files['PIPELINE_CONFIG']):\n",
        "    !copy {os.path.join(paths['PRETRAINED_MODEL_PATH'], PRETRAINED_MODEL_NAME, 'pipeline.config')} {paths['CUSTOM_MODEL_PATH']}"
      ],
      "execution_count": null,
      "outputs": []
    },
    {
      "cell_type": "markdown",
      "metadata": {
        "id": "UHm0orHPa4OU"
      },
      "source": [
        "**Update Config For Transfer Learning**\n",
        "\n",
        "See [Neptune TFOD Config](https://neptune.ai/blog/tensorflow-object-detection-api-best-practices-to-training-evaluation-deployment) for config explanations"
      ]
    },
    {
      "cell_type": "code",
      "metadata": {
        "id": "uEADNbDZ2hQB"
      },
      "source": [
        "import tensorflow as tf\n",
        "from object_detection.utils import config_util\n",
        "from object_detection.protos import pipeline_pb2\n",
        "from google.protobuf import text_format"
      ],
      "execution_count": null,
      "outputs": []
    },
    {
      "cell_type": "code",
      "metadata": {
        "id": "_NvnRp_ybS4X"
      },
      "source": [
        "files['PIPELINE_CONFIG']"
      ],
      "execution_count": null,
      "outputs": []
    },
    {
      "cell_type": "code",
      "metadata": {
        "id": "602ue05ca8DQ"
      },
      "source": [
        "default_config = config_util.get_configs_from_pipeline_file(files['PIPELINE_CONFIG'])\n",
        "default_config.model.ssd.loss.classification_weight = 0.0 #We do not care for the classification as there is only one class anyway"
      ],
      "execution_count": null,
      "outputs": []
    },
    {
      "cell_type": "code",
      "metadata": {
        "id": "xnaE5qp8b8Xq"
      },
      "source": [
        "pipeline_config = pipeline_pb2.TrainEvalPipelineConfig()\n",
        "with tf.io.gfile.GFile(files['PIPELINE_CONFIG'], \"r\") as f:                                                                                                                                                                                                                     \n",
        "    proto_str = f.read()                                                                                                                                                                                                                                          \n",
        "    text_format.Merge(proto_str, pipeline_config)"
      ],
      "execution_count": null,
      "outputs": []
    },
    {
      "cell_type": "code",
      "metadata": {
        "id": "8PdYGFT3wGAT"
      },
      "source": [
        "continue_train = False #Continue training and use full model or transfer learn and use pretrained model without head"
      ],
      "execution_count": null,
      "outputs": []
    },
    {
      "cell_type": "code",
      "metadata": {
        "id": "RGUHTHBmcGJ-"
      },
      "source": [
        "pipeline_config.model.ssd.num_classes = len(labels) #1 (i.e. bee)\n",
        "#pipeline_config.model.ssd.image_resizer.keep_aspect_ratio_resizer.convert_to_grayscale = True #grayscaling\n",
        "\n",
        "#TRAINING CONFIG\n",
        "pipeline_config.train_config.batch_size = 4\n",
        "pipeline_config.train_config.num_steps = 30000\n",
        "pipeline_config.train_config.optimizer.momentum_optimizer.learning_rate.cosine_decay_learning_rate.total_steps = 30000\n",
        "\n",
        "\n",
        "\n",
        "if continue_train:\n",
        "  pipeline_config.train_config.fine_tune_checkpoint = os.path.join(paths['CUSTOM_MODEL_PATH'], 'ckpt-11')\n",
        "  pipeline_config.train_config.load_all_detection_checkpoint_vars = True # load also the head variables\n",
        "  pipeline_config.train_config.fine_tune_checkpoint_type = \"full\"\n",
        "else:\n",
        "  pipeline_config.train_config.fine_tune_checkpoint = os.path.join(paths['PRETRAINED_MODEL_PATH'], PRETRAINED_MODEL_NAME, 'checkpoint', 'ckpt-0')\n",
        "  pipeline_config.train_config.fine_tune_checkpoint_type = \"detection\" #Restores the entire feature extractor. The only parts of the full detection model that are not restored are the box and class prediction heads.\"\"\n",
        "\n",
        "pipeline_config.train_input_reader.label_map_path= files['LABELMAP']\n",
        "pipeline_config.train_input_reader.tf_record_input_reader.input_path[:] = [files['TRAIN_TFRECORD']]\n",
        "\n",
        "#EVALUATION CONFIG\n",
        "pipeline_config.eval_input_reader[0].label_map_path = files['LABELMAP']\n",
        "pipeline_config.eval_input_reader[0].tf_record_input_reader.input_path[:] = [files['VALID_TFRECORD']] "
      ],
      "execution_count": null,
      "outputs": []
    },
    {
      "cell_type": "code",
      "metadata": {
        "id": "PrRYex9ydCWx"
      },
      "source": [
        "config_text = text_format.MessageToString(pipeline_config)                                                                                                                                                                                                        \n",
        "with tf.io.gfile.GFile(files['PIPELINE_CONFIG'], \"wb\") as f:                                                                                                                                                                                                                     \n",
        "    f.write(config_text)"
      ],
      "execution_count": null,
      "outputs": []
    },
    {
      "cell_type": "code",
      "metadata": {
        "id": "NkEfr69VdESN"
      },
      "source": [
        "config_util.get_configs_from_pipeline_file(files['PIPELINE_CONFIG'])"
      ],
      "execution_count": null,
      "outputs": []
    },
    {
      "cell_type": "code",
      "metadata": {
        "id": "jUREETWpfkIs"
      },
      "source": [
        "%reload_ext tensorboard\n",
        "%tensorboard --logdir=\"Tensorflow/workspace/models/efficientdet_d1_coco17_tpu-32_640x640_wo_augment\""
      ],
      "execution_count": null,
      "outputs": []
    },
    {
      "cell_type": "markdown",
      "metadata": {
        "id": "Ffjdnv1jdUR6"
      },
      "source": [
        "##Train the model"
      ]
    },
    {
      "cell_type": "code",
      "metadata": {
        "id": "PQY0KLDgdaRr"
      },
      "source": [
        "TRAINING_SCRIPT = os.path.join(paths['APIMODEL_PATH'], 'research', 'object_detection', 'model_main_tf2.py')"
      ],
      "execution_count": null,
      "outputs": []
    },
    {
      "cell_type": "code",
      "metadata": {
        "id": "Tsj3DiNEdaUm"
      },
      "source": [
        "command = \"python {} --model_dir={} --pipeline_config_path={}\".format(TRAINING_SCRIPT, paths['CUSTOM_MODEL_PATH'],files['PIPELINE_CONFIG'])"
      ],
      "execution_count": null,
      "outputs": []
    },
    {
      "cell_type": "code",
      "metadata": {
        "id": "QLRWTRaMdaXC"
      },
      "source": [
        "print(command)"
      ],
      "execution_count": null,
      "outputs": []
    },
    {
      "cell_type": "code",
      "metadata": {
        "id": "SU2nP4uhdg0k"
      },
      "source": [
        "!{command}"
      ],
      "execution_count": null,
      "outputs": []
    },
    {
      "cell_type": "markdown",
      "metadata": {
        "id": "u1_K43qm2dhI"
      },
      "source": [
        "##Load trained model to make example prediction"
      ]
    },
    {
      "cell_type": "code",
      "metadata": {
        "id": "4Kvod3PGm2aM"
      },
      "source": [
        "import os\n",
        "import tensorflow as tf\n",
        "from object_detection.utils import label_map_util\n",
        "from object_detection.utils import visualization_utils as viz_utils\n",
        "from object_detection.builders import model_builder\n",
        "from object_detection.utils import config_util"
      ],
      "execution_count": null,
      "outputs": []
    },
    {
      "cell_type": "code",
      "metadata": {
        "id": "TfB69yv6m5R7"
      },
      "source": [
        "# Load pipeline config and build a detection model\n",
        "configs = config_util.get_configs_from_pipeline_file(files['PIPELINE_CONFIG'])\n",
        "detection_model = model_builder.build(model_config=configs['model'], is_training=False)\n",
        "\n",
        "# Restore checkpoint\n",
        "ckpt = tf.compat.v2.train.Checkpoint(model=detection_model)\n",
        "ckpt.restore(os.path.join(paths['CUSTOM_MODEL_PATH'], 'ckpt-11')).expect_partial()\n",
        "\n",
        "@tf.function\n",
        "def detect_fn(image):\n",
        "    image, shapes = detection_model.preprocess(image)\n",
        "    prediction_dict = detection_model.predict(image, shapes)\n",
        "    detections = detection_model.postprocess(prediction_dict, shapes)\n",
        "    return detections"
      ],
      "execution_count": null,
      "outputs": []
    },
    {
      "cell_type": "code",
      "metadata": {
        "id": "yMPjqxDFm91y"
      },
      "source": [
        "import cv2 \n",
        "import numpy as np\n",
        "from matplotlib import pyplot as plt\n",
        "%matplotlib inline"
      ],
      "execution_count": null,
      "outputs": []
    },
    {
      "cell_type": "code",
      "metadata": {
        "id": "YFnJh398m_dQ"
      },
      "source": [
        "category_index = label_map_util.create_category_index_from_labelmap(files['LABELMAP'])"
      ],
      "execution_count": null,
      "outputs": []
    },
    {
      "cell_type": "code",
      "metadata": {
        "id": "aze9dwaVnCWw"
      },
      "source": [
        "IMAGE_PATH = os.path.join(paths['IMAGE_PATH'], '10.jpg')"
      ],
      "execution_count": null,
      "outputs": []
    },
    {
      "cell_type": "code",
      "metadata": {
        "id": "u5xr2noZnGuW"
      },
      "source": [
        "img = cv2.imread(IMAGE_PATH)\n",
        "image_np = np.array(img)\n",
        "\n",
        "input_tensor = tf.convert_to_tensor(np.expand_dims(image_np, 0), dtype=tf.float32)\n",
        "detections = detect_fn(input_tensor)\n",
        "\n",
        "num_detections = int(detections.pop('num_detections'))\n",
        "detections = {key: value[0, :num_detections].numpy()\n",
        "              for key, value in detections.items()}\n",
        "detections['num_detections'] = num_detections\n",
        "\n",
        "print(num_detections)\n",
        "\n",
        "# detection_classes should be ints.\n",
        "detections['detection_classes'] = detections['detection_classes'].astype(np.int64)\n",
        "\n",
        "label_id_offset = 1\n",
        "image_np_with_detections = image_np.copy()\n",
        "\n",
        "viz_utils.visualize_boxes_and_labels_on_image_array(\n",
        "            image_np_with_detections,\n",
        "            detections['detection_boxes'],\n",
        "            detections['detection_classes']+label_id_offset,\n",
        "            detections['detection_scores'],\n",
        "            category_index,\n",
        "            use_normalized_coordinates=True,\n",
        "            max_boxes_to_draw=15,\n",
        "            min_score_thresh=.0000001,\n",
        "            agnostic_mode=False)\n",
        "\n",
        "plt.imshow(cv2.cvtColor(image_np_with_detections, cv2.COLOR_BGR2RGB))\n",
        "plt.show()"
      ],
      "execution_count": null,
      "outputs": []
    },
    {
      "cell_type": "markdown",
      "metadata": {
        "id": "4LtRbPPj2dmQ"
      },
      "source": [
        ""
      ]
    }
  ]
}