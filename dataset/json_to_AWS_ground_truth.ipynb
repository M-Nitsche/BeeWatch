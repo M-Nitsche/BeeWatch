{
 "cells": [
  {
   "cell_type": "code",
   "execution_count": 1,
   "metadata": {
    "ExecuteTime": {
     "end_time": "2020-05-20T03:16:02.331048Z",
     "start_time": "2020-05-20T03:16:01.915217Z"
    }
   },
   "outputs": [],
   "source": [
    "import glob\n",
    "import os\n",
    "import matplotlib.pyplot as plt\n",
    "import matplotlib.patches as patches\n",
    "import uuid\n",
    "import cv2\n",
    "import numpy as np\n",
    "from random import randint\n",
    "import random\n",
    "from PIL import Image\n",
    "import json\n",
    "import copy\n",
    "\n",
    "from tqdm.notebook import tqdm\n",
    "from time import sleep"
   ]
  },
  {
   "cell_type": "code",
   "execution_count": 4,
   "metadata": {},
   "outputs": [
    {
     "name": "stdout",
     "output_type": "stream",
     "text": [
      "\u001b[34mbee_flowers_data\u001b[m\u001b[m                   json_to_amazon_ground_truth.ipynb\n",
      "example_video.mp4                  \u001b[34mmosaic_data\u001b[m\u001b[m\n",
      "\u001b[34mfinal_data+synth+mosaic\u001b[m\u001b[m            mosaic_data_augmentation.ipynb\n",
      "\u001b[34mfinal_data+synth+mosaic_rebalanced\u001b[m\u001b[m \u001b[34mother_noinsect\u001b[m\u001b[m\n",
      "flickr_api_key.json                \u001b[34mraw\u001b[m\u001b[m\n",
      "flickr_dataset_collection.ipynb    \u001b[34msynthetic_data\u001b[m\u001b[m\n",
      "\u001b[34mflowers_data\u001b[m\u001b[m                       \u001b[34mvideo_data\u001b[m\u001b[m\n"
     ]
    }
   ],
   "source": [
    "!ls"
   ]
  },
  {
   "cell_type": "code",
   "execution_count": 5,
   "metadata": {},
   "outputs": [],
   "source": [
    "with open(\"./video_data/bees_demo1_AWS_split/via_export_json_AWS.json\") as json_file: #read annotation data\n",
    "    annotation_data = json.load(json_file)\n",
    "json_file.close()"
   ]
  },
  {
   "cell_type": "code",
   "execution_count": 8,
   "metadata": {},
   "outputs": [],
   "source": [
    "#annotation_data"
   ]
  },
  {
   "cell_type": "code",
   "execution_count": 11,
   "metadata": {},
   "outputs": [],
   "source": [
    "bee_entry_names = [name for name in annotation_data]"
   ]
  },
  {
   "cell_type": "code",
   "execution_count": 25,
   "metadata": {},
   "outputs": [
    {
     "data": {
      "text/plain": [
       "'bees_demo1_frame1.jpg'"
      ]
     },
     "execution_count": 25,
     "metadata": {},
     "output_type": "execute_result"
    }
   ],
   "source": [
    "annotation_data[bee_entry_names[1]]['filename']"
   ]
  },
  {
   "cell_type": "code",
   "execution_count": 50,
   "metadata": {},
   "outputs": [],
   "source": [
    "def get_bb_anno(height, width, x, y, ID):\n",
    "    bb_anno = {\"height\":height,\"width\":width,\"top\":y + height,\"left\":x,\"class-id\":\"0\",\n",
    "           \"label-category-attributes\":{},\n",
    "           \"object-id\":\"%04dfc20-e807-11eb-8483-47df3d5f0ebb\" % ID,\n",
    "           \"object-name\":f\"bee:{ID}\"}\n",
    "    return bb_anno"
   ]
  },
  {
   "cell_type": "code",
   "execution_count": 51,
   "metadata": {},
   "outputs": [],
   "source": [
    "def get_regions(regions):\n",
    "    bee_ID = 1\n",
    "    annots = []\n",
    "    for region in regions:\n",
    "        attr = region['shape_attributes']\n",
    "        x = attr[\"x\"]\n",
    "        y = attr[\"y\"]\n",
    "        width = attr[\"width\"]\n",
    "        height = attr[\"height\"]\n",
    "        annots.append(get_bb_anno(height, width, x, y, bee_ID))\n",
    "        bee_ID += 1\n",
    "    return annots"
   ]
  },
  {
   "cell_type": "code",
   "execution_count": 52,
   "metadata": {},
   "outputs": [],
   "source": [
    "frame_no = 0\n",
    "frame_annots = []\n",
    "for name in bee_entry_names:\n",
    "    filename = annotation_data[name]['filename']\n",
    "    regions = annotation_data[name]['regions']\n",
    "    frame_anno = {\"annotations\": get_regions(regions),\n",
    "    \"frame-no\":f\"{frame_no}\",\n",
    "    \"frame\":\"bee_video_frame%03d.jpg\" % frame_no,\n",
    "    \"frame-attributes\":{}}\n",
    "    frame_annots.append(frame_anno)\n",
    "    frame_no += 1"
   ]
  },
  {
   "cell_type": "code",
   "execution_count": 55,
   "metadata": {},
   "outputs": [
    {
     "data": {
      "text/plain": [
       "{'annotations': [{'height': 46,\n",
       "   'width': 49,\n",
       "   'top': 539,\n",
       "   'left': 387,\n",
       "   'class-id': '0',\n",
       "   'label-category-attributes': {},\n",
       "   'object-id': '0001fc20-e807-11eb-8483-47df3d5f0ebb',\n",
       "   'object-name': 'bee:1'},\n",
       "  {'height': 50,\n",
       "   'width': 67,\n",
       "   'top': 204,\n",
       "   'left': 303,\n",
       "   'class-id': '0',\n",
       "   'label-category-attributes': {},\n",
       "   'object-id': '0002fc20-e807-11eb-8483-47df3d5f0ebb',\n",
       "   'object-name': 'bee:2'},\n",
       "  {'height': 49,\n",
       "   'width': 41,\n",
       "   'top': 376,\n",
       "   'left': 677,\n",
       "   'class-id': '0',\n",
       "   'label-category-attributes': {},\n",
       "   'object-id': '0003fc20-e807-11eb-8483-47df3d5f0ebb',\n",
       "   'object-name': 'bee:3'},\n",
       "  {'height': 35,\n",
       "   'width': 38,\n",
       "   'top': 372,\n",
       "   'left': 589,\n",
       "   'class-id': '0',\n",
       "   'label-category-attributes': {},\n",
       "   'object-id': '0004fc20-e807-11eb-8483-47df3d5f0ebb',\n",
       "   'object-name': 'bee:4'},\n",
       "  {'height': 32,\n",
       "   'width': 77,\n",
       "   'top': 33,\n",
       "   'left': 120,\n",
       "   'class-id': '0',\n",
       "   'label-category-attributes': {},\n",
       "   'object-id': '0005fc20-e807-11eb-8483-47df3d5f0ebb',\n",
       "   'object-name': 'bee:5'}],\n",
       " 'frame-no': '0',\n",
       " 'frame': 'bee_video_frame000.jpg',\n",
       " 'frame-attributes': {}}"
      ]
     },
     "execution_count": 55,
     "metadata": {},
     "output_type": "execute_result"
    }
   ],
   "source": [
    "frame_annots[0]"
   ]
  },
  {
   "cell_type": "code",
   "execution_count": 58,
   "metadata": {},
   "outputs": [],
   "source": [
    "final_frame_annot_dict = {\"tracking-annotations\":frame_annots}"
   ]
  },
  {
   "cell_type": "code",
   "execution_count": 62,
   "metadata": {},
   "outputs": [],
   "source": [
    "with open(\"./video_data/bees_demo1_AWS_split/SeqLabel.json\", \"w\") as file:\n",
    "    json.dump(final_frame_annot_dict, file)"
   ]
  },
  {
   "cell_type": "code",
   "execution_count": null,
   "metadata": {},
   "outputs": [],
   "source": [
    "{\"tracking-annotations\":[\n",
    "    {\"annotations\":[{\"height\":34,\"width\":45,\"top\":102,\"left\":512,\"class-id\":\"0\",\"label-category-attributes\":{\"ID\":\"0\"},\"object-id\":\"245d4700-e807-11eb-8483-47df3d5f0ebb\",\"object-name\":\"bee:1\"},{\"height\":41,\"width\":32,\"top\":333,\"left\":591,\"class-id\":\"0\",\"label-category-attributes\":{},\"object-id\":\"2dddfc70-e807-11eb-8483-47df3d5f0ebb\",\"object-name\":\"bee:2\"},{\"height\":50,\"width\":39,\"top\":331,\"left\":677,\"class-id\":\"0\",\"label-category-attributes\":{},\"object-id\":\"34752680-e807-11eb-8483-47df3d5f0ebb\",\"object-name\":\"bee:3\"},{\"height\":50,\"width\":66,\"top\":67,\"left\":982,\"class-id\":\"0\",\"label-category-attributes\":{},\"object-id\":\"427dfc20-e807-11eb-8483-47df3d5f0ebb\",\"object-name\":\"bee:4\"}],\n",
    "    \"frame-no\":\"1\",\n",
    "    \"frame\":\"bees_demo1_frame1.jpg\",\n",
    "    \"frame-attributes\":{}},\n",
    "    {\"annotations\":[{\"height\":32,\"width\":42,\"top\":95,\"left\":495,\"class-id\":\"0\",\"label-category-attributes\":{\"ID\":\"0\"},\"object-id\":\"245d4700-e807-11eb-8483-47df3d5f0ebb\",\"object-name\":\"bee:1\"},{\"height\":41,\"width\":32,\"top\":331,\"left\":590,\"class-id\":\"0\",\"label-category-attributes\":{},\"object-id\":\"2dddfc70-e807-11eb-8483-47df3d5f0ebb\",\"object-name\":\"bee:2\"},{\"height\":49,\"width\":38,\"top\":331,\"left\":676,\"class-id\":\"0\",\"label-category-attributes\":{},\"object-id\":\"34752680-e807-11eb-8483-47df3d5f0ebb\",\"object-name\":\"bee:3\"}],\"frame-no\":\"2\",\"frame\":\"bees_demo1_frame10.jpg\",\"frame-attributes\":{}},\n",
    "    {\"annotations\":[{\"height\":34,\"width\":45,\"top\":102,\"left\":512,\"class-id\":\"0\",\"label-category-attributes\":{\"ID\":\"0\"},\"object-id\":\"245d4700-e807-11eb-8483-47df3d5f0ebb\",\"object-name\":\"bee:1\"},{\"height\":41,\"width\":32,\"top\":333,\"left\":591,\"class-id\":\"0\",\"label-category-attributes\":{},\"object-id\":\"2dddfc70-e807-11eb-8483-47df3d5f0ebb\",\"object-name\":\"bee:2\"},{\"height\":50,\"width\":39,\"top\":331,\"left\":677,\"class-id\":\"0\",\"label-category-attributes\":{},\"object-id\":\"34752680-e807-11eb-8483-47df3d5f0ebb\",\"object-name\":\"bee:3\"},{\"height\":50,\"width\":66,\"top\":67,\"left\":982,\"class-id\":\"0\",\"label-category-attributes\":{},\"object-id\":\"427dfc20-e807-11eb-8483-47df3d5f0ebb\",\"object-name\":\"bee:4\"}],\"frame-no\":\"3\",\"frame\":\"bees_demo1_frame100.jpg\",\"frame-attributes\":{}}\n",
    "]}\n"
   ]
  },
  {
   "cell_type": "code",
   "execution_count": null,
   "metadata": {},
   "outputs": [],
   "source": []
  }
 ],
 "metadata": {
  "kernelspec": {
   "display_name": "aiss",
   "language": "python",
   "name": "aiss"
  },
  "language_info": {
   "codemirror_mode": {
    "name": "ipython",
    "version": 3
   },
   "file_extension": ".py",
   "mimetype": "text/x-python",
   "name": "python",
   "nbconvert_exporter": "python",
   "pygments_lexer": "ipython3",
   "version": "3.8.10"
  }
 },
 "nbformat": 4,
 "nbformat_minor": 4
}
