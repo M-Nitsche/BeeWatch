{
 "cells": [
  {
   "cell_type": "markdown",
   "metadata": {
    "colab_type": "text",
    "id": "view-in-github"
   },
   "source": [
    "<a href=\"https://colab.research.google.com/github/M-Nitsche/BeeWatch/blob/main/dataset/flickr_dataset_collection.ipynb\" target=\"_parent\"><img src=\"https://colab.research.google.com/assets/colab-badge.svg\" alt=\"Open In Colab\"/></a>"
   ]
  },
  {
   "cell_type": "markdown",
   "metadata": {
    "id": "WtVpuSKkhmEr"
   },
   "source": [
    "# Collect dataset by flickr website"
   ]
  },
  {
   "cell_type": "code",
   "execution_count": 25,
   "metadata": {
    "colab": {
     "base_uri": "https://localhost:8080/"
    },
    "id": "lIMJaRP3g82u",
    "outputId": "5fcb7904-1ab4-46e9-d53e-2b36178f9eac"
   },
   "outputs": [],
   "source": [
    "#!pip install flickrapi"
   ]
  },
  {
   "cell_type": "code",
   "execution_count": 7,
   "metadata": {
    "id": "JIpv2-JYhBE2"
   },
   "outputs": [],
   "source": [
    "from flickrapi import FlickrAPI\n",
    "\n",
    "import requests\n",
    "import json\n",
    "import os\n",
    "import sys\n",
    "import time"
   ]
  },
  {
   "cell_type": "code",
   "execution_count": 8,
   "metadata": {},
   "outputs": [
    {
     "name": "stdout",
     "output_type": "stream",
     "text": [
      "dict_keys(['KEY', 'SECRET'])\n"
     ]
    }
   ],
   "source": [
    "with open('flickr_api_key.json', 'r') as f:\n",
    "    api_keys = json.load(f)\n",
    "print(api_keys.keys())"
   ]
  },
  {
   "cell_type": "code",
   "execution_count": 9,
   "metadata": {
    "id": "b3Rn5paqhKEd"
   },
   "outputs": [],
   "source": [
    "KEY = api_keys['KEY']\n",
    "SECRET = api_keys.get('SECRET')\n",
    "\n",
    "SIZES = [\"url_l\", \"url_c\"]  #size of downloaded images (1024 × 732) or (800, 572); other sizes are: \"url_o\", \"url_k\", \"url_h\""
   ]
  },
  {
   "cell_type": "code",
   "execution_count": 10,
   "metadata": {
    "id": "YQMrBRtvhLFi"
   },
   "outputs": [],
   "source": [
    "def get_photos(image_tag):\n",
    "    extras = ','.join(SIZES)\n",
    "    flickr = FlickrAPI(KEY, SECRET)\n",
    "    photos = flickr.walk(text=image_tag, \n",
    "                            extras=extras, \n",
    "                            privacy_filter=1,  # search only for public photos with creative common licence\n",
    "                            per_page=50,\n",
    "                            sort='relevance')\n",
    "    return photos"
   ]
  },
  {
   "cell_type": "code",
   "execution_count": 11,
   "metadata": {},
   "outputs": [],
   "source": [
    "def get_url(photo):\n",
    "    for i in range(len(SIZES)):\n",
    "        url = photo.get(SIZES[i])\n",
    "        if url: \n",
    "            return url"
   ]
  },
  {
   "cell_type": "code",
   "execution_count": 12,
   "metadata": {},
   "outputs": [],
   "source": [
    "def get_urls(image_tag, max):\n",
    "    photos = get_photos(image_tag)\n",
    "    counter=0\n",
    "    urls=[]\n",
    "\n",
    "    for photo in photos:\n",
    "        if counter < max:\n",
    "            url = get_url(photo) \n",
    "            if url:\n",
    "                urls.append(url)\n",
    "                counter += 1\n",
    "        else:\n",
    "            break\n",
    "\n",
    "    return urls"
   ]
  },
  {
   "cell_type": "code",
   "execution_count": 13,
   "metadata": {},
   "outputs": [],
   "source": [
    "def create_folder(path):\n",
    "    if not os.path.isdir(path):\n",
    "        os.makedirs(path)"
   ]
  },
  {
   "cell_type": "code",
   "execution_count": 14,
   "metadata": {},
   "outputs": [],
   "source": [
    "def download_images(urls, path):\n",
    "    create_folder(path)  # makes sure path exists\n",
    "\n",
    "    for url in urls:\n",
    "        image_name = url.split(\"/\")[-1]\n",
    "        image_path = os.path.join(path, image_name)\n",
    "\n",
    "        if not os.path.isfile(image_path):  # ignore if already downloaded\n",
    "            response=requests.get(url,stream=True)\n",
    "\n",
    "            with open(image_path,'wb') as outfile:\n",
    "                outfile.write(response.content)"
   ]
  },
  {
   "cell_type": "code",
   "execution_count": 15,
   "metadata": {},
   "outputs": [],
   "source": [
    "def download(image_tag, no_of_images = 10, folder_name=None):\n",
    "    start_time = time.time()\n",
    "    print('Getting urls for:', image_tag)\n",
    "    urls = get_urls(image_tag, no_of_images)\n",
    "\n",
    "    print('Downloading images for', image_tag)\n",
    "    if folder_name:\n",
    "        path = os.path.join(folder_name.replace(\" \", \"-\") + \"_data\")\n",
    "    else:\n",
    "        path = os.path.join(image_tag.replace(\" \", \"_\") + \"_data\")\n",
    "\n",
    "    download_images(urls, path)\n",
    "    print('Took', round(time.time() - start_time, 2), 'seconds')"
   ]
  },
  {
   "cell_type": "markdown",
   "metadata": {},
   "source": [
    "Collect bees on flower dataset: [Flickr](https://www.flickr.com/search/?media=photos&advanced=1&text=)"
   ]
  },
  {
   "cell_type": "code",
   "execution_count": 60,
   "metadata": {},
   "outputs": [
    {
     "name": "stdout",
     "output_type": "stream",
     "text": [
      "Getting urls for: bee flowers\n",
      "Downloading images for bee flowers\n",
      "Took 0.4 seconds\n"
     ]
    }
   ],
   "source": [
    "download('bee flowers', no_of_images=1000)"
   ]
  },
  {
   "cell_type": "markdown",
   "metadata": {},
   "source": [
    "[Mosaic Augmentation](https://iopscience.iop.org/article/10.1088/1742-6596/1684/1/012094/pdf)"
   ]
  },
  {
   "cell_type": "code",
   "execution_count": 17,
   "metadata": {},
   "outputs": [
    {
     "name": "stdout",
     "output_type": "stream",
     "text": [
      "Getting urls for: flower bushes\n",
      "Downloading images for flower bushes\n",
      "Took 502.35 seconds\n"
     ]
    }
   ],
   "source": [
    "download('flower bushes', no_of_images=1000)"
   ]
  },
  {
   "cell_type": "code",
   "execution_count": 16,
   "metadata": {},
   "outputs": [
    {
     "name": "stdout",
     "output_type": "stream",
     "text": [
      "Getting urls for: flowers\n",
      "Downloading images for flowers\n",
      "Took 460.2 seconds\n"
     ]
    }
   ],
   "source": [
    "download('flowers', no_of_images=1000)"
   ]
  },
  {
   "cell_type": "code",
   "execution_count": 66,
   "metadata": {},
   "outputs": [
    {
     "name": "stdout",
     "output_type": "stream",
     "text": [
      "Getting urls for: blumen\n",
      "Downloading images for blumen\n",
      "Took 0.37 seconds\n"
     ]
    }
   ],
   "source": [
    "#download('blumen', no_of_images=10, folder_name=\"flowers\")"
   ]
  },
  {
   "cell_type": "code",
   "execution_count": null,
   "metadata": {},
   "outputs": [],
   "source": []
  },
  {
   "cell_type": "code",
   "execution_count": null,
   "metadata": {},
   "outputs": [],
   "source": []
  },
  {
   "cell_type": "code",
   "execution_count": null,
   "metadata": {},
   "outputs": [],
   "source": []
  },
  {
   "cell_type": "code",
   "execution_count": null,
   "metadata": {},
   "outputs": [],
   "source": []
  },
  {
   "cell_type": "code",
   "execution_count": null,
   "metadata": {},
   "outputs": [],
   "source": []
  },
  {
   "cell_type": "code",
   "execution_count": null,
   "metadata": {},
   "outputs": [],
   "source": []
  },
  {
   "cell_type": "markdown",
   "metadata": {},
   "source": [
    "Ref: https://medium.com/@adrianmrit/creating-simple-image-datasets-with-flickr-api-2f19c164d82f"
   ]
  }
 ],
 "metadata": {
  "colab": {
   "authorship_tag": "ABX9TyMmtpcceOjR1CA6upgvwPWm",
   "collapsed_sections": [],
   "include_colab_link": true,
   "name": "Untitled",
   "provenance": []
  },
  "kernelspec": {
   "display_name": "aiss",
   "language": "python",
   "name": "aiss"
  },
  "language_info": {
   "codemirror_mode": {
    "name": "ipython",
    "version": 3
   },
   "file_extension": ".py",
   "mimetype": "text/x-python",
   "name": "python",
   "nbconvert_exporter": "python",
   "pygments_lexer": "ipython3",
   "version": "3.8.10"
  }
 },
 "nbformat": 4,
 "nbformat_minor": 4
}
