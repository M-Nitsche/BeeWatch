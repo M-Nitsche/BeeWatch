{
 "cells": [
  {
   "cell_type": "code",
   "execution_count": 5,
   "id": "c019bd82-6668-4daa-9ab6-8e97f6eb9dda",
   "metadata": {},
   "outputs": [],
   "source": [
    "import os\n",
    "import os.path as path"
   ]
  },
  {
   "cell_type": "code",
   "execution_count": 10,
   "id": "42e56dcb-0cbd-4661-87c9-692b1ba38fa1",
   "metadata": {},
   "outputs": [
    {
     "name": "stdout",
     "output_type": "stream",
     "text": [
      "Not running on CoLab\n",
      "Working directory set to: /Users/maximiliannitsche/KIT/AISS - CV/BeeWatch\n"
     ]
    }
   ],
   "source": [
    "if 'google.colab' in str(get_ipython()):\n",
    "    print('Running on CoLab')\n",
    "    is_colab = True\n",
    "\n",
    "    from google.colab import drive\n",
    "    cwdir = \"drive/My Drive\"\n",
    "    drive.mount(\"/content/drive\")\n",
    "    os.chdir(cwdir)\n",
    "\n",
    "    synthetic_data_dir = \"./data/synthetic_data\"\n",
    "else:\n",
    "    print('Not running on CoLab')\n",
    "    is_colab = False\n",
    "    \n",
    "    if os.path.basename(os.path.normpath(os.getcwd())) != \"BeeWatch\":\n",
    "        os.chdir('..')\n",
    "        cw_dir = os.getcwd()\n",
    "        \n",
    "    synthetic_data_dir = \"./dataset/synthetic_data\"\n",
    "\n",
    "    \n",
    "annotation_path = path.join(synthetic_data_dir, \"annots\")\n",
    "images_path = path.join(synthetic_data_dir, \"images\")\n",
    "\n",
    "print(f\"Working directory set to: {os.getcwd()}\")"
   ]
  },
  {
   "cell_type": "code",
   "execution_count": 11,
   "id": "6800f3cb-aeca-4cb6-8e3a-6b4a956847f0",
   "metadata": {},
   "outputs": [],
   "source": [
    "import sys  \n",
    "sys.path.insert(0, '../src/')\n",
    "\n",
    "from create_synthetic_data import run_create_synthetic_images \n",
    "from config_dataset import BeeConfig"
   ]
  },
  {
   "cell_type": "code",
   "execution_count": 13,
   "id": "499720ad-ac38-456d-8ed0-e3372602b60c",
   "metadata": {},
   "outputs": [
    {
     "name": "stdout",
     "output_type": "stream",
     "text": [
      "root is /Users/maximiliannitsche/KIT/AISS - CV/BeeWatch/\n",
      "Successfully deleted the directory /Users/maximiliannitsche/KIT/AISS - CV/BeeWatch/dataset/synthetic_data/images\n",
      "Successfully created the directory /Users/maximiliannitsche/KIT/AISS - CV/BeeWatch/dataset/synthetic_data/images\n",
      "Successfully deleted the directory /Users/maximiliannitsche/KIT/AISS - CV/BeeWatch/dataset/synthetic_data/annots\n",
      "Successfully created the directory /Users/maximiliannitsche/KIT/AISS - CV/BeeWatch/dataset/synthetic_data/annots\n",
      "Create images (known classes):\n",
      "Created Label map: /Users/maximiliannitsche/KIT/AISS - CV/BeeWatch/dataset/synthetic_data/label_map.json\n",
      "Saving Annotations in Pascal VOC Format\n",
      "Done! Created 500 synthetic training images (known classes).\n"
     ]
    }
   ],
   "source": [
    "bee_config = BeeConfig(name='training', num_images=500, label_map='label_map', root=os.getcwd())\n",
    "run_create_synthetic_images(config=bee_config)"
   ]
  },
  {
   "cell_type": "code",
   "execution_count": null,
   "id": "10a17347-0557-43a0-83b3-4891052c3756",
   "metadata": {},
   "outputs": [],
   "source": []
  }
 ],
 "metadata": {
  "kernelspec": {
   "display_name": "aiss",
   "language": "python",
   "name": "aiss"
  },
  "language_info": {
   "codemirror_mode": {
    "name": "ipython",
    "version": 3
   },
   "file_extension": ".py",
   "mimetype": "text/x-python",
   "name": "python",
   "nbconvert_exporter": "python",
   "pygments_lexer": "ipython3",
   "version": "3.8.10"
  }
 },
 "nbformat": 4,
 "nbformat_minor": 5
}
